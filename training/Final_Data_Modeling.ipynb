{
  "cells": [
    {
      "cell_type": "markdown",
      "metadata": {
        "id": "728FJfUWp7u_"
      },
      "source": [
        "# LightGBM"
      ]
    },
    {
      "cell_type": "code",
      "execution_count": 1,
      "metadata": {
        "colab": {
          "base_uri": "https://localhost:8080/"
        },
        "id": "O_JclOZro-J1",
        "outputId": "5c140e9f-6b96-4c6d-cad2-5324a4aaa8d5"
      },
      "outputs": [
        {
          "output_type": "stream",
          "name": "stdout",
          "text": [
            "Mounted at /content/drive\n"
          ]
        }
      ],
      "source": [
        "from google.colab import drive\n",
        "drive.mount('/content/drive')"
      ]
    },
    {
      "cell_type": "code",
      "execution_count": 14,
      "metadata": {
        "id": "wnH3bDm3p7yY"
      },
      "outputs": [],
      "source": [
        "import numpy as np\n",
        "import pandas as pd\n",
        "import matplotlib.pyplot as plt\n",
        "\n",
        "### 데이터 로딩 ###\n",
        "dataset = pd.read_csv('/content/drive/MyDrive/빅데이터 팀플/dementia_analytics/data_processing/dataset_05/dataset_with_label_fill_user_mean.csv')\n",
        "data_output = dataset[['DIAG_NM']]\n",
        "# data_input에서 score 가 들어가는 column 등 필요 없는 column 제거\n",
        "data_input = dataset.drop(['DIAG_NM', 'ID', 'date'], axis=1)\n",
        "columns_to_drop = [col for col in data_input.columns if 'score' in col]\n",
        "data_input = data_input[['sleep_breath_average', 'sleep_hr_average', 'sleep_hr_lowest', 'sleep_deep', 'sleep_rem', 'activity_cal_total', 'sleep_awake', 'activity_steps', 'activity_total', 'sleep_duration', 'activity_daily_movement']]\n",
        "# KeyError: \"['sleep_bedtime_end', 'sleep_bedtime_start', 'sleep_hr_5min'] not in index\"\n",
        "#'activity_cal_active', \n",
        "#  'activity_met_min_inactive', 'activity_high', 'sleep_efficiency', 'activity_rest', 'activity_met_min_low', 'activity_inactive', 'activity_medium', 'activity_low', 'activity_met_min_medium', 'activity_met_min_high'"
      ]
    },
    {
      "cell_type": "code",
      "execution_count": 15,
      "metadata": {
        "id": "Gx4pvL26cY0Y"
      },
      "outputs": [],
      "source": [
        "from sklearn.model_selection import train_test_split\n",
        "\n",
        "train_input, test_input, train_output, test_output = train_test_split(data_input, data_output, test_size=0.2, shuffle=True, stratify=data_output, random_state=42)"
      ]
    },
    {
      "cell_type": "code",
      "execution_count": 16,
      "metadata": {
        "id": "iyLwuT5Fzghh"
      },
      "outputs": [],
      "source": [
        "from sklearn.preprocessing import MinMaxScaler\n",
        "\n",
        "scaler = MinMaxScaler(feature_range=(0, 1))\n",
        "scaler_fit = scaler.fit(train_input)\n",
        "train_input = scaler_fit.transform(train_input)\n",
        "test_input = scaler_fit.transform(test_input)"
      ]
    },
    {
      "cell_type": "code",
      "execution_count": 17,
      "metadata": {
        "id": "9ijhKvNcomz5"
      },
      "outputs": [],
      "source": [
        "### 레이블 인코딩 ### \n",
        "\n",
        "# 트리 기반 알고리즘에서는 숫자의 크기에 따른 중요도 차이가 없어 레이블 인코딩 OK\n",
        "# 선형적 특징을 가지는 알고리즘들은 one hot encoding 통해 해결해야 함\n",
        "\n",
        "from sklearn.preprocessing import LabelEncoder\n",
        "\n",
        "# 라벨인코더 선언 및 Fitting\n",
        "# CN : 0, Dem : 1, MCI : 2\n",
        "items = ['CN', 'Dem', 'MCI']\n",
        "encoder = LabelEncoder()\n",
        "encoder = encoder.fit(items)\n",
        "\n",
        "# train\n",
        "train_output['DIAG_NM'] = encoder.transform(train_output['DIAG_NM'])\n",
        "# display(encoder.classes_)\n",
        "# display(encoder.inverse_transform(train_output['DIAG_NM']))\n",
        "\n",
        "# test\n",
        "test_output['DIAG_NM'] = encoder.transform(test_output['DIAG_NM'])"
      ]
    },
    {
      "cell_type": "code",
      "execution_count": null,
      "metadata": {
        "colab": {
          "base_uri": "https://localhost:8080/"
        },
        "id": "9Fb_agHvqgGF",
        "outputId": "53382fce-589a-4f59-ba3c-2d4b5ef30c62"
      },
      "outputs": [
        {
          "name": "stderr",
          "output_type": "stream",
          "text": [
            "/usr/local/lib/python3.10/dist-packages/sklearn/preprocessing/_label.py:99: DataConversionWarning: A column-vector y was passed when a 1d array was expected. Please change the shape of y to (n_samples, ), for example using ravel().\n",
            "  y = column_or_1d(y, warn=True)\n",
            "/usr/local/lib/python3.10/dist-packages/sklearn/preprocessing/_label.py:134: DataConversionWarning: A column-vector y was passed when a 1d array was expected. Please change the shape of y to (n_samples, ), for example using ravel().\n",
            "  y = column_or_1d(y, dtype=self.classes_.dtype, warn=True)\n",
            "/usr/local/lib/python3.10/dist-packages/sklearn/preprocessing/_label.py:134: DataConversionWarning: A column-vector y was passed when a 1d array was expected. Please change the shape of y to (n_samples, ), for example using ravel().\n",
            "  y = column_or_1d(y, dtype=self.classes_.dtype, warn=True)\n",
            "/usr/local/lib/python3.10/dist-packages/lightgbm/sklearn.py:726: UserWarning: 'early_stopping_rounds' argument is deprecated and will be removed in a future release of LightGBM. Pass 'early_stopping()' callback via 'callbacks' argument instead.\n",
            "  _log_warning(\"'early_stopping_rounds' argument is deprecated and will be removed in a future release of LightGBM. \"\n",
            "/usr/local/lib/python3.10/dist-packages/lightgbm/sklearn.py:736: UserWarning: 'verbose' argument is deprecated and will be removed in a future release of LightGBM. Pass 'log_evaluation()' callback via 'callbacks' argument instead.\n",
            "  _log_warning(\"'verbose' argument is deprecated and will be removed in a future release of LightGBM. \"\n"
          ]
        },
        {
          "name": "stdout",
          "output_type": "stream",
          "text": [
            "[1]\tvalid_0's multi_logloss: 0.799694\n",
            "[2]\tvalid_0's multi_logloss: 0.770445\n",
            "[3]\tvalid_0's multi_logloss: 0.747715\n",
            "[4]\tvalid_0's multi_logloss: 0.727776\n",
            "[5]\tvalid_0's multi_logloss: 0.710803\n",
            "[6]\tvalid_0's multi_logloss: 0.69435\n",
            "[7]\tvalid_0's multi_logloss: 0.67972\n",
            "[8]\tvalid_0's multi_logloss: 0.667242\n",
            "[9]\tvalid_0's multi_logloss: 0.656066\n",
            "[10]\tvalid_0's multi_logloss: 0.645608\n",
            "[11]\tvalid_0's multi_logloss: 0.636569\n",
            "[12]\tvalid_0's multi_logloss: 0.628278\n",
            "[13]\tvalid_0's multi_logloss: 0.620379\n",
            "[14]\tvalid_0's multi_logloss: 0.61281\n",
            "[15]\tvalid_0's multi_logloss: 0.606037\n",
            "[16]\tvalid_0's multi_logloss: 0.598316\n",
            "[17]\tvalid_0's multi_logloss: 0.593211\n",
            "[18]\tvalid_0's multi_logloss: 0.585605\n",
            "[19]\tvalid_0's multi_logloss: 0.579275\n",
            "[20]\tvalid_0's multi_logloss: 0.574746\n",
            "[21]\tvalid_0's multi_logloss: 0.569371\n",
            "[22]\tvalid_0's multi_logloss: 0.564516\n",
            "[23]\tvalid_0's multi_logloss: 0.560714\n",
            "[24]\tvalid_0's multi_logloss: 0.556618\n",
            "[25]\tvalid_0's multi_logloss: 0.552086\n",
            "[26]\tvalid_0's multi_logloss: 0.548314\n",
            "[27]\tvalid_0's multi_logloss: 0.545521\n",
            "[28]\tvalid_0's multi_logloss: 0.5423\n",
            "[29]\tvalid_0's multi_logloss: 0.539785\n",
            "[30]\tvalid_0's multi_logloss: 0.536631\n",
            "[31]\tvalid_0's multi_logloss: 0.533923\n",
            "[32]\tvalid_0's multi_logloss: 0.532159\n",
            "[33]\tvalid_0's multi_logloss: 0.530491\n",
            "[34]\tvalid_0's multi_logloss: 0.527479\n",
            "[35]\tvalid_0's multi_logloss: 0.525345\n",
            "[36]\tvalid_0's multi_logloss: 0.523077\n",
            "[37]\tvalid_0's multi_logloss: 0.521499\n",
            "[38]\tvalid_0's multi_logloss: 0.520017\n",
            "[39]\tvalid_0's multi_logloss: 0.518074\n",
            "[40]\tvalid_0's multi_logloss: 0.516913\n",
            "[41]\tvalid_0's multi_logloss: 0.513566\n",
            "[42]\tvalid_0's multi_logloss: 0.511669\n",
            "[43]\tvalid_0's multi_logloss: 0.509664\n",
            "[44]\tvalid_0's multi_logloss: 0.507645\n",
            "[45]\tvalid_0's multi_logloss: 0.506397\n",
            "[46]\tvalid_0's multi_logloss: 0.504791\n",
            "[47]\tvalid_0's multi_logloss: 0.502929\n",
            "[48]\tvalid_0's multi_logloss: 0.502334\n",
            "[49]\tvalid_0's multi_logloss: 0.501245\n",
            "[50]\tvalid_0's multi_logloss: 0.499945\n",
            "[51]\tvalid_0's multi_logloss: 0.498726\n",
            "[52]\tvalid_0's multi_logloss: 0.497374\n",
            "[53]\tvalid_0's multi_logloss: 0.495988\n",
            "[54]\tvalid_0's multi_logloss: 0.495219\n",
            "[55]\tvalid_0's multi_logloss: 0.494708\n",
            "[56]\tvalid_0's multi_logloss: 0.493473\n",
            "[57]\tvalid_0's multi_logloss: 0.492411\n",
            "[58]\tvalid_0's multi_logloss: 0.491585\n",
            "[59]\tvalid_0's multi_logloss: 0.490666\n",
            "[60]\tvalid_0's multi_logloss: 0.489988\n",
            "[61]\tvalid_0's multi_logloss: 0.488225\n",
            "[62]\tvalid_0's multi_logloss: 0.487214\n",
            "[63]\tvalid_0's multi_logloss: 0.485604\n",
            "[64]\tvalid_0's multi_logloss: 0.485098\n",
            "[65]\tvalid_0's multi_logloss: 0.48353\n",
            "[66]\tvalid_0's multi_logloss: 0.482481\n",
            "[67]\tvalid_0's multi_logloss: 0.481726\n",
            "[68]\tvalid_0's multi_logloss: 0.480792\n",
            "[69]\tvalid_0's multi_logloss: 0.480732\n",
            "[70]\tvalid_0's multi_logloss: 0.480123\n",
            "[71]\tvalid_0's multi_logloss: 0.4795\n",
            "[72]\tvalid_0's multi_logloss: 0.478622\n",
            "[73]\tvalid_0's multi_logloss: 0.477534\n",
            "[74]\tvalid_0's multi_logloss: 0.476503\n",
            "[75]\tvalid_0's multi_logloss: 0.475417\n",
            "[76]\tvalid_0's multi_logloss: 0.474979\n",
            "[77]\tvalid_0's multi_logloss: 0.473839\n",
            "[78]\tvalid_0's multi_logloss: 0.473449\n",
            "[79]\tvalid_0's multi_logloss: 0.472819\n",
            "[80]\tvalid_0's multi_logloss: 0.47217\n",
            "[81]\tvalid_0's multi_logloss: 0.472066\n",
            "[82]\tvalid_0's multi_logloss: 0.470964\n",
            "[83]\tvalid_0's multi_logloss: 0.47059\n",
            "[84]\tvalid_0's multi_logloss: 0.469931\n",
            "[85]\tvalid_0's multi_logloss: 0.46963\n",
            "[86]\tvalid_0's multi_logloss: 0.468504\n",
            "[87]\tvalid_0's multi_logloss: 0.468119\n",
            "[88]\tvalid_0's multi_logloss: 0.468197\n",
            "[89]\tvalid_0's multi_logloss: 0.467097\n",
            "[90]\tvalid_0's multi_logloss: 0.465883\n",
            "[91]\tvalid_0's multi_logloss: 0.465451\n",
            "[92]\tvalid_0's multi_logloss: 0.464752\n",
            "[93]\tvalid_0's multi_logloss: 0.464057\n",
            "[94]\tvalid_0's multi_logloss: 0.463977\n",
            "[95]\tvalid_0's multi_logloss: 0.463234\n",
            "[96]\tvalid_0's multi_logloss: 0.462325\n",
            "[97]\tvalid_0's multi_logloss: 0.461462\n",
            "[98]\tvalid_0's multi_logloss: 0.46071\n",
            "[99]\tvalid_0's multi_logloss: 0.460587\n",
            "[100]\tvalid_0's multi_logloss: 0.460037\n"
          ]
        }
      ],
      "source": [
        "### Light GBM ###\n",
        "from lightgbm import LGBMClassifier\n",
        "\n",
        "test_input = scaler_fit.transform(test_input)\n",
        "\n",
        "LGBM = LGBMClassifier()\n",
        "evals = [(test_input, test_output)]\n",
        "LGBM.fit(train_input, train_output, early_stopping_rounds=100, eval_metric='logloss', eval_set=evals, verbose=True)\n",
        "test_pred = LGBM.predict(test_input)\n",
        "train_pred = LGBM.predict(train_input)\n",
        "# pred_proba = LGBM.predict_proba(test_input)[:1]"
      ]
    },
    {
      "cell_type": "code",
      "execution_count": null,
      "metadata": {
        "colab": {
          "base_uri": "https://localhost:8080/"
        },
        "id": "laq1TasrexV_",
        "outputId": "564fa579-cb4b-4cd9-92b4-d3b2dbd3cab9"
      },
      "outputs": [
        {
          "name": "stdout",
          "output_type": "stream",
          "text": [
            "0.9276777875329236\n",
            "0.7866549604916594\n"
          ]
        }
      ],
      "source": [
        "from sklearn.metrics import accuracy_score\n",
        "\n",
        "print(accuracy_score(train_output, train_pred))\n",
        "print(accuracy_score(test_output, test_pred))"
      ]
    },
    {
      "cell_type": "code",
      "execution_count": null,
      "metadata": {
        "colab": {
          "base_uri": "https://localhost:8080/",
          "height": 430
        },
        "id": "53ZPhFbkjd8H",
        "outputId": "46f5bb38-e513-46ba-8692-6b061bdf36f7"
      },
      "outputs": [
        {
          "data": {
            "image/png": "[encoded data removed]",
            "text/plain": [
              "<Figure size 640x480 with 1 Axes>"
            ]
          },
          "metadata": {},
          "output_type": "display_data"
        }
      ],
      "source": [
        "plt.hist(test_output)\n",
        "plt.show()"
      ]
    },
    {
      "cell_type": "code",
      "execution_count": null,
      "metadata": {
        "colab": {
          "base_uri": "https://localhost:8080/",
          "height": 433
        },
        "id": "zcGYYVw5jiL9",
        "outputId": "c3ce8c86-bf6b-4192-d23a-92f3128debc5"
      },
      "outputs": [
        {
          "data": {
            "image/png": "[encoded data removed]",
            "text/plain": [
              "<Figure size 640x480 with 1 Axes>"
            ]
          },
          "metadata": {},
          "output_type": "display_data"
        }
      ],
      "source": [
        "plt.hist(test_pred)\n",
        "plt.show()"
      ]
    },
    {
      "cell_type": "code",
      "execution_count": null,
      "metadata": {
        "colab": {
          "base_uri": "https://localhost:8080/",
          "height": 1000
        },
        "id": "q2tLesBVqgI2",
        "outputId": "b2098d28-53ef-4097-9e8b-8c7ee0618c44"
      },
      "outputs": [
        {
          "data": {
            "text/plain": [
              "<function matplotlib.pyplot.show(close=None, block=None)>"
            ]
          },
          "execution_count": 10,
          "metadata": {},
          "output_type": "execute_result"
        },
        {
          "data": {
            "image/png": "[encoded data removed]",
            "text/plain": [
              "<Figure size 1000x1200 with 1 Axes>"
            ]
          },
          "metadata": {},
          "output_type": "display_data"
        }
      ],
      "source": [
        "from lightgbm import plot_importance\n",
        "import matplotlib.pyplot as plt\n",
        "\n",
        "fig, ax = plt.subplots(figsize=(10, 12))\n",
        "plot_importance(LGBM, ax=ax)\n",
        "plt.show"
      ]
    },
    {
      "cell_type": "code",
      "execution_count": null,
      "metadata": {
        "id": "IOLBKzGC3gUw"
      },
      "outputs": [],
      "source": [
        "### Light GBM  + GridSearchCV ###\n",
        "from sklearn.model_selection import GridSearchCV\n",
        "from sklearn.metrics import f1_score\n",
        "\n",
        "param_grid = {\n",
        "    'boosting_type': ['gbdt'],\n",
        "    'max_depth' : [1, 2, 3, 4, 5],\n",
        "    'num_leaves' : [3, 4, 5, 6, 7],\n",
        "    'learning_rate' : [0.03, 0.05, 1.0, 0.2, 0.3],\n",
        "    'objective' : ['multiclass'],\n",
        "    'metric' : ['multi_logloss'],\n",
        "    'colsample_bytree': [0.5, 0.6, 0.7, 0.8, 0.9, 1.0],\n",
        "    'subsample' : [0.5, 0.6, 0.7, 0.8, 0.9, 1.0],\n",
        "    'n_estimators' : [5, 10, 15, 20],\n",
        "    'num_class' : [1]\n",
        "}\n",
        "\n",
        "LGBM = LGBMClassifier()\n",
        "grid_cv = GridSearchCV(LGBM, param_grid=param_grid, cv=3, scoring='f1_micro', n_jobs=4)\n",
        "grid_cv.fit(train_input, train_output)\n",
        "\n",
        "print(grid_cv.best_params_) \n",
        "print(grid_cv.best_score_)\n",
        "train_preds = grid_cv.predict(train_input)\n",
        "test_preds = grid_cv.predict(test_input)\n",
        "train_f1 = f1_score(train_output, train_preds, average='micro')\n",
        "test_f1 = f1_score(test_output, test_preds, average='micro')\n",
        "# {'boosting_type': 'gbdt', 'colsample_bytree': 0.9, 'learning_rate': 0.03, 'max_depth': 3, 'metric': 'multi_logloss', 'n_estimators': 10, 'num_class': 1, 'num_leaves': 6, 'objective': 'multiclass', 'subsample': 0.5}\n",
        "print(\"Train F1 Score:\", train_f1) # Train F1 Score: 0.5991665728122536\n",
        "print(\"Test F1 Score:\", test_f1) # Test F1 Score: 0.7924195680916704"
      ]
    },
    {
      "cell_type": "code",
      "execution_count": null,
      "metadata": {
        "id": "HWtInZSN3gd2"
      },
      "outputs": [],
      "source": [
        "print(grid_cv.score(train_input, train_output)) # 0.5991665728122536\n",
        "print(grid_cv.score(test_input, test_output)) # 0.7924195680916704"
      ]
    },
    {
      "cell_type": "markdown",
      "metadata": {
        "id": "wtNboTT_8fRl"
      },
      "source": [
        "# XGBoost"
      ]
    },
    {
      "cell_type": "code",
      "execution_count": 18,
      "metadata": {
        "colab": {
          "base_uri": "https://localhost:8080/"
        },
        "id": "rRGQe_R28iqX",
        "outputId": "17af9fd8-6aac-49c0-b65b-be4bb9ec7c4c"
      },
      "outputs": [
        {
          "output_type": "stream",
          "name": "stdout",
          "text": [
            "1.0\n",
            "0.8129938542581212\n"
          ]
        }
      ],
      "source": [
        "from xgboost import XGBClassifier\n",
        "from sklearn.metrics import accuracy_score\n",
        "\n",
        "XGB = XGBClassifier(n_estimators=100, learning_rate=0.15, max_depth=15, random_state=42, colsample_bytree=0.8, gamma=0)\n",
        "\n",
        "XGB.fit(train_input, train_output)\n",
        "\n",
        "train_pred = XGB.predict(train_input)\n",
        "test_pred = XGB.predict(test_input)\n",
        "print(accuracy_score(train_pred, train_output))\n",
        "print(accuracy_score(test_pred, test_output))"
      ]
    },
    {
      "cell_type": "code",
      "execution_count": 19,
      "metadata": {
        "colab": {
          "base_uri": "https://localhost:8080/"
        },
        "id": "Uce4hUVbJ8Ae",
        "outputId": "e5e6c172-0c1f-4e58-8490-f0e7d05ccb7d"
      },
      "outputs": [
        {
          "output_type": "stream",
          "name": "stdout",
          "text": [
            "Accuracy: 0.8129938542581212\n",
            "Precision: 0.8420549170968195\n",
            "Recall: 0.7504858831366544\n",
            "F1 Score: 0.7872799913951146\n"
          ]
        }
      ],
      "source": [
        "from sklearn.metrics import accuracy_score, precision_score, recall_score, f1_score\n",
        "\n",
        "# 정확도 계산\n",
        "accuracy = accuracy_score(test_output, test_pred)\n",
        "print(\"Accuracy:\", accuracy)\n",
        "\n",
        "# 정밀도 계산\n",
        "precision = precision_score(test_output, test_pred, average='macro')\n",
        "print(\"Precision:\", precision)\n",
        "\n",
        "# 재현율 계산\n",
        "recall = recall_score(test_output, test_pred, average='macro')\n",
        "print(\"Recall:\", recall)\n",
        "\n",
        "# F1 스코어 계산\n",
        "f1 = f1_score(test_output, test_pred, average='macro')\n",
        "print(\"F1 Score:\", f1)"
      ]
    },
    {
      "cell_type": "code",
      "execution_count": null,
      "metadata": {
        "id": "notJoc8eogQf"
      },
      "outputs": [],
      "source": [
        "# import joblib\n",
        "\n",
        "# joblib.dump(scaler_fit, '/content/drive/MyDrive/빅데이터 팀플/model/xgb_scaler.pkl')"
      ]
    },
    {
      "cell_type": "code",
      "execution_count": null,
      "metadata": {
        "colab": {
          "base_uri": "https://localhost:8080/"
        },
        "id": "3SZJs61nfImL",
        "outputId": "e6382e73-6251-421c-be41-a141deeb6caa"
      },
      "outputs": [
        {
          "data": {
            "text/plain": [
              "['/content/drive/MyDrive/빅데이터 팀플/model/xgb_model.pkl']"
            ]
          },
          "execution_count": 11,
          "metadata": {},
          "output_type": "execute_result"
        }
      ],
      "source": [
        "# import joblib\n",
        "\n",
        "# joblib.dump(XGB, '/content/drive/MyDrive/빅데이터 팀플/model/xgb_model.pkl')"
      ]
    },
    {
      "cell_type": "code",
      "execution_count": 20,
      "metadata": {
        "colab": {
          "base_uri": "https://localhost:8080/",
          "height": 418
        },
        "id": "Mx4gaZzFEzop",
        "outputId": "0416cd9e-e5b1-409c-8241-b9503ef0de3a"
      },
      "outputs": [
        {
          "output_type": "stream",
          "name": "stdout",
          "text": [
            "Fitting 5 folds for each of 800 candidates, totalling 4000 fits\n",
            "best f1_macro :  0.7852\n",
            "best param :  {'colsample_bytree': 0.9, 'gamma': 0, 'learning_rate': 0.15, 'max_depth': 15, 'n_estimators': 500}\n"
          ]
        },
        {
          "output_type": "execute_result",
          "data": {
            "text/plain": [
              "                                                params  mean_test_score  \\\n",
              "499  {'colsample_bytree': 0.9, 'gamma': 0, 'learnin...         0.785166   \n",
              "498  {'colsample_bytree': 0.9, 'gamma': 0, 'learnin...         0.783941   \n",
              "468  {'colsample_bytree': 0.9, 'gamma': 0, 'learnin...         0.783110   \n",
              "494  {'colsample_bytree': 0.9, 'gamma': 0, 'learnin...         0.782861   \n",
              "497  {'colsample_bytree': 0.9, 'gamma': 0, 'learnin...         0.782832   \n",
              "469  {'colsample_bytree': 0.9, 'gamma': 0, 'learnin...         0.782653   \n",
              "474  {'colsample_bytree': 0.9, 'gamma': 0, 'learnin...         0.782488   \n",
              "492  {'colsample_bytree': 0.9, 'gamma': 0, 'learnin...         0.781899   \n",
              "493  {'colsample_bytree': 0.9, 'gamma': 0, 'learnin...         0.781881   \n",
              "94   {'colsample_bytree': 0.8, 'gamma': 0, 'learnin...         0.781742   \n",
              "\n",
              "     rank_test_score  \n",
              "499                1  \n",
              "498                2  \n",
              "468                3  \n",
              "494                4  \n",
              "497                5  \n",
              "469                6  \n",
              "474                7  \n",
              "492                8  \n",
              "493                9  \n",
              "94                10  "
            ],
            "text/html": [
              "\n",
              "  <div id=\"df-41666ea5-f9a0-43e3-a947-62c13e528ec4\">\n",
              "    <div class=\"colab-df-container\">\n",
              "      <div>\n",
              "<style scoped>\n",
              "    .dataframe tbody tr th:only-of-type {\n",
              "        vertical-align: middle;\n",
              "    }\n",
              "\n",
              "    .dataframe tbody tr th {\n",
              "        vertical-align: top;\n",
              "    }\n",
              "\n",
              "    .dataframe thead th {\n",
              "        text-align: right;\n",
              "    }\n",
              "</style>\n",
              "<table border=\"1\" class=\"dataframe\">\n",
              "  <thead>\n",
              "    <tr style=\"text-align: right;\">\n",
              "      <th></th>\n",
              "      <th>params</th>\n",
              "      <th>mean_test_score</th>\n",
              "      <th>rank_test_score</th>\n",
              "    </tr>\n",
              "  </thead>\n",
              "  <tbody>\n",
              "    <tr>\n",
              "      <th>499</th>\n",
              "      <td>{'colsample_bytree': 0.9, 'gamma': 0, 'learnin...</td>\n",
              "      <td>0.785166</td>\n",
              "      <td>1</td>\n",
              "    </tr>\n",
              "    <tr>\n",
              "      <th>498</th>\n",
              "      <td>{'colsample_bytree': 0.9, 'gamma': 0, 'learnin...</td>\n",
              "      <td>0.783941</td>\n",
              "      <td>2</td>\n",
              "    </tr>\n",
              "    <tr>\n",
              "      <th>468</th>\n",
              "      <td>{'colsample_bytree': 0.9, 'gamma': 0, 'learnin...</td>\n",
              "      <td>0.783110</td>\n",
              "      <td>3</td>\n",
              "    </tr>\n",
              "    <tr>\n",
              "      <th>494</th>\n",
              "      <td>{'colsample_bytree': 0.9, 'gamma': 0, 'learnin...</td>\n",
              "      <td>0.782861</td>\n",
              "      <td>4</td>\n",
              "    </tr>\n",
              "    <tr>\n",
              "      <th>497</th>\n",
              "      <td>{'colsample_bytree': 0.9, 'gamma': 0, 'learnin...</td>\n",
              "      <td>0.782832</td>\n",
              "      <td>5</td>\n",
              "    </tr>\n",
              "    <tr>\n",
              "      <th>469</th>\n",
              "      <td>{'colsample_bytree': 0.9, 'gamma': 0, 'learnin...</td>\n",
              "      <td>0.782653</td>\n",
              "      <td>6</td>\n",
              "    </tr>\n",
              "    <tr>\n",
              "      <th>474</th>\n",
              "      <td>{'colsample_bytree': 0.9, 'gamma': 0, 'learnin...</td>\n",
              "      <td>0.782488</td>\n",
              "      <td>7</td>\n",
              "    </tr>\n",
              "    <tr>\n",
              "      <th>492</th>\n",
              "      <td>{'colsample_bytree': 0.9, 'gamma': 0, 'learnin...</td>\n",
              "      <td>0.781899</td>\n",
              "      <td>8</td>\n",
              "    </tr>\n",
              "    <tr>\n",
              "      <th>493</th>\n",
              "      <td>{'colsample_bytree': 0.9, 'gamma': 0, 'learnin...</td>\n",
              "      <td>0.781881</td>\n",
              "      <td>9</td>\n",
              "    </tr>\n",
              "    <tr>\n",
              "      <th>94</th>\n",
              "      <td>{'colsample_bytree': 0.8, 'gamma': 0, 'learnin...</td>\n",
              "      <td>0.781742</td>\n",
              "      <td>10</td>\n",
              "    </tr>\n",
              "  </tbody>\n",
              "</table>\n",
              "</div>\n",
              "      <button class=\"colab-df-convert\" onclick=\"convertToInteractive('df-41666ea5-f9a0-43e3-a947-62c13e528ec4')\"\n",
              "              title=\"Convert this dataframe to an interactive table.\"\n",
              "              style=\"display:none;\">\n",
              "        \n",
              "  <svg xmlns=\"http://www.w3.org/2000/svg\" height=\"24px\"viewBox=\"0 0 24 24\"\n",
              "       width=\"24px\">\n",
              "    <path d=\"M0 0h24v24H0V0z\" fill=\"none\"/>\n",
              "    <path d=\"M18.56 5.44l.94 2.06.94-2.06 2.06-.94-2.06-.94-.94-2.06-.94 2.06-2.06.94zm-11 1L8.5 8.5l.94-2.06 2.06-.94-2.06-.94L8.5 2.5l-.94 2.06-2.06.94zm10 10l.94 2.06.94-2.06 2.06-.94-2.06-.94-.94-2.06-.94 2.06-2.06.94z\"/><path d=\"M17.41 7.96l-1.37-1.37c-.4-.4-.92-.59-1.43-.59-.52 0-1.04.2-1.43.59L10.3 9.45l-7.72 7.72c-.78.78-.78 2.05 0 2.83L4 21.41c.39.39.9.59 1.41.59.51 0 1.02-.2 1.41-.59l7.78-7.78 2.81-2.81c.8-.78.8-2.07 0-2.86zM5.41 20L4 18.59l7.72-7.72 1.47 1.35L5.41 20z\"/>\n",
              "  </svg>\n",
              "      </button>\n",
              "      \n",
              "  <style>\n",
              "    .colab-df-container {\n",
              "      display:flex;\n",
              "      flex-wrap:wrap;\n",
              "      gap: 12px;\n",
              "    }\n",
              "\n",
              "    .colab-df-convert {\n",
              "      background-color: #E8F0FE;\n",
              "      border: none;\n",
              "      border-radius: 50%;\n",
              "      cursor: pointer;\n",
              "      display: none;\n",
              "      fill: #1967D2;\n",
              "      height: 32px;\n",
              "      padding: 0 0 0 0;\n",
              "      width: 32px;\n",
              "    }\n",
              "\n",
              "    .colab-df-convert:hover {\n",
              "      background-color: #E2EBFA;\n",
              "      box-shadow: 0px 1px 2px rgba(60, 64, 67, 0.3), 0px 1px 3px 1px rgba(60, 64, 67, 0.15);\n",
              "      fill: #174EA6;\n",
              "    }\n",
              "\n",
              "    [theme=dark] .colab-df-convert {\n",
              "      background-color: #3B4455;\n",
              "      fill: #D2E3FC;\n",
              "    }\n",
              "\n",
              "    [theme=dark] .colab-df-convert:hover {\n",
              "      background-color: #434B5C;\n",
              "      box-shadow: 0px 1px 3px 1px rgba(0, 0, 0, 0.15);\n",
              "      filter: drop-shadow(0px 1px 2px rgba(0, 0, 0, 0.3));\n",
              "      fill: #FFFFFF;\n",
              "    }\n",
              "  </style>\n",
              "\n",
              "      <script>\n",
              "        const buttonEl =\n",
              "          document.querySelector('#df-41666ea5-f9a0-43e3-a947-62c13e528ec4 button.colab-df-convert');\n",
              "        buttonEl.style.display =\n",
              "          google.colab.kernel.accessAllowed ? 'block' : 'none';\n",
              "\n",
              "        async function convertToInteractive(key) {\n",
              "          const element = document.querySelector('#df-41666ea5-f9a0-43e3-a947-62c13e528ec4');\n",
              "          const dataTable =\n",
              "            await google.colab.kernel.invokeFunction('convertToInteractive',\n",
              "                                                     [key], {});\n",
              "          if (!dataTable) return;\n",
              "\n",
              "          const docLinkHtml = 'Like what you see? Visit the ' +\n",
              "            '<a target=\"_blank\" href=https://colab.research.google.com/notebooks/data_table.ipynb>data table notebook</a>'\n",
              "            + ' to learn more about interactive tables.';\n",
              "          element.innerHTML = '';\n",
              "          dataTable['output_type'] = 'display_data';\n",
              "          await google.colab.output.renderOutput(dataTable, element);\n",
              "          const docLink = document.createElement('div');\n",
              "          docLink.innerHTML = docLinkHtml;\n",
              "          element.appendChild(docLink);\n",
              "        }\n",
              "      </script>\n",
              "    </div>\n",
              "  </div>\n",
              "  "
            ]
          },
          "metadata": {},
          "execution_count": 20
        }
      ],
      "source": [
        "### XGBoost GridSearchCV ###\n",
        "from sklearn.model_selection import GridSearchCV\n",
        "from sklearn.metrics import f1_score\n",
        "\n",
        "xgb= XGBClassifier()\n",
        "\n",
        "xgb_param_grid={\n",
        "    'n_estimators' : [100,200,300,400,500],\n",
        "    'learning_rate' : [0.01,0.05,0.1,0.15],\n",
        "    'max_depth' : [3,5,7,10,15],\n",
        "    'gamma' : [0,1,2,3],\n",
        "    'colsample_bytree' : [0.8,0.9],\n",
        "    \n",
        "}\n",
        "\n",
        "xgb_grid=GridSearchCV(xgb, param_grid = xgb_param_grid, scoring=\"f1_macro\", n_jobs=-1, verbose = 2)\n",
        "xgb_grid.fit(train_input, train_output)\n",
        "\n",
        "#best f1_macro 수치와 best parameter확인\n",
        "print(\"best f1_macro : {0: .4f}\".format(xgb_grid.best_score_))\n",
        "print(\"best param : \",xgb_grid.best_params_)\n",
        "\n",
        "#dataframe으로 랭킹순보기\n",
        "result_df = pd.DataFrame(xgb_grid.cv_results_)\n",
        "result_df.sort_values(by=['rank_test_score'],inplace=True)\n",
        "\n",
        "#plot\n",
        "result_df[['params','mean_test_score','rank_test_score']].head(10)\n"
      ]
    },
    {
      "cell_type": "code",
      "execution_count": 21,
      "metadata": {
        "id": "7mhBVzNBFJXs",
        "colab": {
          "base_uri": "https://localhost:8080/"
        },
        "outputId": "ba768b2b-4c14-4e21-bc80-46050b088212"
      },
      "outputs": [
        {
          "output_type": "stream",
          "name": "stdout",
          "text": [
            "1.0\n",
            "0.8020239575298093\n"
          ]
        }
      ],
      "source": [
        "print(xgb_grid.score(train_input, train_output))\n",
        "print(xgb_grid.score(test_input, test_output)) \n"
      ]
    },
    {
      "cell_type": "code",
      "execution_count": 22,
      "metadata": {
        "id": "USFfDIKgLeJj",
        "colab": {
          "base_uri": "https://localhost:8080/"
        },
        "outputId": "c9be02f2-1098-467e-e525-8cfff0304c32"
      },
      "outputs": [
        {
          "output_type": "stream",
          "name": "stdout",
          "text": [
            "Accuracy: 0.8244073748902546\n",
            "Precision: 0.8416233659789031\n",
            "Recall: 0.7727108795832498\n",
            "F1 Score: 0.8020239575298093\n"
          ]
        }
      ],
      "source": [
        "from sklearn.metrics import accuracy_score, precision_score, recall_score, f1_score\n",
        "\n",
        "test_pred = xgb_grid.predict(test_input)\n",
        "\n",
        "# 정확도 계산\n",
        "accuracy = accuracy_score(test_output, test_pred)\n",
        "print(\"Accuracy:\", accuracy)\n",
        "\n",
        "# 정밀도 계산\n",
        "precision = precision_score(test_output, test_pred, average='macro')\n",
        "print(\"Precision:\", precision)\n",
        "\n",
        "# 재현율 계산\n",
        "recall = recall_score(test_output, test_pred, average='macro')\n",
        "print(\"Recall:\", recall)\n",
        "\n",
        "# F1 스코어 계산\n",
        "f1 = f1_score(test_output, test_pred, average='macro')\n",
        "print(\"F1 Score:\", f1)"
      ]
    },
    {
      "cell_type": "markdown",
      "metadata": {
        "id": "h2_8MmVH2yUo"
      },
      "source": [
        "# RandomForest"
      ]
    },
    {
      "cell_type": "code",
      "execution_count": null,
      "metadata": {
        "colab": {
          "base_uri": "https://localhost:8080/"
        },
        "id": "AzDW1QTr20HM",
        "outputId": "04b98f8a-48ce-4cc3-ef79-95b0cf8c9fc4"
      },
      "outputs": [
        {
          "name": "stderr",
          "output_type": "stream",
          "text": [
            "<ipython-input-19-b80fb5c6257e>:7: DataConversionWarning: A column-vector y was passed when a 1d array was expected. Please change the shape of y to (n_samples,), for example using ravel().\n",
            "  RF.fit(train_input, train_output)\n"
          ]
        },
        {
          "name": "stdout",
          "output_type": "stream",
          "text": [
            "1.0\n",
            "0.7848990342405618\n"
          ]
        }
      ],
      "source": [
        "### RandomForestClassifier ### \n",
        "\n",
        "from sklearn.ensemble import RandomForestClassifier\n",
        "\n",
        "RF = RandomForestClassifier(random_state=0, n_jobs=-1)\n",
        "\n",
        "RF.fit(train_input, train_output)\n",
        "\n",
        "print(RF.score(train_input, train_output))\n",
        "print(RF.score(test_input, test_output)) # 0.6751873071837814"
      ]
    },
    {
      "cell_type": "code",
      "execution_count": null,
      "metadata": {
        "colab": {
          "base_uri": "https://localhost:8080/"
        },
        "id": "VK3pxTmUKRS5",
        "outputId": "1da04c86-e02c-4fff-ece6-d1d3715f7e25"
      },
      "outputs": [
        {
          "name": "stdout",
          "output_type": "stream",
          "text": [
            "Accuracy: 0.7848990342405618\n",
            "Precision: 0.8315403139250638\n",
            "Recall: 0.7098051706747359\n",
            "F1 Score: 0.7546042797893552\n"
          ]
        }
      ],
      "source": [
        "from sklearn.metrics import accuracy_score, precision_score, recall_score, f1_score\n",
        "\n",
        "test_pred = RF.predict(test_input)\n",
        "\n",
        "# 정확도 계산\n",
        "accuracy = accuracy_score(test_output, test_pred)\n",
        "print(\"Accuracy:\", accuracy)\n",
        "\n",
        "# 정밀도 계산\n",
        "precision = precision_score(test_output, test_pred, average='macro')\n",
        "print(\"Precision:\", precision)\n",
        "\n",
        "# 재현율 계산\n",
        "recall = recall_score(test_output, test_pred, average='macro')\n",
        "print(\"Recall:\", recall)\n",
        "\n",
        "# F1 스코어 계산\n",
        "f1 = f1_score(test_output, test_pred, average='macro')\n",
        "print(\"F1 Score:\", f1)"
      ]
    },
    {
      "cell_type": "code",
      "execution_count": null,
      "metadata": {
        "colab": {
          "base_uri": "https://localhost:8080/",
          "height": 430
        },
        "id": "8T_SIBFV7xC4",
        "outputId": "eed0213e-d084-4c9b-abd4-e90c62fdacab"
      },
      "outputs": [
        {
          "data": {
            "image/png": "[encoded data removed]",
            "text/plain": [
              "<Figure size 640x480 with 1 Axes>"
            ]
          },
          "metadata": {},
          "output_type": "display_data"
        }
      ],
      "source": [
        "test_pred = RF.predict(test_input)\n",
        "plt.hist(test_pred)\n",
        "plt.show()"
      ]
    },
    {
      "cell_type": "code",
      "execution_count": null,
      "metadata": {
        "id": "trWCFMdL8DEJ"
      },
      "outputs": [],
      "source": [
        "### RandomForest GridSearchCV ### \n",
        "\n",
        "from sklearn.model_selection import GridSearchCV\n",
        "\n",
        "params ={\n",
        "    'n_estimators':[10, 100],\n",
        "    'max_depth':[6,8,10,12],\n",
        "    'min_samples_leaf':[8,12,18],\n",
        "    'min_samples_split':[8,16,20]\n",
        "}\n",
        "\n",
        "RF = RandomForestClassifier(random_state=0, n_jobs=-1)\n",
        "grid_cv = GridSearchCV(RF, param_grid=params, cv=2, n_jobs=-1)\n",
        "grid_cv.fit(train_input, train_output)\n",
        "print(grid_cv.score(train_input, train_output))\n",
        "print(grid_cv.score(test_input, test_output)) # 0.7236668135742618\n",
        "print(grid_cv.best_params_) # {'max_depth': 6, 'min_samples_leaf': 8, 'min_samples_split': 8, 'n_estimators': 10}"
      ]
    },
    {
      "cell_type": "markdown",
      "metadata": {
        "id": "8-lACjio3Cw-"
      },
      "source": [
        "# KNN"
      ]
    },
    {
      "cell_type": "code",
      "execution_count": null,
      "metadata": {
        "colab": {
          "base_uri": "https://localhost:8080/"
        },
        "id": "3CJwBNob273F",
        "outputId": "77867fe0-fe5b-4328-d817-d50f529e6d77"
      },
      "outputs": [
        {
          "name": "stderr",
          "output_type": "stream",
          "text": [
            "/usr/local/lib/python3.10/dist-packages/sklearn/neighbors/_classification.py:215: DataConversionWarning: A column-vector y was passed when a 1d array was expected. Please change the shape of y to (n_samples,), for example using ravel().\n",
            "  return self._fit(X, y)\n"
          ]
        },
        {
          "name": "stdout",
          "output_type": "stream",
          "text": [
            "0.8730245829675154\n",
            "0.7822651448639157\n"
          ]
        }
      ],
      "source": [
        "### KNN ###\n",
        "from sklearn.neighbors import KNeighborsClassifier\n",
        "KNN = KNeighborsClassifier(n_neighbors=3)\n",
        "KNN.fit(train_input, train_output)\n",
        "\n",
        "print(KNN.score(train_input, train_output))\n",
        "print(KNN.score(test_input, test_output))"
      ]
    },
    {
      "cell_type": "code",
      "execution_count": null,
      "metadata": {
        "colab": {
          "base_uri": "https://localhost:8080/"
        },
        "id": "TOQckWmYKdkJ",
        "outputId": "412bca5c-613d-4f6d-ed38-33366e00dddc"
      },
      "outputs": [
        {
          "name": "stdout",
          "output_type": "stream",
          "text": [
            "Accuracy: 0.7822651448639157\n",
            "Precision: 0.7806524723411624\n",
            "Recall: 0.7314065146323211\n",
            "F1 Score: 0.7531385038945523\n"
          ]
        }
      ],
      "source": [
        "from sklearn.metrics import accuracy_score, precision_score, recall_score, f1_score\n",
        "\n",
        "test_pred = KNN.predict(test_input)\n",
        "\n",
        "# 정확도 계산\n",
        "accuracy = accuracy_score(test_output, test_pred)\n",
        "print(\"Accuracy:\", accuracy)\n",
        "\n",
        "# 정밀도 계산\n",
        "precision = precision_score(test_output, test_pred, average='macro')\n",
        "print(\"Precision:\", precision)\n",
        "\n",
        "# 재현율 계산\n",
        "recall = recall_score(test_output, test_pred, average='macro')\n",
        "print(\"Recall:\", recall)\n",
        "\n",
        "# F1 스코어 계산\n",
        "f1 = f1_score(test_output, test_pred, average='macro')\n",
        "print(\"F1 Score:\", f1)"
      ]
    },
    {
      "cell_type": "markdown",
      "metadata": {
        "id": "v9cY6tYe3KaS"
      },
      "source": [
        "# Naive Bayes"
      ]
    },
    {
      "cell_type": "code",
      "execution_count": null,
      "metadata": {
        "colab": {
          "base_uri": "https://localhost:8080/"
        },
        "id": "A5YGs4Cd3Ipl",
        "outputId": "75c14f93-d180-4a8c-e979-9730ccd13660"
      },
      "outputs": [
        {
          "name": "stdout",
          "output_type": "stream",
          "text": [
            "0.5825285338015803\n",
            "0.5877963125548727\n"
          ]
        },
        {
          "name": "stderr",
          "output_type": "stream",
          "text": [
            "/usr/local/lib/python3.10/dist-packages/sklearn/utils/validation.py:1143: DataConversionWarning: A column-vector y was passed when a 1d array was expected. Please change the shape of y to (n_samples, ), for example using ravel().\n",
            "  y = column_or_1d(y, warn=True)\n"
          ]
        }
      ],
      "source": [
        "### Naive Bayes ### \n",
        "from sklearn.naive_bayes import GaussianNB\n",
        "from sklearn.metrics import accuracy_score\n",
        "\n",
        "GNB = GaussianNB()\n",
        "\n",
        "GNB.fit(train_input, train_output)\n",
        "train_pred = GNB.predict(train_input)\n",
        "test_pred = GNB.predict(test_input)\n",
        "print(accuracy_score(train_output, train_pred))\n",
        "print(accuracy_score(test_output, test_pred))"
      ]
    },
    {
      "cell_type": "code",
      "execution_count": null,
      "metadata": {
        "colab": {
          "base_uri": "https://localhost:8080/"
        },
        "id": "zQUK2zipKoOC",
        "outputId": "6c08cd2d-3772-4afd-89ac-6f54c1ab8f28"
      },
      "outputs": [
        {
          "name": "stdout",
          "output_type": "stream",
          "text": [
            "Accuracy: 0.5877963125548727\n",
            "Precision: 0.46481039050719025\n",
            "Recall: 0.44401108319761895\n",
            "F1 Score: 0.43385245538134615\n"
          ]
        }
      ],
      "source": [
        "from sklearn.metrics import accuracy_score, precision_score, recall_score, f1_score\n",
        "\n",
        "test_pred = GNB.predict(test_input)\n",
        "\n",
        "# 정확도 계산\n",
        "accuracy = accuracy_score(test_output, test_pred)\n",
        "print(\"Accuracy:\", accuracy)\n",
        "\n",
        "# 정밀도 계산\n",
        "precision = precision_score(test_output, test_pred, average='macro')\n",
        "print(\"Precision:\", precision)\n",
        "\n",
        "# 재현율 계산\n",
        "recall = recall_score(test_output, test_pred, average='macro')\n",
        "print(\"Recall:\", recall)\n",
        "\n",
        "# F1 스코어 계산\n",
        "f1 = f1_score(test_output, test_pred, average='macro')\n",
        "print(\"F1 Score:\", f1)"
      ]
    },
    {
      "cell_type": "markdown",
      "metadata": {
        "id": "ecRAdAN6lzAO"
      },
      "source": [
        "# Extra Trees Classifier|"
      ]
    },
    {
      "cell_type": "code",
      "execution_count": null,
      "metadata": {
        "colab": {
          "base_uri": "https://localhost:8080/"
        },
        "id": "zxpJ3Eea3P22",
        "outputId": "dc1028b1-53bf-4514-948f-e9d0e0d26738"
      },
      "outputs": [
        {
          "name": "stdout",
          "output_type": "stream",
          "text": [
            "1.0\n",
            "0.5992098331870062\n"
          ]
        },
        {
          "name": "stderr",
          "output_type": "stream",
          "text": [
            "/usr/local/lib/python3.10/dist-packages/sklearn/base.py:439: UserWarning: X does not have valid feature names, but MinMaxScaler was fitted with feature names\n",
            "  warnings.warn(\n",
            "<ipython-input-26-62a5a9d76433>:8: DataConversionWarning: A column-vector y was passed when a 1d array was expected. Please change the shape of y to (n_samples,), for example using ravel().\n",
            "  xtree.fit(train_input, train_output)\n"
          ]
        }
      ],
      "source": [
        "from sklearn.ensemble import ExtraTreesClassifier\n",
        "from sklearn.metrics import accuracy_score\n",
        "\n",
        "\n",
        "test_input = scaler_fit.transform(test_input)\n",
        "\n",
        "xtree = ExtraTreesClassifier(n_estimators=5, random_state=42)\n",
        "xtree.fit(train_input, train_output)\n",
        "\n",
        "train_pred = xtree.predict(train_input)\n",
        "test_pred = xtree.predict(test_input)\n",
        "print(accuracy_score(train_pred, train_output))\n",
        "print(accuracy_score(test_pred, test_output))"
      ]
    },
    {
      "cell_type": "code",
      "execution_count": null,
      "metadata": {
        "colab": {
          "base_uri": "https://localhost:8080/"
        },
        "id": "NQGJlAjfKw5b",
        "outputId": "e199eafa-e5be-4d75-9a4e-63ea69c42cc5"
      },
      "outputs": [
        {
          "name": "stdout",
          "output_type": "stream",
          "text": [
            "Accuracy: 0.5992098331870062\n",
            "Precision: 0.1997366110623354\n",
            "Recall: 0.3333333333333333\n",
            "F1 Score: 0.24979412572056\n"
          ]
        },
        {
          "name": "stderr",
          "output_type": "stream",
          "text": [
            "/usr/local/lib/python3.10/dist-packages/sklearn/metrics/_classification.py:1344: UndefinedMetricWarning: Precision is ill-defined and being set to 0.0 in labels with no predicted samples. Use `zero_division` parameter to control this behavior.\n",
            "  _warn_prf(average, modifier, msg_start, len(result))\n"
          ]
        }
      ],
      "source": [
        "from sklearn.metrics import accuracy_score, precision_score, recall_score, f1_score\n",
        "\n",
        "test_pred = xtree.predict(test_input)\n",
        "\n",
        "# 정확도 계산\n",
        "accuracy = accuracy_score(test_output, test_pred)\n",
        "print(\"Accuracy:\", accuracy)\n",
        "\n",
        "# 정밀도 계산\n",
        "precision = precision_score(test_output, test_pred, average='macro')\n",
        "print(\"Precision:\", precision)\n",
        "\n",
        "# 재현율 계산\n",
        "recall = recall_score(test_output, test_pred, average='macro')\n",
        "print(\"Recall:\", recall)\n",
        "\n",
        "# F1 스코어 계산\n",
        "f1 = f1_score(test_output, test_pred, average='macro')\n",
        "print(\"F1 Score:\", f1)"
      ]
    },
    {
      "cell_type": "code",
      "execution_count": null,
      "metadata": {
        "id": "f9Jj4gZ0l5ZW"
      },
      "outputs": [],
      "source": [
        "from sklearn.tree import ExtraTreeClassifier\n",
        "### RandomForest GridSearchCV ### \n",
        "\n",
        "from sklearn.model_selection import GridSearchCV\n",
        "\n",
        "params ={'max_leaf_nodes': list(range(2, 100)), 'min_samples_split': [2, 3, 4]}\n",
        "\n",
        "xtree = ExtraTreeClassifier(random_state=42)\n",
        "grid_cv = GridSearchCV(xtree, param_grid=params, cv=2)\n",
        "grid_cv.fit(train_input, train_output)\n",
        "print(grid_cv.score(train_input, train_output))\n",
        "print(grid_cv.score(test_input, test_output)) # 0.7236668135742618\n",
        "print(grid_cv.best_params_) # {'max_depth': 6, 'min_samples_leaf': 8, 'min_samples_split': 8, 'n_estimators': 10}"
      ]
    },
    {
      "cell_type": "code",
      "execution_count": null,
      "metadata": {
        "id": "au92Hn6knl3a"
      },
      "outputs": [],
      "source": []
    }
  ],
  "metadata": {
    "colab": {
      "machine_shape": "hm",
      "provenance": []
    },
    "kernelspec": {
      "display_name": "Python 3",
      "name": "python3"
    },
    "language_info": {
      "name": "python"
    }
  },
  "nbformat": 4,
  "nbformat_minor": 0
}