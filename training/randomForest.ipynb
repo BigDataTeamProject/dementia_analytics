{
  "nbformat": 4,
  "nbformat_minor": 0,
  "metadata": {
    "colab": {
      "provenance": []
    },
    "kernelspec": {
      "name": "python3",
      "display_name": "Python 3"
    },
    "language_info": {
      "name": "python"
    }
  },
  "cells": [
    {
      "cell_type": "code",
      "execution_count": 1,
      "metadata": {
        "colab": {
          "base_uri": "https://localhost:8080/"
        },
        "id": "FAxmO7w3WRld",
        "outputId": "79b315fa-36b1-4093-b7b1-7bf36588c43d"
      },
      "outputs": [
        {
          "output_type": "stream",
          "name": "stdout",
          "text": [
            "Mounted at /content/drive\n"
          ]
        }
      ],
      "source": [
        "from google.colab import drive\n",
        "drive.mount('/content/drive')"
      ]
    },
    {
      "cell_type": "code",
      "source": [
        "%cd /content/drive/MyDrive/빅데이터 팀플/dementia_analytics"
      ],
      "metadata": {
        "colab": {
          "base_uri": "https://localhost:8080/"
        },
        "id": "yY2yD1TwWycl",
        "outputId": "8c85118b-3430-49c8-a3b0-03aafa696e84"
      },
      "execution_count": 2,
      "outputs": [
        {
          "output_type": "stream",
          "name": "stdout",
          "text": [
            "/content/drive/MyDrive/빅데이터 팀플/dementia_analytics\n"
          ]
        }
      ]
    },
    {
      "cell_type": "code",
      "source": [
        "%ls"
      ],
      "metadata": {
        "colab": {
          "base_uri": "https://localhost:8080/"
        },
        "id": "Pnsnq2aCWfBL",
        "outputId": "0904bd48-367c-4cc6-893a-00fd9141a7b7"
      },
      "execution_count": 3,
      "outputs": [
        {
          "output_type": "stream",
          "name": "stdout",
          "text": [
            "\u001b[0m\u001b[01;34mdata_processing\u001b[0m/  \u001b[01;34mdementia_dataset\u001b[0m/  \u001b[01;34mreference\u001b[0m/\n"
          ]
        }
      ]
    },
    {
      "cell_type": "code",
      "source": [
        "path=\"/content/drive/MyDrive/빅데이터 팀플/dementia_analytics/\""
      ],
      "metadata": {
        "id": "LrRHYktOWUoj"
      },
      "execution_count": 165,
      "outputs": []
    },
    {
      "cell_type": "code",
      "source": [
        "import numpy as np\n",
        "import pandas as pd\n",
        "import matplotlib.pyplot as plt\n",
        "\n",
        "### 데이터 로딩 ### \n",
        "\n",
        "# train data loading\n",
        "train_dataset_label = pd.read_csv(path + 'data_processing/dataset_01/training/label/train_dataset_label.csv')\n",
        "train_dataset = pd.read_csv(path + 'data_processing/dataset_01/training/source/train_dataset_remove_nan.csv')\n",
        "\n",
        "# train_output 을 DIAG_NM 하나의 col 만 가지는 data frame으로\n",
        "train_output = pd.merge(train_dataset_label, train_dataset, on='ID')[['DIAG_NM']]\n",
        "\n",
        "# train_input에서 'date' 와 'ID' column 제거\n",
        "train_input = train_dataset.drop(train_dataset.columns[0], axis=1)\n",
        "train_input = train_input.drop(train_input.columns[0], axis=1)\n",
        "\n",
        "# test data loading\n",
        "test_dataset_label = pd.read_csv(path+'data_processing/dataset_01/validation/label/val_dataset_label.csv')\n",
        "test_dataset = pd.read_csv(path+'data_processing/dataset_01/validation/source/val_dataset_remove_nan.csv')\n",
        "\n",
        "# test_output 을 DIAG_NM 하나의 col 만 가지는 data frame으로\n",
        "test_output = pd.merge(test_dataset_label, test_dataset, on='ID')[['DIAG_NM']]\n",
        "\n",
        "# test_input에서 'date' 와 'ID' column 제거 \n",
        "test_input = test_dataset.drop(test_dataset.columns[0], axis=1)\n",
        "test_input = test_input.drop(test_input.columns[0], axis=1)\n",
        "\n",
        "### 레이블 인코딩 ### \n",
        "\n",
        "# 트리 기반 알고리즘에서는 숫자의 크기에 따른 중요도 차이가 없어 레이블 인코딩 OK\n",
        "# 선형적 특징을 가지는 알고리즘들은 one hot encoding 통해 해결해야 함\n",
        "\n",
        "from sklearn.preprocessing import LabelEncoder\n",
        "\n",
        "# 라벨인코더 선언 및 Fitting\n",
        "# CN : 0, Dem : 1, MCI : 2\n",
        "items = ['CN', 'Dem', 'MCI']\n",
        "encoder = LabelEncoder()\n",
        "encoder.fit(items)\n",
        "\n",
        "# train\n",
        "train_output['DIAG_NM'] = encoder.transform(train_output['DIAG_NM'])\n",
        "# display(encoder.classes_)\n",
        "# display(encoder.inverse_transform(train_output['DIAG_NM']))\n",
        "\n",
        "# test\n",
        "test_output['DIAG_NM'] = encoder.transform(test_output['DIAG_NM'])"
      ],
      "metadata": {
        "id": "DHBhW3-OWljd"
      },
      "execution_count": 168,
      "outputs": []
    },
    {
      "cell_type": "code",
      "source": [
        "### RandomForestClassifier ### \n",
        "\n",
        "from sklearn.ensemble import RandomForestClassifier\n",
        "\n",
        "RF = RandomForestClassifier()\n",
        "\n",
        "RF.fit(train_input, train_output)\n",
        "\n",
        "RF.score(test_input, test_output) # 0.6751873071837814"
      ],
      "metadata": {
        "id": "TCb87Sz0nz9k",
        "colab": {
          "base_uri": "https://localhost:8080/"
        },
        "outputId": "be4040c0-2f11-4302-dd81-adeaa83db36e"
      },
      "execution_count": 169,
      "outputs": [
        {
          "output_type": "stream",
          "name": "stderr",
          "text": [
            "<ipython-input-169-1c4f7bfb8b2b>:7: DataConversionWarning: A column-vector y was passed when a 1d array was expected. Please change the shape of y to (n_samples,), for example using ravel().\n",
            "  RF.fit(train_input, train_output)\n"
          ]
        },
        {
          "output_type": "execute_result",
          "data": {
            "text/plain": [
              "0.6760687527545174"
            ]
          },
          "metadata": {},
          "execution_count": 169
        }
      ]
    },
    {
      "cell_type": "code",
      "source": [],
      "metadata": {
        "id": "hFIl7cZHCUdk"
      },
      "execution_count": null,
      "outputs": []
    }
  ]
}