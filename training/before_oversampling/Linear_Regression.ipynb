{
  "nbformat": 4,
  "nbformat_minor": 0,
  "metadata": {
    "colab": {
      "provenance": []
    },
    "kernelspec": {
      "name": "python3",
      "display_name": "Python 3"
    },
    "language_info": {
      "name": "python"
    }
  },
  "cells": [
    {
      "cell_type": "markdown",
      "source": [
        "# Linear Regression\n",
        "## 연속형"
      ],
      "metadata": {
        "id": "Jz4N1X-gpbRP"
      }
    },
    {
      "cell_type": "code",
      "execution_count": null,
      "metadata": {
        "colab": {
          "base_uri": "https://localhost:8080/"
        },
        "id": "Q4gxCkaikW8h",
        "outputId": "24b71a85-9494-40d1-f319-eba6fc41d11e"
      },
      "outputs": [
        {
          "output_type": "stream",
          "name": "stdout",
          "text": [
            "Mounted at /content/drive\n"
          ]
        }
      ],
      "source": [
        "from google.colab import drive\n",
        "drive.mount('/content/drive')"
      ]
    },
    {
      "cell_type": "code",
      "source": [
        "path=\"/content/drive/MyDrive/빅데이터 팀플/dementia_analytics/\""
      ],
      "metadata": {
        "id": "DPUEzM0Dkvwv"
      },
      "execution_count": null,
      "outputs": []
    },
    {
      "cell_type": "code",
      "source": [
        "import numpy as np\n",
        "import pandas as pd\n",
        "import matplotlib.pyplot as plt\n",
        "\n",
        "### 데이터 로딩 ### \n",
        "\n",
        "# train data loading\n",
        "train_dataset_label = pd.read_csv(path + 'data_processing/dataset_01/training/label/train_dataset_label.csv')\n",
        "train_dataset = pd.read_csv(path + 'data_processing/dataset_01/training/source/train_dataset_remove_nan.csv')\n",
        "\n",
        "\n",
        "# test data loading\n",
        "test_dataset_label = pd.read_csv(path +'data_processing/dataset_01/validation/label/val_dataset_label.csv')\n",
        "test_dataset = pd.read_csv(path +'data_processing/dataset_01/validation/source/val_dataset_remove_nan.csv')\n"
      ],
      "metadata": {
        "id": "bgzKilBpkz8X"
      },
      "execution_count": null,
      "outputs": []
    },
    {
      "cell_type": "code",
      "source": [
        "def cvt_prob(x):\n",
        "  if x == 'CN':\n",
        "    return 0.0\n",
        "  elif x == 'MCI':\n",
        "    return 0.5\n",
        "  else:\n",
        "    return 1.0"
      ],
      "metadata": {
        "id": "ZKYBoCyxn6fw"
      },
      "execution_count": null,
      "outputs": []
    },
    {
      "cell_type": "code",
      "source": [
        "# train_output 을 치매율 정보만 담은 Series 로\n",
        "train_output = pd.merge(train_dataset_label, train_dataset, on='ID')['DIAG_NM'].apply(cvt_prob)\n",
        "\n",
        "# train_input에서 'date' 와 'ID' column 제거\n",
        "train_input = train_dataset.drop(train_dataset.columns[0], axis=1)\n",
        "train_input = train_input.drop(train_input.columns[0], axis=1)\n",
        "\n",
        "# test_output 을 치매율 정보만 담은 Series 로\n",
        "test_output = pd.merge(test_dataset_label, test_dataset, on='ID')['DIAG_NM'].apply(cvt_prob)\n",
        "\n",
        "# test_input에서 'date' 와 'ID' column 제거 \n",
        "test_input = test_dataset.drop(test_dataset.columns[0], axis=1)\n",
        "test_input = test_input.drop(test_input.columns[0], axis=1)"
      ],
      "metadata": {
        "id": "zLim-pZUn6h_"
      },
      "execution_count": null,
      "outputs": []
    },
    {
      "cell_type": "code",
      "source": [
        "### 데이터 정규화하기 ### \n",
        "from sklearn.preprocessing import StandardScaler\n",
        "\n",
        "input_scaler = StandardScaler()\n",
        "output_scaler = StandardScaler()\n",
        "\n",
        "train_input = input_scaler.fit_transform(train_input)\n",
        "test_input = input_scaler.transform(test_input)\n",
        "\n",
        "train_output = output_scaler.fit_transform(train_output.values.reshape(-1, 1))\n",
        "test_output = output_scaler.transform(test_output.values.reshape(-1, 1))"
      ],
      "metadata": {
        "id": "LrSwyCFtR__z"
      },
      "execution_count": null,
      "outputs": []
    },
    {
      "cell_type": "code",
      "source": [
        "### Linear Regression  train and test ### \n",
        "from sklearn.linear_model import LinearRegression\n",
        "from sklearn.metrics import mean_squared_error, r2_score\n",
        "\n",
        "LR = LinearRegression()\n",
        "LR.fit(train_input, train_output) \n",
        "test_pred = LR.predict(test_input)\n",
        "print(mean_squared_error(test_output, test_pred) ** 0.5)\n",
        "print(r2_score(test_output, test_pred))"
      ],
      "metadata": {
        "colab": {
          "base_uri": "https://localhost:8080/"
        },
        "id": "wbl46paMmhb5",
        "outputId": "8396c08c-85a7-46a8-eeaa-934257556123"
      },
      "execution_count": null,
      "outputs": [
        {
          "output_type": "stream",
          "name": "stdout",
          "text": [
            "1.0478033731313487\n",
            "-0.10016463620991489\n"
          ]
        }
      ]
    },
    {
      "cell_type": "code",
      "source": [],
      "metadata": {
        "id": "z7y13kq0PK8Z"
      },
      "execution_count": null,
      "outputs": []
    }
  ]
}
