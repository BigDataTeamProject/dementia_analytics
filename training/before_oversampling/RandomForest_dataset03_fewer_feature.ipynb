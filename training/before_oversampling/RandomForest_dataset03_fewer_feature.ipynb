{
  "nbformat": 4,
  "nbformat_minor": 0,
  "metadata": {
    "colab": {
      "provenance": []
    },
    "kernelspec": {
      "name": "python3",
      "display_name": "Python 3"
    },
    "language_info": {
      "name": "python"
    }
  },
  "cells": [
    {
      "cell_type": "markdown",
      "source": [
        "# Random Forest\n",
        "## 범주형"
      ],
      "metadata": {
        "id": "728FJfUWp7u_"
      }
    },
    {
      "cell_type": "code",
      "execution_count": null,
      "metadata": {
        "id": "O_JclOZro-J1",
        "colab": {
          "base_uri": "https://localhost:8080/"
        },
        "outputId": "25a39bb3-171c-4208-c292-64b79afc0c50"
      },
      "outputs": [
        {
          "output_type": "stream",
          "name": "stdout",
          "text": [
            "Mounted at /content/drive\n"
          ]
        }
      ],
      "source": [
        "from google.colab import drive\n",
        "drive.mount('/content/drive')"
      ]
    },
    {
      "cell_type": "code",
      "source": [
        "path=\"/content/drive/MyDrive/빅데이터 팀플/dementia_analytics/\""
      ],
      "metadata": {
        "id": "8-wMX7ofqf_e"
      },
      "execution_count": null,
      "outputs": []
    },
    {
      "cell_type": "code",
      "source": [
        "import numpy as np\n",
        "import pandas as pd\n",
        "import matplotlib.pyplot as plt\n",
        "\n",
        "### 데이터 로딩 ### \n",
        "train_dataset = pd.read_csv(path + 'data_processing/dataset_03/training/train_dataset_with_label_fill_user_mean.csv')\n",
        "valid_dataset = pd.read_csv(path + 'data_processing/dataset_03/validation/val_dataset_with_label_fill_user_mean.csv')\n",
        "\n",
        "train_output = train_dataset[['DIAG_NM']]\n",
        "train_input = train_dataset[['sleep_breath_average', 'sleep_hr_average', 'sleep_hr_lowest', 'sleep_restless', 'sleep_midpoint_at_delta', 'activity_cal_total', 'activity_met_min_inactive', 'activity_met_min_high', 'activity_score_meet_daily_targets', 'sleep_rem', 'sleep_light', 'activity_low', 'activity_rest', 'activity_met_min_medium']]\n",
        "\n",
        "test_output = valid_dataset[['DIAG_NM']]\n",
        "test_input = valid_dataset[['sleep_breath_average', 'sleep_hr_average', 'sleep_hr_lowest', 'sleep_restless', 'sleep_midpoint_at_delta', 'activity_cal_total', 'activity_met_min_inactive', 'activity_met_min_high', 'activity_score_meet_daily_targets', 'sleep_rem', 'sleep_light', 'activity_low', 'activity_rest', 'activity_met_min_medium']]"
      ],
      "metadata": {
        "id": "cOSTkWAzm0t1"
      },
      "execution_count": null,
      "outputs": []
    },
    {
      "cell_type": "code",
      "source": [
        "### 레이블 인코딩 ### \n",
        "\n",
        "# 트리 기반 알고리즘에서는 숫자의 크기에 따른 중요도 차이가 없어 레이블 인코딩 OK\n",
        "# 선형적 특징을 가지는 알고리즘들은 one hot encoding 통해 해결해야 함\n",
        "\n",
        "from sklearn.preprocessing import LabelEncoder\n",
        "\n",
        "# 라벨인코더 선언 및 Fitting\n",
        "# CN : 0, Dem : 1, MCI : 2\n",
        "items = ['CN', 'Dem', 'MCI']\n",
        "encoder = LabelEncoder()\n",
        "encoder.fit(items)\n",
        "\n",
        "# train\n",
        "train_output['DIAG_NM'] = encoder.transform(train_output['DIAG_NM'])\n",
        "# display(encoder.classes_)\n",
        "# display(encoder.inverse_transform(train_output['DIAG_NM']))\n",
        "\n",
        "# test\n",
        "test_output['DIAG_NM'] = encoder.transform(test_output['DIAG_NM'])"
      ],
      "metadata": {
        "colab": {
          "base_uri": "https://localhost:8080/"
        },
        "id": "9ijhKvNcomz5",
        "outputId": "4f08d133-7d9a-4236-a765-9c1175c4821b"
      },
      "execution_count": null,
      "outputs": [
        {
          "output_type": "stream",
          "name": "stderr",
          "text": [
            "<ipython-input-5-e819ad067ec6>:15: SettingWithCopyWarning: \n",
            "A value is trying to be set on a copy of a slice from a DataFrame.\n",
            "Try using .loc[row_indexer,col_indexer] = value instead\n",
            "\n",
            "See the caveats in the documentation: https://pandas.pydata.org/pandas-docs/stable/user_guide/indexing.html#returning-a-view-versus-a-copy\n",
            "  train_output['DIAG_NM'] = encoder.transform(train_output['DIAG_NM'])\n",
            "<ipython-input-5-e819ad067ec6>:20: SettingWithCopyWarning: \n",
            "A value is trying to be set on a copy of a slice from a DataFrame.\n",
            "Try using .loc[row_indexer,col_indexer] = value instead\n",
            "\n",
            "See the caveats in the documentation: https://pandas.pydata.org/pandas-docs/stable/user_guide/indexing.html#returning-a-view-versus-a-copy\n",
            "  test_output['DIAG_NM'] = encoder.transform(test_output['DIAG_NM'])\n"
          ]
        }
      ]
    },
    {
      "cell_type": "code",
      "source": [
        "### RandomForestClassifier ### \n",
        "\n",
        "from sklearn.ensemble import RandomForestClassifier\n",
        "\n",
        "RF = RandomForestClassifier(random_state=0, n_jobs=-1)\n",
        "\n",
        "RF.fit(train_input, train_output)\n",
        "\n",
        "print(RF.score(train_input, train_output))\n",
        "print(RF.score(test_input, test_output)) # 0.6751873071837814"
      ],
      "metadata": {
        "colab": {
          "base_uri": "https://localhost:8080/"
        },
        "id": "9Fb_agHvqgGF",
        "outputId": "a0766be7-56d4-4c4e-8187-fc006ca8afc1"
      },
      "execution_count": null,
      "outputs": [
        {
          "output_type": "stream",
          "name": "stderr",
          "text": [
            "<ipython-input-6-b80fb5c6257e>:7: DataConversionWarning: A column-vector y was passed when a 1d array was expected. Please change the shape of y to (n_samples,), for example using ravel().\n",
            "  RF.fit(train_input, train_output)\n"
          ]
        },
        {
          "output_type": "stream",
          "name": "stdout",
          "text": [
            "1.0\n",
            "0.7036910457963089\n"
          ]
        }
      ]
    },
    {
      "cell_type": "code",
      "source": [
        "### RandomForest GridSearchCV ### \n",
        "\n",
        "from sklearn.model_selection import GridSearchCV\n",
        "\n",
        "params ={\n",
        "    'n_estimators':[10, 100],\n",
        "    'max_depth':[6,8,10,12],\n",
        "    'min_samples_leaf':[8,12,18],\n",
        "    'min_samples_split':[8,16,20]\n",
        "}\n",
        "\n",
        "RF = RandomForestClassifier(random_state=0, n_jobs=-1)\n",
        "grid_cv = GridSearchCV(RF, param_grid=params, cv=2, n_jobs=-1)\n",
        "grid_cv.fit(train_input, train_output)\n",
        "print(grid_cv.score(train_input, train_output))\n",
        "print(grid_cv.score(test_input, test_output)) # 0.7236668135742618\n",
        "print(grid_cv.best_params_) # {'max_depth': 6, 'min_samples_leaf': 8, 'min_samples_split': 8, 'n_estimators': 10}"
      ],
      "metadata": {
        "colab": {
          "base_uri": "https://localhost:8080/"
        },
        "id": "lbGxWTTyvFN7",
        "outputId": "db662f89-13aa-47a3-d132-640aa4bbfb21"
      },
      "execution_count": null,
      "outputs": [
        {
          "output_type": "stream",
          "name": "stdout",
          "text": [
            "0.6741354975299929\n",
            "0.7624743677375256\n",
            "{'max_depth': 6, 'min_samples_leaf': 8, 'min_samples_split': 20, 'n_estimators': 10}\n"
          ]
        },
        {
          "output_type": "stream",
          "name": "stderr",
          "text": [
            "/usr/local/lib/python3.10/dist-packages/sklearn/model_selection/_search.py:909: DataConversionWarning: A column-vector y was passed when a 1d array was expected. Please change the shape of y to (n_samples,), for example using ravel().\n",
            "  self.best_estimator_.fit(X, y, **fit_params)\n"
          ]
        }
      ]
    },
    {
      "cell_type": "code",
      "source": [],
      "metadata": {
        "id": "h2vf05JaBL8Y"
      },
      "execution_count": null,
      "outputs": []
    }
  ]
}