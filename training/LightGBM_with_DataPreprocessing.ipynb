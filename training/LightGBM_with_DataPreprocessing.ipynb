{
  "nbformat": 4,
  "nbformat_minor": 0,
  "metadata": {
    "colab": {
      "provenance": []
    },
    "kernelspec": {
      "name": "python3",
      "display_name": "Python 3"
    },
    "language_info": {
      "name": "python"
    }
  },
  "cells": [
    {
      "cell_type": "markdown",
      "source": [
        "# LightGBM\n",
        "\n",
        "* LightGBM.ipynb에서는 train--.csv 와 test--.csv 의 데이터를 그대로 train data와 test 데이터로 사용했었다.\n",
        "* 그 데이터에 불균형이 많이 발견되었으며, 데이터의 정규화도 이루어지지 않았다.\n",
        "* 이번에 train, test 데이터를 균등하게 나누어 보고, MinMaxScaler를 사용하여 정규화를 하고, SMOTE를 사용하여 오버샘플링을 해 보았다.\n",
        "* 결과, 기존에 train accuracy가 0.59, test accuracy가 0.78 였던 것에 비해 train accuracy는 0.95, test accuracy는 0.91 으로 나타났다."
      ],
      "metadata": {
        "id": "728FJfUWp7u_"
      }
    },
    {
      "cell_type": "code",
      "execution_count": null,
      "metadata": {
        "id": "O_JclOZro-J1",
        "colab": {
          "base_uri": "https://localhost:8080/"
        },
        "outputId": "9f9ea5a0-c631-4580-f72f-952e65104f75"
      },
      "outputs": [
        {
          "output_type": "stream",
          "name": "stdout",
          "text": [
            "Mounted at /content/drive\n"
          ]
        }
      ],
      "source": [
        "from google.colab import drive\n",
        "drive.mount('/content/drive')"
      ]
    },
    {
      "cell_type": "code",
      "source": [
        "path=\"/content/drive/MyDrive/빅데이터 팀플/dementia_analytics/\""
      ],
      "metadata": {
        "id": "8-wMX7ofqf_e"
      },
      "execution_count": null,
      "outputs": []
    },
    {
      "cell_type": "markdown",
      "source": [
        "# Train-Test 를 라벨 별로 균등하게 나누기 전"
      ],
      "metadata": {
        "id": "qPWAzitqhn6r"
      }
    },
    {
      "cell_type": "code",
      "source": [
        "import numpy as np\n",
        "import pandas as pd\n",
        "import matplotlib.pyplot as plt\n",
        "\n",
        "### 데이터 로딩 ### \n",
        "train_dataset = pd.read_csv(path + 'data_processing/dataset_03/training/train_dataset_with_label_fill_user_mean.csv')\n",
        "valid_dataset = pd.read_csv(path + 'data_processing/dataset_03/validation/val_dataset_with_label_fill_user_mean.csv')\n",
        "\n",
        "train_output = train_dataset[['DIAG_NM']]\n",
        "train_input = train_dataset[['sleep_breath_average', 'sleep_hr_average', 'sleep_hr_lowest', 'sleep_deep', 'sleep_rem', 'activity_cal_total', 'sleep_awake', 'activity_steps', 'activity_total', 'sleep_duration', 'activity_daily_movement']]\n",
        "\n",
        "test_output = valid_dataset[['DIAG_NM']]\n",
        "test_input = valid_dataset[['sleep_breath_average', 'sleep_hr_average', 'sleep_hr_lowest', 'sleep_deep', 'sleep_rem', 'activity_cal_total', 'sleep_awake', 'activity_steps', 'activity_total', 'sleep_duration', 'activity_daily_movement']]"
      ],
      "metadata": {
        "id": "cOSTkWAzm0t1"
      },
      "execution_count": null,
      "outputs": []
    },
    {
      "cell_type": "code",
      "source": [
        "from sklearn.preprocessing import MinMaxScaler\n",
        "\n",
        "scaler = MinMaxScaler(feature_range=(0, 1))\n",
        "scaler.fit_transform(train_input)\n",
        "train_input = scaler.fit_transform(train_input)\n",
        "test_input = scaler.fit_transform(test_input)"
      ],
      "metadata": {
        "id": "krNsKZWkhejs"
      },
      "execution_count": null,
      "outputs": []
    },
    {
      "cell_type": "code",
      "source": [
        "### 레이블 인코딩 ### \n",
        "\n",
        "# 트리 기반 알고리즘에서는 숫자의 크기에 따른 중요도 차이가 없어 레이블 인코딩 OK\n",
        "# 선형적 특징을 가지는 알고리즘들은 one hot encoding 통해 해결해야 함\n",
        "\n",
        "from sklearn.preprocessing import LabelEncoder\n",
        "\n",
        "# 라벨인코더 선언 및 Fitting\n",
        "# CN : 0, Dem : 1, MCI : 2\n",
        "items = ['CN', 'Dem', 'MCI']\n",
        "encoder = LabelEncoder()\n",
        "encoder.fit(items)\n",
        "\n",
        "# train\n",
        "train_output['DIAG_NM'] = encoder.transform(train_output['DIAG_NM'])\n",
        "# display(encoder.classes_)\n",
        "# display(encoder.inverse_transform(train_output['DIAG_NM']))\n",
        "\n",
        "# test\n",
        "test_output['DIAG_NM'] = encoder.transform(test_output['DIAG_NM'])"
      ],
      "metadata": {
        "colab": {
          "base_uri": "https://localhost:8080/"
        },
        "id": "pwd0DjrIiD1y",
        "outputId": "434bfe63-3463-4651-c818-7ac8397ed5b7"
      },
      "execution_count": null,
      "outputs": [
        {
          "output_type": "stream",
          "name": "stderr",
          "text": [
            "<ipython-input-248-e819ad067ec6>:15: SettingWithCopyWarning: \n",
            "A value is trying to be set on a copy of a slice from a DataFrame.\n",
            "Try using .loc[row_indexer,col_indexer] = value instead\n",
            "\n",
            "See the caveats in the documentation: https://pandas.pydata.org/pandas-docs/stable/user_guide/indexing.html#returning-a-view-versus-a-copy\n",
            "  train_output['DIAG_NM'] = encoder.transform(train_output['DIAG_NM'])\n",
            "<ipython-input-248-e819ad067ec6>:20: SettingWithCopyWarning: \n",
            "A value is trying to be set on a copy of a slice from a DataFrame.\n",
            "Try using .loc[row_indexer,col_indexer] = value instead\n",
            "\n",
            "See the caveats in the documentation: https://pandas.pydata.org/pandas-docs/stable/user_guide/indexing.html#returning-a-view-versus-a-copy\n",
            "  test_output['DIAG_NM'] = encoder.transform(test_output['DIAG_NM'])\n"
          ]
        }
      ]
    },
    {
      "cell_type": "code",
      "source": [
        "### Light GBM ###\n",
        "from lightgbm import LGBMClassifier\n",
        "\n",
        "LGBM = LGBMClassifier()\n",
        "evals = [(test_input, test_output)]\n",
        "LGBM.fit(train_input, train_output, early_stopping_rounds=200, eval_metric='logloss', eval_set=evals, verbose=True)\n",
        "test_pred = LGBM.predict(test_input)\n",
        "train_pred = LGBM.predict(train_input)\n",
        "# pred_proba = LGBM.predict_proba(test_input)[:1]"
      ],
      "metadata": {
        "colab": {
          "base_uri": "https://localhost:8080/"
        },
        "id": "IYwHSx4ziGxK",
        "outputId": "6be85df9-2e73-458e-9ce4-eb121c489db6"
      },
      "execution_count": null,
      "outputs": [
        {
          "output_type": "stream",
          "name": "stderr",
          "text": [
            "/usr/local/lib/python3.10/dist-packages/sklearn/preprocessing/_label.py:99: DataConversionWarning: A column-vector y was passed when a 1d array was expected. Please change the shape of y to (n_samples, ), for example using ravel().\n",
            "  y = column_or_1d(y, warn=True)\n",
            "/usr/local/lib/python3.10/dist-packages/sklearn/preprocessing/_label.py:134: DataConversionWarning: A column-vector y was passed when a 1d array was expected. Please change the shape of y to (n_samples, ), for example using ravel().\n",
            "  y = column_or_1d(y, dtype=self.classes_.dtype, warn=True)\n",
            "/usr/local/lib/python3.10/dist-packages/sklearn/preprocessing/_label.py:134: DataConversionWarning: A column-vector y was passed when a 1d array was expected. Please change the shape of y to (n_samples, ), for example using ravel().\n",
            "  y = column_or_1d(y, dtype=self.classes_.dtype, warn=True)\n",
            "/usr/local/lib/python3.10/dist-packages/lightgbm/sklearn.py:726: UserWarning: 'early_stopping_rounds' argument is deprecated and will be removed in a future release of LightGBM. Pass 'early_stopping()' callback via 'callbacks' argument instead.\n",
            "  _log_warning(\"'early_stopping_rounds' argument is deprecated and will be removed in a future release of LightGBM. \"\n",
            "/usr/local/lib/python3.10/dist-packages/lightgbm/sklearn.py:736: UserWarning: 'verbose' argument is deprecated and will be removed in a future release of LightGBM. Pass 'log_evaluation()' callback via 'callbacks' argument instead.\n",
            "  _log_warning(\"'verbose' argument is deprecated and will be removed in a future release of LightGBM. \"\n"
          ]
        },
        {
          "output_type": "stream",
          "name": "stdout",
          "text": [
            "[1]\tvalid_0's multi_logloss: 0.793395\n",
            "[2]\tvalid_0's multi_logloss: 0.801557\n",
            "[3]\tvalid_0's multi_logloss: 0.806818\n",
            "[4]\tvalid_0's multi_logloss: 0.813974\n",
            "[5]\tvalid_0's multi_logloss: 0.822926\n",
            "[6]\tvalid_0's multi_logloss: 0.829505\n",
            "[7]\tvalid_0's multi_logloss: 0.83429\n",
            "[8]\tvalid_0's multi_logloss: 0.837816\n",
            "[9]\tvalid_0's multi_logloss: 0.844023\n",
            "[10]\tvalid_0's multi_logloss: 0.850323\n",
            "[11]\tvalid_0's multi_logloss: 0.859463\n",
            "[12]\tvalid_0's multi_logloss: 0.862695\n",
            "[13]\tvalid_0's multi_logloss: 0.863493\n",
            "[14]\tvalid_0's multi_logloss: 0.869248\n",
            "[15]\tvalid_0's multi_logloss: 0.872858\n",
            "[16]\tvalid_0's multi_logloss: 0.876752\n",
            "[17]\tvalid_0's multi_logloss: 0.884423\n",
            "[18]\tvalid_0's multi_logloss: 0.889189\n",
            "[19]\tvalid_0's multi_logloss: 0.894257\n",
            "[20]\tvalid_0's multi_logloss: 0.897532\n",
            "[21]\tvalid_0's multi_logloss: 0.90384\n",
            "[22]\tvalid_0's multi_logloss: 0.909198\n",
            "[23]\tvalid_0's multi_logloss: 0.912066\n",
            "[24]\tvalid_0's multi_logloss: 0.915177\n",
            "[25]\tvalid_0's multi_logloss: 0.91664\n",
            "[26]\tvalid_0's multi_logloss: 0.919222\n",
            "[27]\tvalid_0's multi_logloss: 0.92398\n",
            "[28]\tvalid_0's multi_logloss: 0.928272\n",
            "[29]\tvalid_0's multi_logloss: 0.93265\n",
            "[30]\tvalid_0's multi_logloss: 0.932588\n",
            "[31]\tvalid_0's multi_logloss: 0.935625\n",
            "[32]\tvalid_0's multi_logloss: 0.938402\n",
            "[33]\tvalid_0's multi_logloss: 0.942252\n",
            "[34]\tvalid_0's multi_logloss: 0.948216\n",
            "[35]\tvalid_0's multi_logloss: 0.949583\n",
            "[36]\tvalid_0's multi_logloss: 0.956725\n",
            "[37]\tvalid_0's multi_logloss: 0.958295\n",
            "[38]\tvalid_0's multi_logloss: 0.957351\n",
            "[39]\tvalid_0's multi_logloss: 0.959617\n",
            "[40]\tvalid_0's multi_logloss: 0.958306\n",
            "[41]\tvalid_0's multi_logloss: 0.961558\n",
            "[42]\tvalid_0's multi_logloss: 0.963021\n",
            "[43]\tvalid_0's multi_logloss: 0.962367\n",
            "[44]\tvalid_0's multi_logloss: 0.96421\n",
            "[45]\tvalid_0's multi_logloss: 0.964828\n",
            "[46]\tvalid_0's multi_logloss: 0.968477\n",
            "[47]\tvalid_0's multi_logloss: 0.971822\n",
            "[48]\tvalid_0's multi_logloss: 0.974523\n",
            "[49]\tvalid_0's multi_logloss: 0.979787\n",
            "[50]\tvalid_0's multi_logloss: 0.982775\n",
            "[51]\tvalid_0's multi_logloss: 0.985757\n",
            "[52]\tvalid_0's multi_logloss: 0.986517\n",
            "[53]\tvalid_0's multi_logloss: 0.991526\n",
            "[54]\tvalid_0's multi_logloss: 0.993038\n",
            "[55]\tvalid_0's multi_logloss: 1.00025\n",
            "[56]\tvalid_0's multi_logloss: 1.00043\n",
            "[57]\tvalid_0's multi_logloss: 1.00092\n",
            "[58]\tvalid_0's multi_logloss: 1.00616\n",
            "[59]\tvalid_0's multi_logloss: 1.00795\n",
            "[60]\tvalid_0's multi_logloss: 1.01384\n",
            "[61]\tvalid_0's multi_logloss: 1.01562\n",
            "[62]\tvalid_0's multi_logloss: 1.01975\n",
            "[63]\tvalid_0's multi_logloss: 1.02157\n",
            "[64]\tvalid_0's multi_logloss: 1.03018\n",
            "[65]\tvalid_0's multi_logloss: 1.03309\n",
            "[66]\tvalid_0's multi_logloss: 1.03382\n",
            "[67]\tvalid_0's multi_logloss: 1.03741\n",
            "[68]\tvalid_0's multi_logloss: 1.03861\n",
            "[69]\tvalid_0's multi_logloss: 1.03968\n",
            "[70]\tvalid_0's multi_logloss: 1.04314\n",
            "[71]\tvalid_0's multi_logloss: 1.04164\n",
            "[72]\tvalid_0's multi_logloss: 1.04621\n",
            "[73]\tvalid_0's multi_logloss: 1.05198\n",
            "[74]\tvalid_0's multi_logloss: 1.04991\n",
            "[75]\tvalid_0's multi_logloss: 1.05503\n",
            "[76]\tvalid_0's multi_logloss: 1.05843\n",
            "[77]\tvalid_0's multi_logloss: 1.06103\n",
            "[78]\tvalid_0's multi_logloss: 1.06061\n",
            "[79]\tvalid_0's multi_logloss: 1.06569\n",
            "[80]\tvalid_0's multi_logloss: 1.06503\n",
            "[81]\tvalid_0's multi_logloss: 1.06972\n",
            "[82]\tvalid_0's multi_logloss: 1.06972\n",
            "[83]\tvalid_0's multi_logloss: 1.07059\n",
            "[84]\tvalid_0's multi_logloss: 1.07347\n",
            "[85]\tvalid_0's multi_logloss: 1.07718\n",
            "[86]\tvalid_0's multi_logloss: 1.08041\n",
            "[87]\tvalid_0's multi_logloss: 1.08106\n",
            "[88]\tvalid_0's multi_logloss: 1.0846\n",
            "[89]\tvalid_0's multi_logloss: 1.08568\n",
            "[90]\tvalid_0's multi_logloss: 1.08669\n",
            "[91]\tvalid_0's multi_logloss: 1.09101\n",
            "[92]\tvalid_0's multi_logloss: 1.09369\n",
            "[93]\tvalid_0's multi_logloss: 1.09446\n",
            "[94]\tvalid_0's multi_logloss: 1.09326\n",
            "[95]\tvalid_0's multi_logloss: 1.09277\n",
            "[96]\tvalid_0's multi_logloss: 1.09807\n",
            "[97]\tvalid_0's multi_logloss: 1.0991\n",
            "[98]\tvalid_0's multi_logloss: 1.09832\n",
            "[99]\tvalid_0's multi_logloss: 1.10075\n",
            "[100]\tvalid_0's multi_logloss: 1.10277\n"
          ]
        }
      ]
    },
    {
      "cell_type": "code",
      "source": [
        "# 균등하게 나누기 전\n",
        "from sklearn.metrics import accuracy_score\n",
        "\n",
        "print(accuracy_score(train_output, train_pred))\n",
        "print(accuracy_score(test_output, test_pred))"
      ],
      "metadata": {
        "colab": {
          "base_uri": "https://localhost:8080/"
        },
        "id": "gP-mCv7DiJvp",
        "outputId": "838e3584-c0ec-416b-cacb-c77eea72119c"
      },
      "execution_count": null,
      "outputs": [
        {
          "output_type": "stream",
          "name": "stdout",
          "text": [
            "0.597212420606916\n",
            "0.7860560492139439\n"
          ]
        }
      ]
    },
    {
      "cell_type": "code",
      "source": [
        "from sklearn.metrics import accuracy_score, precision_score, recall_score, f1_score\n",
        "\n",
        "# 테스트 데이터 예측\n",
        "test_pred = LGBM.predict(test_input)\n",
        "\n",
        "# 정확도 계산\n",
        "accuracy = accuracy_score(test_output, test_pred)\n",
        "print(\"Accuracy:\", accuracy)\n",
        "\n",
        "# 정밀도 계산\n",
        "precision = precision_score(test_output, test_pred, average='macro')\n",
        "print(\"Precision:\", precision)\n",
        "\n",
        "# 재현율 계산\n",
        "recall = recall_score(test_output, test_pred, average='macro')\n",
        "print(\"Recall:\", recall)\n",
        "\n",
        "# F1 스코어 계산\n",
        "f1 = f1_score(test_output, test_pred, average='macro')\n",
        "print(\"F1 Score:\", f1)"
      ],
      "metadata": {
        "colab": {
          "base_uri": "https://localhost:8080/"
        },
        "id": "W-JInL2dEhDn",
        "outputId": "bb1ed38a-0b5b-4e52-bc52-315edbac1321"
      },
      "execution_count": null,
      "outputs": [
        {
          "output_type": "stream",
          "name": "stdout",
          "text": [
            "Accuracy: 0.7860560492139439\n",
            "Precision: 0.26201868307131465\n",
            "Recall: 0.3333333333333333\n",
            "F1 Score: 0.2934047710167113\n"
          ]
        },
        {
          "output_type": "stream",
          "name": "stderr",
          "text": [
            "/usr/local/lib/python3.10/dist-packages/sklearn/metrics/_classification.py:1344: UndefinedMetricWarning: Precision is ill-defined and being set to 0.0 in labels with no predicted samples. Use `zero_division` parameter to control this behavior.\n",
            "  _warn_prf(average, modifier, msg_start, len(result))\n"
          ]
        }
      ]
    },
    {
      "cell_type": "code",
      "source": [
        "import matplotlib.pyplot as plt\n",
        "\n",
        "plt.hist(test_output, bins=3)\n",
        "plt.show()"
      ],
      "metadata": {
        "colab": {
          "base_uri": "https://localhost:8080/",
          "height": 430
        },
        "id": "pHmUqmzHiPLh",
        "outputId": "27fd941b-42d8-4795-a9b4-def058dfd154"
      },
      "execution_count": null,
      "outputs": [
        {
          "output_type": "display_data",
          "data": {
            "text/plain": [
              "<Figure size 640x480 with 1 Axes>"
            ],
            "image/png": "[encoded data removed]"
          },
          "metadata": {}
        }
      ]
    },
    {
      "cell_type": "code",
      "source": [
        "plt.hist(test_pred, bins=3)"
      ],
      "metadata": {
        "colab": {
          "base_uri": "https://localhost:8080/",
          "height": 482
        },
        "id": "h6Kil34piZCo",
        "outputId": "cf3577c4-a4a4-4e3e-850b-bd51f4dee05c"
      },
      "execution_count": null,
      "outputs": [
        {
          "output_type": "execute_result",
          "data": {
            "text/plain": [
              "(array([   0., 2926.,    0.]),\n",
              " array([-0.5       , -0.16666667,  0.16666667,  0.5       ]),\n",
              " <BarContainer object of 3 artists>)"
            ]
          },
          "metadata": {},
          "execution_count": 263
        },
        {
          "output_type": "display_data",
          "data": {
            "text/plain": [
              "<Figure size 640x480 with 1 Axes>"
            ],
            "image/png": "[encoded data removed]"
          },
          "metadata": {}
        }
      ]
    },
    {
      "cell_type": "markdown",
      "source": [
        "이를 통해, Train-Test를 균등하게 나누기 전에는 모델이 모든 데이터에 대해 하나의 라벨로만 분류하였다는 것을 알 수 있다."
      ],
      "metadata": {
        "id": "Sg3cWHWHvrAs"
      }
    },
    {
      "cell_type": "markdown",
      "source": [
        "# Train-Test 을 각 라벨 별로 균등하게 나눈 후"
      ],
      "metadata": {
        "id": "dLFUki7qhfLT"
      }
    },
    {
      "cell_type": "code",
      "source": [
        "import numpy as np\n",
        "import pandas as pd\n",
        "import matplotlib.pyplot as plt\n",
        "\n",
        "### 데이터 로딩 ###\n",
        "dataset = pd.read_csv('/content/drive/MyDrive/빅데이터 팀플/dementia_analytics/data_processing/dataset_05/dataset_with_label_fill_user_mean.csv')\n",
        "data_output = dataset[['DIAG_NM']]\n",
        "# data_input에서 score 가 들어가는 column 등 필요 없는 column 제거\n",
        "data_input = dataset.drop(['DIAG_NM', 'ID', 'date'], axis=1)\n",
        "columns_to_drop = [col for col in data_input.columns if 'score' in col]\n",
        "data_input = data_input[['sleep_breath_average', 'sleep_hr_average', 'sleep_hr_lowest', 'sleep_deep', 'sleep_rem', 'activity_cal_total', 'sleep_awake', 'activity_steps', 'activity_total', 'sleep_duration', 'activity_daily_movement']]\n",
        "# KeyError: \"['sleep_bedtime_end', 'sleep_bedtime_start', 'sleep_hr_5min'] not in index\"\n",
        "#'activity_cal_active', \n",
        "#  'activity_met_min_inactive', 'activity_high', 'sleep_efficiency', 'activity_rest', 'activity_met_min_low', 'activity_inactive', 'activity_medium', 'activity_low', 'activity_met_min_medium', 'activity_met_min_high'"
      ],
      "metadata": {
        "id": "-mDdJLIOivHR"
      },
      "execution_count": null,
      "outputs": []
    },
    {
      "cell_type": "code",
      "source": [
        "import matplotlib.pyplot as plt\n",
        "\n",
        "plt.hist(data_output)\n",
        "plt.show()"
      ],
      "metadata": {
        "colab": {
          "base_uri": "https://localhost:8080/",
          "height": 430
        },
        "id": "ToTiChjHs65T",
        "outputId": "eeafdda8-e78b-4423-bca1-86c3d5a89480"
      },
      "execution_count": null,
      "outputs": [
        {
          "output_type": "display_data",
          "data": {
            "text/plain": [
              "<Figure size 640x480 with 1 Axes>"
            ],
            "image/png": "[encoded data removed]"
          },
          "metadata": {}
        }
      ]
    },
    {
      "cell_type": "code",
      "source": [
        "from sklearn.preprocessing import MinMaxScaler\n",
        "\n",
        "scaler = MinMaxScaler(feature_range=(0, 1))\n",
        "scaler.fit_transform(train_input)\n",
        "data_input = scaler.fit_transform(data_input)\n",
        "print(data_input)"
      ],
      "metadata": {
        "colab": {
          "base_uri": "https://localhost:8080/"
        },
        "id": "vNSaQs02azLp",
        "outputId": "0f8f7f6d-004e-49cb-fbd2-97dedd379223"
      },
      "execution_count": null,
      "outputs": [
        {
          "output_type": "stream",
          "name": "stdout",
          "text": [
            "[[0.48809524 0.34404743 0.31034483 ... 0.15196599 0.61666667 0.04496453]\n",
            " [0.3452381  0.35637385 0.34482759 ... 0.19872476 0.30138889 0.09404402]\n",
            " [0.48809524 0.33359338 0.27586207 ... 0.09883103 0.72638889 0.03249105]\n",
            " ...\n",
            " [0.32142857 0.28257138 0.31034483 ... 0.2848034  0.38888889 0.12132708]\n",
            " [0.30952381 0.33608987 0.34482759 ... 0.3246955  0.1        0.11979798]\n",
            " [0.29761905 0.27445779 0.27586207 ... 0.25079702 0.13333333 0.04995821]]\n"
          ]
        }
      ]
    },
    {
      "cell_type": "code",
      "source": [
        "from sklearn.model_selection import train_test_split\n",
        "\n",
        "train_input, test_input, train_output, test_output = train_test_split(data_input, data_output, test_size=0.2, shuffle=True, stratify=data_output, random_state=42)"
      ],
      "metadata": {
        "id": "zzeJ--BOg2-p"
      },
      "execution_count": null,
      "outputs": []
    },
    {
      "cell_type": "code",
      "source": [
        "### 레이블 인코딩 ### \n",
        "\n",
        "# 트리 기반 알고리즘에서는 숫자의 크기에 따른 중요도 차이가 없어 레이블 인코딩 OK\n",
        "# 선형적 특징을 가지는 알고리즘들은 one hot encoding 통해 해결해야 함\n",
        "\n",
        "from sklearn.preprocessing import LabelEncoder\n",
        "\n",
        "# 라벨인코더 선언 및 Fitting\n",
        "# CN : 0, Dem : 1, MCI : 2\n",
        "items = ['CN', 'Dem', 'MCI']\n",
        "encoder = LabelEncoder()\n",
        "encoder.fit(items)\n",
        "\n",
        "# train\n",
        "train_output['DIAG_NM'] = encoder.transform(train_output['DIAG_NM'])\n",
        "# display(encoder.classes_)\n",
        "# display(encoder.inverse_transform(train_output['DIAG_NM']))\n",
        "\n",
        "# test\n",
        "test_output['DIAG_NM'] = encoder.transform(test_output['DIAG_NM'])"
      ],
      "metadata": {
        "id": "SBBC6QHmg3BG"
      },
      "execution_count": null,
      "outputs": []
    },
    {
      "cell_type": "code",
      "source": [
        "### Light GBM ###\n",
        "from lightgbm import LGBMClassifier\n",
        "\n",
        "LGBM = LGBMClassifier()\n",
        "evals = [(test_input, test_output)]\n",
        "LGBM.fit(train_input, train_output, early_stopping_rounds=200, eval_metric='logloss', eval_set=evals, verbose=True)\n",
        "test_pred = LGBM.predict(test_input)\n",
        "train_pred = LGBM.predict(train_input)\n",
        "# pred_proba = LGBM.predict_proba(test_input)[:1]"
      ],
      "metadata": {
        "colab": {
          "base_uri": "https://localhost:8080/"
        },
        "id": "UhGVGxbXg3Dl",
        "outputId": "37a9cf2c-ac4b-46f8-d98c-b1b098ebedb5"
      },
      "execution_count": null,
      "outputs": [
        {
          "output_type": "stream",
          "name": "stderr",
          "text": [
            "/usr/local/lib/python3.10/dist-packages/sklearn/preprocessing/_label.py:99: DataConversionWarning: A column-vector y was passed when a 1d array was expected. Please change the shape of y to (n_samples, ), for example using ravel().\n",
            "  y = column_or_1d(y, warn=True)\n",
            "/usr/local/lib/python3.10/dist-packages/sklearn/preprocessing/_label.py:134: DataConversionWarning: A column-vector y was passed when a 1d array was expected. Please change the shape of y to (n_samples, ), for example using ravel().\n",
            "  y = column_or_1d(y, dtype=self.classes_.dtype, warn=True)\n",
            "/usr/local/lib/python3.10/dist-packages/sklearn/preprocessing/_label.py:134: DataConversionWarning: A column-vector y was passed when a 1d array was expected. Please change the shape of y to (n_samples, ), for example using ravel().\n",
            "  y = column_or_1d(y, dtype=self.classes_.dtype, warn=True)\n",
            "/usr/local/lib/python3.10/dist-packages/lightgbm/sklearn.py:726: UserWarning: 'early_stopping_rounds' argument is deprecated and will be removed in a future release of LightGBM. Pass 'early_stopping()' callback via 'callbacks' argument instead.\n",
            "  _log_warning(\"'early_stopping_rounds' argument is deprecated and will be removed in a future release of LightGBM. \"\n",
            "/usr/local/lib/python3.10/dist-packages/lightgbm/sklearn.py:736: UserWarning: 'verbose' argument is deprecated and will be removed in a future release of LightGBM. Pass 'log_evaluation()' callback via 'callbacks' argument instead.\n",
            "  _log_warning(\"'verbose' argument is deprecated and will be removed in a future release of LightGBM. \"\n"
          ]
        },
        {
          "output_type": "stream",
          "name": "stdout",
          "text": [
            "[1]\tvalid_0's multi_logloss: 0.799694\n",
            "[2]\tvalid_0's multi_logloss: 0.770445\n",
            "[3]\tvalid_0's multi_logloss: 0.747715\n",
            "[4]\tvalid_0's multi_logloss: 0.727776\n",
            "[5]\tvalid_0's multi_logloss: 0.710803\n",
            "[6]\tvalid_0's multi_logloss: 0.69435\n",
            "[7]\tvalid_0's multi_logloss: 0.67972\n",
            "[8]\tvalid_0's multi_logloss: 0.667242\n",
            "[9]\tvalid_0's multi_logloss: 0.656066\n",
            "[10]\tvalid_0's multi_logloss: 0.645608\n",
            "[11]\tvalid_0's multi_logloss: 0.636569\n",
            "[12]\tvalid_0's multi_logloss: 0.628278\n",
            "[13]\tvalid_0's multi_logloss: 0.620379\n",
            "[14]\tvalid_0's multi_logloss: 0.61281\n",
            "[15]\tvalid_0's multi_logloss: 0.606037\n",
            "[16]\tvalid_0's multi_logloss: 0.598316\n",
            "[17]\tvalid_0's multi_logloss: 0.593211\n",
            "[18]\tvalid_0's multi_logloss: 0.585605\n",
            "[19]\tvalid_0's multi_logloss: 0.579275\n",
            "[20]\tvalid_0's multi_logloss: 0.574746\n",
            "[21]\tvalid_0's multi_logloss: 0.569371\n",
            "[22]\tvalid_0's multi_logloss: 0.564516\n",
            "[23]\tvalid_0's multi_logloss: 0.560714\n",
            "[24]\tvalid_0's multi_logloss: 0.556618\n",
            "[25]\tvalid_0's multi_logloss: 0.552086\n",
            "[26]\tvalid_0's multi_logloss: 0.548314\n",
            "[27]\tvalid_0's multi_logloss: 0.545521\n",
            "[28]\tvalid_0's multi_logloss: 0.5423\n",
            "[29]\tvalid_0's multi_logloss: 0.539785\n",
            "[30]\tvalid_0's multi_logloss: 0.536631\n",
            "[31]\tvalid_0's multi_logloss: 0.533923\n",
            "[32]\tvalid_0's multi_logloss: 0.532159\n",
            "[33]\tvalid_0's multi_logloss: 0.530491\n",
            "[34]\tvalid_0's multi_logloss: 0.527479\n",
            "[35]\tvalid_0's multi_logloss: 0.525345\n",
            "[36]\tvalid_0's multi_logloss: 0.523077\n",
            "[37]\tvalid_0's multi_logloss: 0.521499\n",
            "[38]\tvalid_0's multi_logloss: 0.520017\n",
            "[39]\tvalid_0's multi_logloss: 0.518074\n",
            "[40]\tvalid_0's multi_logloss: 0.516913\n",
            "[41]\tvalid_0's multi_logloss: 0.513566\n",
            "[42]\tvalid_0's multi_logloss: 0.511669\n",
            "[43]\tvalid_0's multi_logloss: 0.509664\n",
            "[44]\tvalid_0's multi_logloss: 0.507645\n",
            "[45]\tvalid_0's multi_logloss: 0.506397\n",
            "[46]\tvalid_0's multi_logloss: 0.504791\n",
            "[47]\tvalid_0's multi_logloss: 0.502929\n",
            "[48]\tvalid_0's multi_logloss: 0.502334\n",
            "[49]\tvalid_0's multi_logloss: 0.501245\n",
            "[50]\tvalid_0's multi_logloss: 0.499945\n",
            "[51]\tvalid_0's multi_logloss: 0.498726\n",
            "[52]\tvalid_0's multi_logloss: 0.497374\n",
            "[53]\tvalid_0's multi_logloss: 0.495988\n",
            "[54]\tvalid_0's multi_logloss: 0.495219\n",
            "[55]\tvalid_0's multi_logloss: 0.494708\n",
            "[56]\tvalid_0's multi_logloss: 0.493473\n",
            "[57]\tvalid_0's multi_logloss: 0.492411\n",
            "[58]\tvalid_0's multi_logloss: 0.491585\n",
            "[59]\tvalid_0's multi_logloss: 0.490666\n",
            "[60]\tvalid_0's multi_logloss: 0.489988\n",
            "[61]\tvalid_0's multi_logloss: 0.488225\n",
            "[62]\tvalid_0's multi_logloss: 0.487214\n",
            "[63]\tvalid_0's multi_logloss: 0.485604\n",
            "[64]\tvalid_0's multi_logloss: 0.485098\n",
            "[65]\tvalid_0's multi_logloss: 0.48353\n",
            "[66]\tvalid_0's multi_logloss: 0.482481\n",
            "[67]\tvalid_0's multi_logloss: 0.481726\n",
            "[68]\tvalid_0's multi_logloss: 0.480792\n",
            "[69]\tvalid_0's multi_logloss: 0.480732\n",
            "[70]\tvalid_0's multi_logloss: 0.480123\n",
            "[71]\tvalid_0's multi_logloss: 0.4795\n",
            "[72]\tvalid_0's multi_logloss: 0.478622\n",
            "[73]\tvalid_0's multi_logloss: 0.477534\n",
            "[74]\tvalid_0's multi_logloss: 0.476503\n",
            "[75]\tvalid_0's multi_logloss: 0.475417\n",
            "[76]\tvalid_0's multi_logloss: 0.474979\n",
            "[77]\tvalid_0's multi_logloss: 0.473839\n",
            "[78]\tvalid_0's multi_logloss: 0.473449\n",
            "[79]\tvalid_0's multi_logloss: 0.472819\n",
            "[80]\tvalid_0's multi_logloss: 0.47217\n",
            "[81]\tvalid_0's multi_logloss: 0.472066\n",
            "[82]\tvalid_0's multi_logloss: 0.470964\n",
            "[83]\tvalid_0's multi_logloss: 0.47059\n",
            "[84]\tvalid_0's multi_logloss: 0.469931\n",
            "[85]\tvalid_0's multi_logloss: 0.46963\n",
            "[86]\tvalid_0's multi_logloss: 0.468504\n",
            "[87]\tvalid_0's multi_logloss: 0.468119\n",
            "[88]\tvalid_0's multi_logloss: 0.468197\n",
            "[89]\tvalid_0's multi_logloss: 0.467097\n",
            "[90]\tvalid_0's multi_logloss: 0.465883\n",
            "[91]\tvalid_0's multi_logloss: 0.465451\n",
            "[92]\tvalid_0's multi_logloss: 0.464752\n",
            "[93]\tvalid_0's multi_logloss: 0.464057\n",
            "[94]\tvalid_0's multi_logloss: 0.463977\n",
            "[95]\tvalid_0's multi_logloss: 0.463234\n",
            "[96]\tvalid_0's multi_logloss: 0.462325\n",
            "[97]\tvalid_0's multi_logloss: 0.461462\n",
            "[98]\tvalid_0's multi_logloss: 0.46071\n",
            "[99]\tvalid_0's multi_logloss: 0.460587\n",
            "[100]\tvalid_0's multi_logloss: 0.460037\n"
          ]
        }
      ]
    },
    {
      "cell_type": "code",
      "source": [
        "# 오버샘플링 전\n",
        "from sklearn.metrics import accuracy_score\n",
        "\n",
        "print(accuracy_score(train_output, train_pred))\n",
        "print(accuracy_score(test_output, test_pred))"
      ],
      "metadata": {
        "colab": {
          "base_uri": "https://localhost:8080/"
        },
        "id": "9hCR_YiEg3GC",
        "outputId": "452c2237-6d03-4d7c-bc97-ac3e002bfb6b"
      },
      "execution_count": null,
      "outputs": [
        {
          "output_type": "stream",
          "name": "stdout",
          "text": [
            "0.9276777875329236\n",
            "0.7866549604916594\n"
          ]
        }
      ]
    },
    {
      "cell_type": "code",
      "source": [
        "from sklearn.metrics import accuracy_score, precision_score, recall_score, f1_score\n",
        "\n",
        "# 테스트 데이터 예측\n",
        "test_pred = LGBM.predict(test_input)\n",
        "\n",
        "# 정확도 계산\n",
        "accuracy = accuracy_score(test_output, test_pred)\n",
        "print(\"Accuracy:\", accuracy)\n",
        "\n",
        "# 정밀도 계산\n",
        "precision = precision_score(test_output, test_pred, average='macro')\n",
        "print(\"Precision:\", precision)\n",
        "\n",
        "# 재현율 계산\n",
        "recall = recall_score(test_output, test_pred, average='macro')\n",
        "print(\"Recall:\", recall)\n",
        "\n",
        "# F1 스코어 계산\n",
        "f1 = f1_score(test_output, test_pred, average='macro')\n",
        "print(\"F1 Score:\", f1)"
      ],
      "metadata": {
        "colab": {
          "base_uri": "https://localhost:8080/"
        },
        "id": "d0PZ2-R5AhEd",
        "outputId": "ea3d3505-5fad-4caf-aef1-56a0c4e97d71"
      },
      "execution_count": null,
      "outputs": [
        {
          "output_type": "stream",
          "name": "stdout",
          "text": [
            "Accuracy: 0.7866549604916594\n",
            "Precision: 0.8064685479616706\n",
            "Recall: 0.7340414455421468\n",
            "F1 Score: 0.7636371852563455\n"
          ]
        }
      ]
    },
    {
      "cell_type": "code",
      "source": [
        "plt.hist(test_output, bins=3)\n",
        "plt.show()"
      ],
      "metadata": {
        "colab": {
          "base_uri": "https://localhost:8080/",
          "height": 430
        },
        "id": "L3n3Sg4RijDY",
        "outputId": "8aa85e3b-3f9c-4d5c-8caf-38a70746bab9"
      },
      "execution_count": null,
      "outputs": [
        {
          "output_type": "display_data",
          "data": {
            "text/plain": [
              "<Figure size 640x480 with 1 Axes>"
            ],
            "image/png": "[encoded data removed]"
          },
          "metadata": {}
        }
      ]
    },
    {
      "cell_type": "code",
      "source": [
        "plt.hist(test_pred, bins=3)\n",
        "plt.show()"
      ],
      "metadata": {
        "colab": {
          "base_uri": "https://localhost:8080/",
          "height": 433
        },
        "id": "krhkeMVrimkv",
        "outputId": "422cb8f8-bf78-4754-df10-f8b38c57dcfe"
      },
      "execution_count": null,
      "outputs": [
        {
          "output_type": "display_data",
          "data": {
            "text/plain": [
              "<Figure size 640x480 with 1 Axes>"
            ],
            "image/png": "[encoded data removed]"
          },
          "metadata": {}
        }
      ]
    },
    {
      "cell_type": "markdown",
      "source": [
        "데이터를 균등하게 나눈 후에는 모든 데이터를 같은 라벨로 분류하지는 않지만 데이터 자체의 불균형 때문에 과적합 되어 있음을 볼 수 있다."
      ],
      "metadata": {
        "id": "8JM4YDR0v6ky"
      }
    },
    {
      "cell_type": "markdown",
      "source": [
        "# SMOTE를 사용한 오버샘플링\n"
      ],
      "metadata": {
        "id": "Gfjdf3BihCZf"
      }
    },
    {
      "cell_type": "code",
      "source": [
        "import numpy as np\n",
        "import pandas as pd\n",
        "import matplotlib.pyplot as plt\n",
        "\n",
        "### 데이터 로딩 ###\n",
        "dataset = pd.read_csv('/content/drive/MyDrive/빅데이터 팀플/dementia_analytics/data_processing/dataset_05/dataset_with_label_fill_user_mean.csv')\n",
        "data_output = dataset[['DIAG_NM']]\n",
        "# data_input에서 score 가 들어가는 column 등 필요 없는 column 제거\n",
        "data_input = dataset.drop(['DIAG_NM', 'ID', 'date'], axis=1)\n",
        "columns_to_drop = [col for col in data_input.columns if 'score' in col]\n",
        "data_input = data_input[['sleep_breath_average', 'sleep_hr_average', 'sleep_hr_lowest', 'sleep_deep', 'sleep_rem', 'activity_cal_total', 'sleep_awake', 'activity_steps', 'activity_total', 'sleep_duration', 'activity_daily_movement']]\n",
        "# KeyError: \"['sleep_bedtime_end', 'sleep_bedtime_start', 'sleep_hr_5min'] not in index\"\n",
        "#'activity_cal_active', \n",
        "#  'activity_met_min_inactive', 'activity_high', 'sleep_efficiency', 'activity_rest', 'activity_met_min_low', 'activity_inactive', 'activity_medium', 'activity_low', 'activity_met_min_medium', 'activity_met_min_high'"
      ],
      "metadata": {
        "id": "WDkH_8vCi1RB"
      },
      "execution_count": null,
      "outputs": []
    },
    {
      "cell_type": "code",
      "source": [
        "from sklearn.model_selection import train_test_split\n",
        "\n",
        "train_input, test_input, train_output, test_output = train_test_split(data_input, data_output, test_size=0.2, shuffle=True, stratify=data_output, random_state=42)"
      ],
      "metadata": {
        "id": "3fI0Mv9WJ-TS"
      },
      "execution_count": null,
      "outputs": []
    },
    {
      "cell_type": "code",
      "source": [
        "from sklearn.preprocessing import MinMaxScaler\n",
        "\n",
        "scaler = MinMaxScaler(feature_range=(0, 1))\n",
        "scaler_fit = scaler.fit(train_input)\n",
        "train_input = scaler_fit.transform(train_input)"
      ],
      "metadata": {
        "id": "iyLwuT5Fzghh"
      },
      "execution_count": null,
      "outputs": []
    },
    {
      "cell_type": "code",
      "source": [
        "# 오버샘플링 전\n",
        "plt.hist(train_output)\n",
        "plt.show()"
      ],
      "metadata": {
        "colab": {
          "base_uri": "https://localhost:8080/",
          "height": 430
        },
        "id": "Ha6325JMHcL9",
        "outputId": "5da429a8-cc67-4326-8c6b-c7c46cb68e4b"
      },
      "execution_count": null,
      "outputs": [
        {
          "output_type": "display_data",
          "data": {
            "text/plain": [
              "<Figure size 640x480 with 1 Axes>"
            ],
            "image/png": "[encoded data removed]"
          },
          "metadata": {}
        }
      ]
    },
    {
      "cell_type": "code",
      "source": [
        "from imblearn.over_sampling import SMOTE\n",
        "\n",
        "sm = SMOTE(random_state=32)\n",
        "\n",
        "train_input, train_output = sm.fit_resample(train_input, train_output)"
      ],
      "metadata": {
        "id": "lEsL4PLAbN9j"
      },
      "execution_count": null,
      "outputs": []
    },
    {
      "cell_type": "code",
      "source": [
        "# 오버샘플링 후\n",
        "plt.hist(train_output)\n",
        "plt.show()"
      ],
      "metadata": {
        "colab": {
          "base_uri": "https://localhost:8080/",
          "height": 430
        },
        "id": "y71cBzRGtUm-",
        "outputId": "cab3f07f-60fe-4b89-fc10-f1cdad459431"
      },
      "execution_count": null,
      "outputs": [
        {
          "output_type": "display_data",
          "data": {
            "text/plain": [
              "<Figure size 640x480 with 1 Axes>"
            ],
            "image/png": "[encoded data removed]"
          },
          "metadata": {}
        }
      ]
    },
    {
      "cell_type": "code",
      "source": [
        "### 레이블 인코딩 ### \n",
        "\n",
        "# 트리 기반 알고리즘에서는 숫자의 크기에 따른 중요도 차이가 없어 레이블 인코딩 OK\n",
        "# 선형적 특징을 가지는 알고리즘들은 one hot encoding 통해 해결해야 함\n",
        "\n",
        "from sklearn.preprocessing import LabelEncoder\n",
        "\n",
        "# 라벨인코더 선언 및 Fitting\n",
        "# CN : 0, Dem : 1, MCI : 2\n",
        "items = ['CN', 'Dem', 'MCI']\n",
        "encoder = LabelEncoder()\n",
        "encoder = encoder.fit(items)\n",
        "\n",
        "# train\n",
        "train_output['DIAG_NM'] = encoder.transform(train_output['DIAG_NM'])\n",
        "# display(encoder.classes_)\n",
        "# display(encoder.inverse_transform(train_output['DIAG_NM']))\n",
        "\n",
        "# test\n",
        "test_output['DIAG_NM'] = encoder.transform(test_output['DIAG_NM'])"
      ],
      "metadata": {
        "id": "9ijhKvNcomz5"
      },
      "execution_count": null,
      "outputs": []
    },
    {
      "cell_type": "code",
      "source": [
        "### Light GBM ###\n",
        "from lightgbm import LGBMClassifier\n",
        "\n",
        "test_input = scaler_fit.transform(test_input)\n",
        "\n",
        "LGBM = LGBMClassifier()\n",
        "evals = [(test_input, test_output)]\n",
        "LGBM.fit(train_input, train_output, early_stopping_rounds=200, eval_metric='logloss', eval_set=evals, verbose=True)\n",
        "test_pred = LGBM.predict(test_input)\n",
        "train_pred = LGBM.predict(train_input)\n",
        "# pred_proba = LGBM.predict_proba(test_input)[:1]"
      ],
      "metadata": {
        "colab": {
          "base_uri": "https://localhost:8080/"
        },
        "id": "9Fb_agHvqgGF",
        "outputId": "92fc7a3d-180c-4b7e-f105-75466051e996"
      },
      "execution_count": null,
      "outputs": [
        {
          "output_type": "stream",
          "name": "stderr",
          "text": [
            "/usr/local/lib/python3.10/dist-packages/sklearn/preprocessing/_label.py:99: DataConversionWarning: A column-vector y was passed when a 1d array was expected. Please change the shape of y to (n_samples, ), for example using ravel().\n",
            "  y = column_or_1d(y, warn=True)\n",
            "/usr/local/lib/python3.10/dist-packages/sklearn/preprocessing/_label.py:134: DataConversionWarning: A column-vector y was passed when a 1d array was expected. Please change the shape of y to (n_samples, ), for example using ravel().\n",
            "  y = column_or_1d(y, dtype=self.classes_.dtype, warn=True)\n",
            "/usr/local/lib/python3.10/dist-packages/sklearn/preprocessing/_label.py:134: DataConversionWarning: A column-vector y was passed when a 1d array was expected. Please change the shape of y to (n_samples, ), for example using ravel().\n",
            "  y = column_or_1d(y, dtype=self.classes_.dtype, warn=True)\n",
            "/usr/local/lib/python3.10/dist-packages/lightgbm/sklearn.py:726: UserWarning: 'early_stopping_rounds' argument is deprecated and will be removed in a future release of LightGBM. Pass 'early_stopping()' callback via 'callbacks' argument instead.\n",
            "  _log_warning(\"'early_stopping_rounds' argument is deprecated and will be removed in a future release of LightGBM. \"\n",
            "/usr/local/lib/python3.10/dist-packages/lightgbm/sklearn.py:736: UserWarning: 'verbose' argument is deprecated and will be removed in a future release of LightGBM. Pass 'log_evaluation()' callback via 'callbacks' argument instead.\n",
            "  _log_warning(\"'verbose' argument is deprecated and will be removed in a future release of LightGBM. \"\n"
          ]
        },
        {
          "output_type": "stream",
          "name": "stdout",
          "text": [
            "[1]\tvalid_0's multi_logloss: 1.05088\n",
            "[2]\tvalid_0's multi_logloss: 1.01324\n",
            "[3]\tvalid_0's multi_logloss: 0.97968\n",
            "[4]\tvalid_0's multi_logloss: 0.951253\n",
            "[5]\tvalid_0's multi_logloss: 0.924379\n",
            "[6]\tvalid_0's multi_logloss: 0.90112\n",
            "[7]\tvalid_0's multi_logloss: 0.881015\n",
            "[8]\tvalid_0's multi_logloss: 0.861674\n",
            "[9]\tvalid_0's multi_logloss: 0.840549\n",
            "[10]\tvalid_0's multi_logloss: 0.823197\n",
            "[11]\tvalid_0's multi_logloss: 0.806242\n",
            "[12]\tvalid_0's multi_logloss: 0.792459\n",
            "[13]\tvalid_0's multi_logloss: 0.77932\n",
            "[14]\tvalid_0's multi_logloss: 0.765024\n",
            "[15]\tvalid_0's multi_logloss: 0.752822\n",
            "[16]\tvalid_0's multi_logloss: 0.741113\n",
            "[17]\tvalid_0's multi_logloss: 0.732048\n",
            "[18]\tvalid_0's multi_logloss: 0.721717\n",
            "[19]\tvalid_0's multi_logloss: 0.712412\n",
            "[20]\tvalid_0's multi_logloss: 0.70277\n",
            "[21]\tvalid_0's multi_logloss: 0.693402\n",
            "[22]\tvalid_0's multi_logloss: 0.685686\n",
            "[23]\tvalid_0's multi_logloss: 0.678257\n",
            "[24]\tvalid_0's multi_logloss: 0.672293\n",
            "[25]\tvalid_0's multi_logloss: 0.666067\n",
            "[26]\tvalid_0's multi_logloss: 0.660179\n",
            "[27]\tvalid_0's multi_logloss: 0.654496\n",
            "[28]\tvalid_0's multi_logloss: 0.648648\n",
            "[29]\tvalid_0's multi_logloss: 0.642734\n",
            "[30]\tvalid_0's multi_logloss: 0.639047\n",
            "[31]\tvalid_0's multi_logloss: 0.634289\n",
            "[32]\tvalid_0's multi_logloss: 0.629399\n",
            "[33]\tvalid_0's multi_logloss: 0.625582\n",
            "[34]\tvalid_0's multi_logloss: 0.620972\n",
            "[35]\tvalid_0's multi_logloss: 0.616407\n",
            "[36]\tvalid_0's multi_logloss: 0.612015\n",
            "[37]\tvalid_0's multi_logloss: 0.607831\n",
            "[38]\tvalid_0's multi_logloss: 0.603924\n",
            "[39]\tvalid_0's multi_logloss: 0.60056\n",
            "[40]\tvalid_0's multi_logloss: 0.596943\n",
            "[41]\tvalid_0's multi_logloss: 0.593107\n",
            "[42]\tvalid_0's multi_logloss: 0.589684\n",
            "[43]\tvalid_0's multi_logloss: 0.586298\n",
            "[44]\tvalid_0's multi_logloss: 0.584447\n",
            "[45]\tvalid_0's multi_logloss: 0.581757\n",
            "[46]\tvalid_0's multi_logloss: 0.578897\n",
            "[47]\tvalid_0's multi_logloss: 0.57613\n",
            "[48]\tvalid_0's multi_logloss: 0.573442\n",
            "[49]\tvalid_0's multi_logloss: 0.571027\n",
            "[50]\tvalid_0's multi_logloss: 0.569238\n",
            "[51]\tvalid_0's multi_logloss: 0.566258\n",
            "[52]\tvalid_0's multi_logloss: 0.563833\n",
            "[53]\tvalid_0's multi_logloss: 0.561668\n",
            "[54]\tvalid_0's multi_logloss: 0.559354\n",
            "[55]\tvalid_0's multi_logloss: 0.557867\n",
            "[56]\tvalid_0's multi_logloss: 0.556285\n",
            "[57]\tvalid_0's multi_logloss: 0.554587\n",
            "[58]\tvalid_0's multi_logloss: 0.552911\n",
            "[59]\tvalid_0's multi_logloss: 0.55058\n",
            "[60]\tvalid_0's multi_logloss: 0.549069\n",
            "[61]\tvalid_0's multi_logloss: 0.546816\n",
            "[62]\tvalid_0's multi_logloss: 0.544608\n",
            "[63]\tvalid_0's multi_logloss: 0.54359\n",
            "[64]\tvalid_0's multi_logloss: 0.542245\n",
            "[65]\tvalid_0's multi_logloss: 0.540727\n",
            "[66]\tvalid_0's multi_logloss: 0.539494\n",
            "[67]\tvalid_0's multi_logloss: 0.537429\n",
            "[68]\tvalid_0's multi_logloss: 0.535689\n",
            "[69]\tvalid_0's multi_logloss: 0.534444\n",
            "[70]\tvalid_0's multi_logloss: 0.533549\n",
            "[71]\tvalid_0's multi_logloss: 0.532108\n",
            "[72]\tvalid_0's multi_logloss: 0.530437\n",
            "[73]\tvalid_0's multi_logloss: 0.529338\n",
            "[74]\tvalid_0's multi_logloss: 0.528498\n",
            "[75]\tvalid_0's multi_logloss: 0.527854\n",
            "[76]\tvalid_0's multi_logloss: 0.526233\n",
            "[77]\tvalid_0's multi_logloss: 0.525423\n",
            "[78]\tvalid_0's multi_logloss: 0.524637\n",
            "[79]\tvalid_0's multi_logloss: 0.52372\n",
            "[80]\tvalid_0's multi_logloss: 0.522942\n",
            "[81]\tvalid_0's multi_logloss: 0.52174\n",
            "[82]\tvalid_0's multi_logloss: 0.520017\n",
            "[83]\tvalid_0's multi_logloss: 0.519216\n",
            "[84]\tvalid_0's multi_logloss: 0.518303\n",
            "[85]\tvalid_0's multi_logloss: 0.5177\n",
            "[86]\tvalid_0's multi_logloss: 0.517045\n",
            "[87]\tvalid_0's multi_logloss: 0.516356\n",
            "[88]\tvalid_0's multi_logloss: 0.515956\n",
            "[89]\tvalid_0's multi_logloss: 0.514946\n",
            "[90]\tvalid_0's multi_logloss: 0.51407\n",
            "[91]\tvalid_0's multi_logloss: 0.512298\n",
            "[92]\tvalid_0's multi_logloss: 0.511559\n",
            "[93]\tvalid_0's multi_logloss: 0.510976\n",
            "[94]\tvalid_0's multi_logloss: 0.510217\n",
            "[95]\tvalid_0's multi_logloss: 0.508804\n",
            "[96]\tvalid_0's multi_logloss: 0.508182\n",
            "[97]\tvalid_0's multi_logloss: 0.506995\n",
            "[98]\tvalid_0's multi_logloss: 0.506484\n",
            "[99]\tvalid_0's multi_logloss: 0.504904\n",
            "[100]\tvalid_0's multi_logloss: 0.504134\n"
          ]
        }
      ]
    },
    {
      "cell_type": "code",
      "source": [
        "\n",
        "print(accuracy_score(train_output, train_pred))\n",
        "print(accuracy_score(test_output, test_pred))"
      ],
      "metadata": {
        "colab": {
          "base_uri": "https://localhost:8080/"
        },
        "id": "erslbyKNA0qx",
        "outputId": "d046d5cb-edb7-41fa-c815-d400b230f2cd"
      },
      "execution_count": null,
      "outputs": [
        {
          "output_type": "stream",
          "name": "stdout",
          "text": [
            "0.9418696953043904\n",
            "0.7704126426690079\n"
          ]
        }
      ]
    },
    {
      "cell_type": "code",
      "source": [
        "from sklearn.metrics import accuracy_score, precision_score, recall_score, f1_score\n",
        "\n",
        "# 테스트 데이터 예측\n",
        "test_pred = LGBM.predict(test_input)\n",
        "\n",
        "# 정확도 계산\n",
        "accuracy = accuracy_score(test_output, test_pred)\n",
        "print(\"Accuracy:\", accuracy)\n",
        "\n",
        "# 정밀도 계산\n",
        "precision = precision_score(test_output, test_pred, average='macro')\n",
        "print(\"Precision:\", precision)\n",
        "\n",
        "# 재현율 계산\n",
        "recall = recall_score(test_output, test_pred, average='macro')\n",
        "print(\"Recall:\", recall)\n",
        "\n",
        "# F1 스코어 계산\n",
        "f1 = f1_score(test_output, test_pred, average='macro')\n",
        "print(\"F1 Score:\", f1)"
      ],
      "metadata": {
        "colab": {
          "base_uri": "https://localhost:8080/"
        },
        "id": "laq1TasrexV_",
        "outputId": "83481985-2226-4efa-e01b-70d077cdd79e"
      },
      "execution_count": null,
      "outputs": [
        {
          "output_type": "stream",
          "name": "stdout",
          "text": [
            "Accuracy: 0.7704126426690079\n",
            "Precision: 0.7282679357125437\n",
            "Recall: 0.7679857247318678\n",
            "F1 Score: 0.7460160196972794\n"
          ]
        }
      ]
    },
    {
      "cell_type": "code",
      "source": [
        "plt.hist(test_output, 3)\n",
        "plt.show()"
      ],
      "metadata": {
        "colab": {
          "base_uri": "https://localhost:8080/",
          "height": 430
        },
        "id": "53ZPhFbkjd8H",
        "outputId": "5d5d725e-2d16-428e-b599-c11071d01b79"
      },
      "execution_count": null,
      "outputs": [
        {
          "output_type": "display_data",
          "data": {
            "text/plain": [
              "<Figure size 640x480 with 1 Axes>"
            ],
            "image/png": "[encoded data removed]"
          },
          "metadata": {}
        }
      ]
    },
    {
      "cell_type": "code",
      "source": [
        "plt.hist(test_pred, 3)\n",
        "plt.show()"
      ],
      "metadata": {
        "colab": {
          "base_uri": "https://localhost:8080/",
          "height": 430
        },
        "id": "zcGYYVw5jiL9",
        "outputId": "ed18d928-5fa4-4d74-9a06-9d5d6c006071"
      },
      "execution_count": null,
      "outputs": [
        {
          "output_type": "display_data",
          "data": {
            "text/plain": [
              "<Figure size 640x480 with 1 Axes>"
            ],
            "image/png": "[encoded data removed]"
          },
          "metadata": {}
        }
      ]
    },
    {
      "cell_type": "markdown",
      "source": [
        "SMOTE를 사용하여 데이터 불균형 문제를 해결했지만 accuracy가 오히려 떨어지는 문제가 발생하였습니다."
      ],
      "metadata": {
        "id": "BOXmWy7ewLvU"
      }
    },
    {
      "cell_type": "markdown",
      "source": [
        "# 클래스 가중치 설정\n",
        "\n",
        "SMOTE를 사용해도 성능이 높아지지 않아서 SMOTE적용을 하지 않고 클래스 가중치를 설정하여 데이터 불균형을 해결하고자 하였습니다."
      ],
      "metadata": {
        "id": "OwpsOkQ21rMC"
      }
    },
    {
      "cell_type": "code",
      "source": [
        "import numpy as np\n",
        "import pandas as pd\n",
        "import matplotlib.pyplot as plt\n",
        "\n",
        "### 데이터 로딩 ###\n",
        "dataset = pd.read_csv('/content/drive/MyDrive/빅데이터 팀플/dementia_analytics/data_processing/dataset_05/dataset_with_label_fill_user_mean.csv')\n",
        "data_output = dataset[['DIAG_NM']]\n",
        "# data_input에서 score 가 들어가는 column 등 필요 없는 column 제거\n",
        "data_input = dataset.drop(['DIAG_NM', 'ID', 'date'], axis=1)\n",
        "columns_to_drop = [col for col in data_input.columns if 'score' in col]\n",
        "data_input = data_input[['sleep_breath_average', 'sleep_hr_average', 'sleep_hr_lowest', 'sleep_deep', 'sleep_rem', 'activity_cal_total', 'sleep_awake', 'activity_steps', 'activity_total', 'sleep_duration', 'activity_daily_movement']]\n",
        "# KeyError: \"['sleep_bedtime_end', 'sleep_bedtime_start', 'sleep_hr_5min'] not in index\"\n",
        "#'activity_cal_active', \n",
        "#  'activity_met_min_inactive', 'activity_high', 'sleep_efficiency', 'activity_rest', 'activity_met_min_low', 'activity_inactive', 'activity_medium', 'activity_low', 'activity_met_min_medium', 'activity_met_min_high'"
      ],
      "metadata": {
        "id": "HajGBb9Z3JV7"
      },
      "execution_count": null,
      "outputs": []
    },
    {
      "cell_type": "code",
      "source": [
        "from sklearn.model_selection import train_test_split\n",
        "\n",
        "train_input, test_input, train_output, test_output = train_test_split(data_input, data_output, test_size=0.2, shuffle=True, stratify=data_output, random_state=42)"
      ],
      "metadata": {
        "id": "XlULFOek3JYl"
      },
      "execution_count": null,
      "outputs": []
    },
    {
      "cell_type": "code",
      "source": [
        "from sklearn.preprocessing import MinMaxScaler\n",
        "\n",
        "scaler = MinMaxScaler(feature_range=(0, 1))\n",
        "scaler_fit = scaler.fit(train_input)\n",
        "train_input = scaler_fit.transform(train_input)"
      ],
      "metadata": {
        "id": "jWLH_RrC3Jal"
      },
      "execution_count": null,
      "outputs": []
    },
    {
      "cell_type": "code",
      "source": [
        "### 레이블 인코딩 ### \n",
        "\n",
        "# 트리 기반 알고리즘에서는 숫자의 크기에 따른 중요도 차이가 없어 레이블 인코딩 OK\n",
        "# 선형적 특징을 가지는 알고리즘들은 one hot encoding 통해 해결해야 함\n",
        "\n",
        "from sklearn.preprocessing import LabelEncoder\n",
        "\n",
        "# 라벨인코더 선언 및 Fitting\n",
        "# CN : 0, Dem : 1, MCI : 2\n",
        "items = ['CN', 'Dem', 'MCI']\n",
        "encoder = LabelEncoder()\n",
        "encoder = encoder.fit(items)\n",
        "\n",
        "# train\n",
        "train_output['DIAG_NM'] = encoder.transform(train_output['DIAG_NM'])\n",
        "# display(encoder.classes_)\n",
        "# display(encoder.inverse_transform(train_output['DIAG_NM']))\n",
        "\n",
        "# test\n",
        "test_output['DIAG_NM'] = encoder.transform(test_output['DIAG_NM'])"
      ],
      "metadata": {
        "id": "Vz5dSLoP3Jej"
      },
      "execution_count": null,
      "outputs": []
    },
    {
      "cell_type": "code",
      "source": [
        "plt.hist(train_output)\n",
        "plt.show()"
      ],
      "metadata": {
        "colab": {
          "base_uri": "https://localhost:8080/",
          "height": 430
        },
        "id": "g466UynU3b49",
        "outputId": "d44fb4a4-8b60-4391-d21f-420a04957e34"
      },
      "execution_count": null,
      "outputs": [
        {
          "output_type": "display_data",
          "data": {
            "text/plain": [
              "<Figure size 640x480 with 1 Axes>"
            ],
            "image/png": "[encoded data removed]"
          },
          "metadata": {}
        }
      ]
    },
    {
      "cell_type": "code",
      "source": [
        "from collections import Counter\n",
        "\n",
        "class_counts = dict(Counter(train_output['DIAG_NM']))\n",
        "total_samples = sum(class_counts.values())\n",
        "class_weights = {class_label: total_samples / count for class_label, count in class_counts.items()}\n",
        "print(total_samples)\n",
        "print(class_counts)\n",
        "print(class_weights)"
      ],
      "metadata": {
        "colab": {
          "base_uri": "https://localhost:8080/"
        },
        "id": "gbOeXkI-3pLL",
        "outputId": "1226cba2-4405-4b43-ae0f-849700bd314a"
      },
      "execution_count": null,
      "outputs": [
        {
          "output_type": "stream",
          "name": "stdout",
          "text": [
            "9112\n",
            "{0: 5459, 1: 550, 2: 3103}\n",
            "{0: 1.6691701776882213, 1: 16.567272727272726, 2: 2.9365130518852722}\n"
          ]
        }
      ]
    },
    {
      "cell_type": "code",
      "source": [
        "### Light GBM ###\n",
        "from lightgbm import LGBMClassifier\n",
        "\n",
        "test_input = scaler_fit.transform(test_input)\n",
        "\n",
        "LGBM = LGBMClassifier(class_weight=class_weights)\n",
        "evals = [(test_input, test_output)]\n",
        "LGBM.fit(train_input, train_output, early_stopping_rounds=200, eval_metric='logloss', eval_set=evals, verbose=True)\n",
        "test_pred = LGBM.predict(test_input)\n",
        "train_pred = LGBM.predict(train_input)"
      ],
      "metadata": {
        "colab": {
          "base_uri": "https://localhost:8080/"
        },
        "id": "EIiR2JWN3Jld",
        "outputId": "b9d0fc34-b6db-44da-b00a-1ac9bbaebe53"
      },
      "execution_count": null,
      "outputs": [
        {
          "output_type": "stream",
          "name": "stderr",
          "text": [
            "/usr/local/lib/python3.10/dist-packages/sklearn/preprocessing/_label.py:99: DataConversionWarning: A column-vector y was passed when a 1d array was expected. Please change the shape of y to (n_samples, ), for example using ravel().\n",
            "  y = column_or_1d(y, warn=True)\n",
            "/usr/local/lib/python3.10/dist-packages/sklearn/preprocessing/_label.py:134: DataConversionWarning: A column-vector y was passed when a 1d array was expected. Please change the shape of y to (n_samples, ), for example using ravel().\n",
            "  y = column_or_1d(y, dtype=self.classes_.dtype, warn=True)\n",
            "/usr/local/lib/python3.10/dist-packages/sklearn/preprocessing/_label.py:134: DataConversionWarning: A column-vector y was passed when a 1d array was expected. Please change the shape of y to (n_samples, ), for example using ravel().\n",
            "  y = column_or_1d(y, dtype=self.classes_.dtype, warn=True)\n",
            "/usr/local/lib/python3.10/dist-packages/lightgbm/sklearn.py:726: UserWarning: 'early_stopping_rounds' argument is deprecated and will be removed in a future release of LightGBM. Pass 'early_stopping()' callback via 'callbacks' argument instead.\n",
            "  _log_warning(\"'early_stopping_rounds' argument is deprecated and will be removed in a future release of LightGBM. \"\n",
            "/usr/local/lib/python3.10/dist-packages/lightgbm/sklearn.py:736: UserWarning: 'verbose' argument is deprecated and will be removed in a future release of LightGBM. Pass 'log_evaluation()' callback via 'callbacks' argument instead.\n",
            "  _log_warning(\"'verbose' argument is deprecated and will be removed in a future release of LightGBM. \"\n"
          ]
        },
        {
          "output_type": "stream",
          "name": "stdout",
          "text": [
            "[1]\tvalid_0's multi_logloss: 1.05404\n",
            "[2]\tvalid_0's multi_logloss: 1.0185\n",
            "[3]\tvalid_0's multi_logloss: 0.987215\n",
            "[4]\tvalid_0's multi_logloss: 0.959508\n",
            "[5]\tvalid_0's multi_logloss: 0.934115\n",
            "[6]\tvalid_0's multi_logloss: 0.911051\n",
            "[7]\tvalid_0's multi_logloss: 0.891007\n",
            "[8]\tvalid_0's multi_logloss: 0.872504\n",
            "[9]\tvalid_0's multi_logloss: 0.854473\n",
            "[10]\tvalid_0's multi_logloss: 0.838153\n",
            "[11]\tvalid_0's multi_logloss: 0.821825\n",
            "[12]\tvalid_0's multi_logloss: 0.805884\n",
            "[13]\tvalid_0's multi_logloss: 0.791297\n",
            "[14]\tvalid_0's multi_logloss: 0.778304\n",
            "[15]\tvalid_0's multi_logloss: 0.766992\n",
            "[16]\tvalid_0's multi_logloss: 0.756571\n",
            "[17]\tvalid_0's multi_logloss: 0.745995\n",
            "[18]\tvalid_0's multi_logloss: 0.735117\n",
            "[19]\tvalid_0's multi_logloss: 0.725534\n",
            "[20]\tvalid_0's multi_logloss: 0.716203\n",
            "[21]\tvalid_0's multi_logloss: 0.7081\n",
            "[22]\tvalid_0's multi_logloss: 0.699646\n",
            "[23]\tvalid_0's multi_logloss: 0.691685\n",
            "[24]\tvalid_0's multi_logloss: 0.683728\n",
            "[25]\tvalid_0's multi_logloss: 0.676773\n",
            "[26]\tvalid_0's multi_logloss: 0.670195\n",
            "[27]\tvalid_0's multi_logloss: 0.663587\n",
            "[28]\tvalid_0's multi_logloss: 0.658447\n",
            "[29]\tvalid_0's multi_logloss: 0.652876\n",
            "[30]\tvalid_0's multi_logloss: 0.647244\n",
            "[31]\tvalid_0's multi_logloss: 0.641224\n",
            "[32]\tvalid_0's multi_logloss: 0.636068\n",
            "[33]\tvalid_0's multi_logloss: 0.632199\n",
            "[34]\tvalid_0's multi_logloss: 0.628234\n",
            "[35]\tvalid_0's multi_logloss: 0.624085\n",
            "[36]\tvalid_0's multi_logloss: 0.619525\n",
            "[37]\tvalid_0's multi_logloss: 0.61581\n",
            "[38]\tvalid_0's multi_logloss: 0.611699\n",
            "[39]\tvalid_0's multi_logloss: 0.607409\n",
            "[40]\tvalid_0's multi_logloss: 0.60391\n",
            "[41]\tvalid_0's multi_logloss: 0.599889\n",
            "[42]\tvalid_0's multi_logloss: 0.5961\n",
            "[43]\tvalid_0's multi_logloss: 0.592882\n",
            "[44]\tvalid_0's multi_logloss: 0.589922\n",
            "[45]\tvalid_0's multi_logloss: 0.585966\n",
            "[46]\tvalid_0's multi_logloss: 0.582775\n",
            "[47]\tvalid_0's multi_logloss: 0.579897\n",
            "[48]\tvalid_0's multi_logloss: 0.577102\n",
            "[49]\tvalid_0's multi_logloss: 0.574221\n",
            "[50]\tvalid_0's multi_logloss: 0.57161\n",
            "[51]\tvalid_0's multi_logloss: 0.569788\n",
            "[52]\tvalid_0's multi_logloss: 0.566981\n",
            "[53]\tvalid_0's multi_logloss: 0.564807\n",
            "[54]\tvalid_0's multi_logloss: 0.561873\n",
            "[55]\tvalid_0's multi_logloss: 0.55959\n",
            "[56]\tvalid_0's multi_logloss: 0.557217\n",
            "[57]\tvalid_0's multi_logloss: 0.55439\n",
            "[58]\tvalid_0's multi_logloss: 0.552432\n",
            "[59]\tvalid_0's multi_logloss: 0.550972\n",
            "[60]\tvalid_0's multi_logloss: 0.549278\n",
            "[61]\tvalid_0's multi_logloss: 0.547663\n",
            "[62]\tvalid_0's multi_logloss: 0.545351\n",
            "[63]\tvalid_0's multi_logloss: 0.543619\n",
            "[64]\tvalid_0's multi_logloss: 0.542459\n",
            "[65]\tvalid_0's multi_logloss: 0.540887\n",
            "[66]\tvalid_0's multi_logloss: 0.538537\n",
            "[67]\tvalid_0's multi_logloss: 0.537859\n",
            "[68]\tvalid_0's multi_logloss: 0.536501\n",
            "[69]\tvalid_0's multi_logloss: 0.535464\n",
            "[70]\tvalid_0's multi_logloss: 0.533805\n",
            "[71]\tvalid_0's multi_logloss: 0.532637\n",
            "[72]\tvalid_0's multi_logloss: 0.531266\n",
            "[73]\tvalid_0's multi_logloss: 0.530062\n",
            "[74]\tvalid_0's multi_logloss: 0.528743\n",
            "[75]\tvalid_0's multi_logloss: 0.527634\n",
            "[76]\tvalid_0's multi_logloss: 0.526562\n",
            "[77]\tvalid_0's multi_logloss: 0.525073\n",
            "[78]\tvalid_0's multi_logloss: 0.523597\n",
            "[79]\tvalid_0's multi_logloss: 0.522236\n",
            "[80]\tvalid_0's multi_logloss: 0.521216\n",
            "[81]\tvalid_0's multi_logloss: 0.519881\n",
            "[82]\tvalid_0's multi_logloss: 0.518236\n",
            "[83]\tvalid_0's multi_logloss: 0.516699\n",
            "[84]\tvalid_0's multi_logloss: 0.515728\n",
            "[85]\tvalid_0's multi_logloss: 0.514611\n",
            "[86]\tvalid_0's multi_logloss: 0.513646\n",
            "[87]\tvalid_0's multi_logloss: 0.512892\n",
            "[88]\tvalid_0's multi_logloss: 0.511632\n",
            "[89]\tvalid_0's multi_logloss: 0.510488\n",
            "[90]\tvalid_0's multi_logloss: 0.509278\n",
            "[91]\tvalid_0's multi_logloss: 0.507706\n",
            "[92]\tvalid_0's multi_logloss: 0.507184\n",
            "[93]\tvalid_0's multi_logloss: 0.505512\n",
            "[94]\tvalid_0's multi_logloss: 0.504486\n",
            "[95]\tvalid_0's multi_logloss: 0.503053\n",
            "[96]\tvalid_0's multi_logloss: 0.502229\n",
            "[97]\tvalid_0's multi_logloss: 0.50111\n",
            "[98]\tvalid_0's multi_logloss: 0.500055\n",
            "[99]\tvalid_0's multi_logloss: 0.499313\n",
            "[100]\tvalid_0's multi_logloss: 0.498285\n"
          ]
        }
      ]
    },
    {
      "cell_type": "code",
      "source": [
        "from sklearn.metrics import accuracy_score, precision_score, recall_score, f1_score\n",
        "\n",
        "# 테스트 데이터 예측\n",
        "test_pred = LGBM.predict(test_input)\n",
        "\n",
        "# 정확도 계산\n",
        "accuracy = accuracy_score(test_output, test_pred)\n",
        "print(\"Accuracy:\", accuracy)\n",
        "\n",
        "# 정밀도 계산\n",
        "precision = precision_score(test_output, test_pred, average='macro')\n",
        "print(\"Precision:\", precision)\n",
        "\n",
        "# 재현율 계산\n",
        "recall = recall_score(test_output, test_pred, average='macro')\n",
        "print(\"Recall:\", recall)\n",
        "\n",
        "# F1 스코어 계산\n",
        "f1 = f1_score(test_output, test_pred, average='macro')\n",
        "print(\"F1 Score:\", f1)"
      ],
      "metadata": {
        "colab": {
          "base_uri": "https://localhost:8080/"
        },
        "id": "GOyXRXJH3W_-",
        "outputId": "47ad6c4b-123e-4c8a-f78b-aca05c49a3d4"
      },
      "execution_count": null,
      "outputs": [
        {
          "output_type": "stream",
          "name": "stdout",
          "text": [
            "Accuracy: 0.7673397717295873\n",
            "Precision: 0.7399033940895526\n",
            "Recall: 0.7820258345363534\n",
            "F1 Score: 0.7581407749395169\n"
          ]
        }
      ]
    },
    {
      "cell_type": "code",
      "source": [
        "plt.hist(test_output)\n",
        "plt.show()"
      ],
      "metadata": {
        "colab": {
          "base_uri": "https://localhost:8080/",
          "height": 430
        },
        "id": "7lIIRhF6B49f",
        "outputId": "b0b88b69-03c8-4bee-8a78-6236ba6cef9b"
      },
      "execution_count": null,
      "outputs": [
        {
          "output_type": "display_data",
          "data": {
            "text/plain": [
              "<Figure size 640x480 with 1 Axes>"
            ],
            "image/png": "[encoded data removed]"
          },
          "metadata": {}
        }
      ]
    },
    {
      "cell_type": "code",
      "source": [
        "plt.hist(test_pred)\n",
        "plt.show()"
      ],
      "metadata": {
        "colab": {
          "base_uri": "https://localhost:8080/",
          "height": 430
        },
        "id": "tgUQZaBrB5AM",
        "outputId": "5c80a178-bfc3-48c3-fc92-27fc640a6544"
      },
      "execution_count": null,
      "outputs": [
        {
          "output_type": "display_data",
          "data": {
            "text/plain": [
              "<Figure size 640x480 with 1 Axes>"
            ],
            "image/png": "[encoded data removed]"
          },
          "metadata": {}
        }
      ]
    },
    {
      "cell_type": "code",
      "source": [
        "from lightgbm import plot_importance\n",
        "import matplotlib.pyplot as plt\n",
        "\n",
        "fig, ax = plt.subplots(figsize=(10, 12))\n",
        "plot_importance(LGBM, ax=ax)\n",
        "plt.show"
      ],
      "metadata": {
        "colab": {
          "base_uri": "https://localhost:8080/",
          "height": 1000
        },
        "id": "q2tLesBVqgI2",
        "outputId": "7c7d71ab-c534-4f47-bc06-e5634ce27878"
      },
      "execution_count": null,
      "outputs": [
        {
          "output_type": "execute_result",
          "data": {
            "text/plain": [
              "<function matplotlib.pyplot.show(close=None, block=None)>"
            ]
          },
          "metadata": {},
          "execution_count": 187
        },
        {
          "output_type": "display_data",
          "data": {
            "text/plain": [
              "<Figure size 1000x1200 with 1 Axes>"
            ],
            "image/png": "[encoded data removed]"
          },
          "metadata": {}
        }
      ]
    },
    {
      "cell_type": "markdown",
      "source": [
        "# 모델 저장 및 복원"
      ],
      "metadata": {
        "id": "zwvEiv3JAWVL"
      }
    },
    {
      "cell_type": "code",
      "source": [
        "import numpy as np\n",
        "import pandas as pd\n",
        "import matplotlib.pyplot as plt\n",
        "\n",
        "### 데이터 로딩 ### \n",
        "valid_dataset = pd.read_csv(path + 'data_processing/dataset_03/validation/val_dataset_with_label_fill_user_mean.csv')\n",
        "\n",
        "test_output = valid_dataset[['DIAG_NM']]\n",
        "test_input = valid_dataset[['sleep_breath_average', 'sleep_hr_average', 'sleep_hr_lowest', 'sleep_restless', 'sleep_midpoint_at_delta', 'activity_cal_total', 'activity_met_min_inactive', 'activity_met_min_high', 'activity_score_meet_daily_targets', 'sleep_rem', 'sleep_light', 'activity_low', 'activity_rest', 'activity_met_min_medium']]"
      ],
      "metadata": {
        "id": "8-vQFQb_EFl2"
      },
      "execution_count": null,
      "outputs": []
    },
    {
      "cell_type": "code",
      "source": [
        "# 이때, loaded_model.predict() 에서 사용하는 데이터 역시 MinMaxScaler를 통한 정규화를 거쳐야 한다. "
      ],
      "metadata": {
        "id": "G2VwzUy6Bbm4"
      },
      "execution_count": null,
      "outputs": []
    },
    {
      "cell_type": "code",
      "source": [
        "import joblib\n",
        "\n",
        "joblib.dump(scaler_fit, '/content/drive/MyDrive/빅데이터 팀플/model/lgbm_scaler.pkl')"
      ],
      "metadata": {
        "colab": {
          "base_uri": "https://localhost:8080/"
        },
        "id": "GSW_VukaCZa2",
        "outputId": "7eb08b15-d891-4023-dc77-85d66f274854"
      },
      "execution_count": null,
      "outputs": [
        {
          "output_type": "execute_result",
          "data": {
            "text/plain": [
              "['/content/drive/MyDrive/빅데이터 팀플/model/lgbm_scaler.pkl']"
            ]
          },
          "metadata": {},
          "execution_count": 124
        }
      ]
    },
    {
      "cell_type": "code",
      "source": [
        "import joblib\n",
        "\n",
        "loaded_scaler = joblib.load('/content/drive/MyDrive/빅데이터 팀플/model/lgbm_scaler.pkl')"
      ],
      "metadata": {
        "id": "bPVM5KI8Db9m"
      },
      "execution_count": null,
      "outputs": []
    },
    {
      "cell_type": "code",
      "source": [
        "# 이제 LGBM 모델을 저장하고 복원해 예측에 사용해보자. "
      ],
      "metadata": {
        "id": "xFOIQXVCGtXS"
      },
      "execution_count": null,
      "outputs": []
    },
    {
      "cell_type": "code",
      "source": [
        "import joblib\n",
        "\n",
        "joblib.dump(LGBM, '/content/drive/MyDrive/빅데이터 팀플/model/lgbm_model.pkl')"
      ],
      "metadata": {
        "id": "h2vf05JaBL8Y",
        "colab": {
          "base_uri": "https://localhost:8080/"
        },
        "outputId": "8fe40747-8552-4097-8bc1-2e6e93b0cdea"
      },
      "execution_count": null,
      "outputs": [
        {
          "output_type": "execute_result",
          "data": {
            "text/plain": [
              "['/content/drive/MyDrive/빅데이터 팀플/model/lgbm_model.pkl']"
            ]
          },
          "metadata": {},
          "execution_count": 126
        }
      ]
    },
    {
      "cell_type": "code",
      "source": [
        "import joblib\n",
        "\n",
        "loaded_scaler = joblib.load('/content/drive/MyDrive/빅데이터 팀플/model/lgbm_scaler.pkl')\n",
        "loaded_model = joblib.load('/content/drive/MyDrive/빅데이터 팀플/model/lgbm_model.pkl')\n",
        "\n",
        "for k in range(2926):\n",
        "  pred = loaded_model.predict(loaded_scaler.transform(test_input[k:k+1]))\n",
        "  if k % 100 == 0 and k >= 2400: # 몇 개만 출력해 확인\n",
        "    print(pred)\n",
        "    print(test_output[k:k+1]['DIAG_NM'])\n",
        "# CN : 0, Dem : 1, MCI : 2"
      ],
      "metadata": {
        "colab": {
          "base_uri": "https://localhost:8080/"
        },
        "id": "8hFRg4Z--DbF",
        "outputId": "0046aeed-fe35-4b32-999d-e09ca8456cdd"
      },
      "execution_count": null,
      "outputs": [
        {
          "output_type": "stream",
          "name": "stdout",
          "text": [
            "[1]\n",
            "2400    Dem\n",
            "Name: DIAG_NM, dtype: object\n",
            "[0]\n",
            "2500    CN\n",
            "Name: DIAG_NM, dtype: object\n",
            "[0]\n",
            "2600    CN\n",
            "Name: DIAG_NM, dtype: object\n",
            "[2]\n",
            "2700    MCI\n",
            "Name: DIAG_NM, dtype: object\n",
            "[0]\n",
            "2800    CN\n",
            "Name: DIAG_NM, dtype: object\n",
            "[0]\n",
            "2900    CN\n",
            "Name: DIAG_NM, dtype: object\n"
          ]
        }
      ]
    }
  ]
}