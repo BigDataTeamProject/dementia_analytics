{
  "nbformat": 4,
  "nbformat_minor": 0,
  "metadata": {
    "colab": {
      "provenance": []
    },
    "kernelspec": {
      "name": "python3",
      "display_name": "Python 3"
    },
    "language_info": {
      "name": "python"
    }
  },
  "cells": [
    {
      "cell_type": "markdown",
      "source": [
        "# LightGBM"
      ],
      "metadata": {
        "id": "728FJfUWp7u_"
      }
    },
    {
      "cell_type": "markdown",
      "source": [
        "# Train, Test Split"
      ],
      "metadata": {
        "id": "eSpqNIalYElK"
      }
    },
    {
      "cell_type": "code",
      "execution_count": 315,
      "metadata": {
        "id": "O_JclOZro-J1",
        "colab": {
          "base_uri": "https://localhost:8080/"
        },
        "outputId": "25615744-8e13-43e5-a2f8-af72c1878b17"
      },
      "outputs": [
        {
          "output_type": "stream",
          "name": "stdout",
          "text": [
            "Drive already mounted at /content/drive; to attempt to forcibly remount, call drive.mount(\"/content/drive\", force_remount=True).\n"
          ]
        }
      ],
      "source": [
        "from google.colab import drive\n",
        "drive.mount('/content/drive')"
      ]
    },
    {
      "cell_type": "code",
      "source": [
        "import numpy as np\n",
        "import pandas as pd\n",
        "import matplotlib.pyplot as plt\n",
        "\n",
        "### 데이터 로딩 ###\n",
        "dataset = pd.read_csv('/content/drive/MyDrive/빅데이터 팀플/dementia_analytics/data_processing/dataset_05/dataset_with_label_fill_user_mean.csv')\n",
        "data_output = dataset[['DIAG_NM']]\n",
        "# data_input에서 score 가 들어가는 column 등 필요 없는 column 제거\n",
        "data_input = dataset.drop(['DIAG_NM', 'ID', 'date'], axis=1)\n",
        "columns_to_drop = [col for col in data_input.columns if 'score' in col]\n",
        "data_input = data_input[['sleep_breath_average', 'sleep_hr_average', 'sleep_hr_lowest', 'sleep_deep', 'sleep_rem', 'activity_cal_total', 'sleep_awake', 'activity_steps', 'activity_total', 'sleep_duration', 'activity_daily_movement']]\n",
        "\n",
        "from sklearn.model_selection import train_test_split\n",
        "\n",
        "train_input_data, test_input_data, train_output_data, test_output_data = train_test_split(data_input, data_output, test_size=0.2, shuffle=True, stratify=data_output, random_state=42)\n",
        "\n",
        "### 레이블 인코딩 ### \n",
        "\n",
        "# 트리 기반 알고리즘에서는 숫자의 크기에 따른 중요도 차이가 없어 레이블 인코딩 OK\n",
        "# 선형적 특징을 가지는 알고리즘들은 one hot encoding 통해 해결해야 함\n",
        "\n",
        "from sklearn.preprocessing import LabelEncoder\n",
        "\n",
        "# 라벨인코더 선언 및 Fitting\n",
        "# CN : 0, Dem : 1, MCI : 2\n",
        "items = ['CN', 'Dem', 'MCI']\n",
        "encoder = LabelEncoder()\n",
        "encoder.fit(items)\n",
        "\n",
        "# train\n",
        "train_output_data['DIAG_NM'] = encoder.transform(train_output_data['DIAG_NM'])\n",
        "\n",
        "# test\n",
        "test_output_data['DIAG_NM'] = encoder.transform(test_output_data['DIAG_NM'])\n"
      ],
      "metadata": {
        "id": "cOSTkWAzm0t1"
      },
      "execution_count": 317,
      "outputs": []
    },
    {
      "cell_type": "code",
      "source": [
        "from sklearn.model_selection import train_test_split\n",
        "\n",
        "train_input, val_input, train_output, val_output = train_test_split(train_input_data, train_output_data, test_size=0.2, shuffle=True, stratify=train_output_data, random_state=42)"
      ],
      "metadata": {
        "id": "NLmSF-ZBSByK"
      },
      "execution_count": 318,
      "outputs": []
    },
    {
      "cell_type": "code",
      "source": [
        "t_input, v_input, t_output, v_output = train_test_split(train_input, train_output, test_size=0.2, shuffle=True, stratify=train_output, random_state=42)"
      ],
      "metadata": {
        "id": "iDcXQz6UNVer"
      },
      "execution_count": 319,
      "outputs": []
    },
    {
      "cell_type": "code",
      "source": [
        "from sklearn.preprocessing import MinMaxScaler\n",
        "\n",
        "scaler = MinMaxScaler(feature_range=(0, 1))\n",
        "scaler_fit = scaler.fit(t_input)\n",
        "t_input = scaler_fit.transform(t_input)\n",
        "v_input = scaler_fit.transform(v_input)\n",
        "val_input = scaler_fit.transform(val_input)"
      ],
      "metadata": {
        "id": "u7DGwOR5N-Rj"
      },
      "execution_count": 320,
      "outputs": []
    },
    {
      "cell_type": "markdown",
      "source": [
        "## 1. Min Max Scaler 만 적용\n"
      ],
      "metadata": {
        "id": "tBEdaqCuOqxF"
      }
    },
    {
      "cell_type": "code",
      "source": [
        "### Light GBM ###\n",
        "from lightgbm import LGBMClassifier\n",
        "\n",
        "LGBM = LGBMClassifier()\n",
        "evals = [(v_input, v_output)]\n",
        "LGBM.fit(t_input, t_output, early_stopping_rounds=100, eval_metric='logloss', eval_set=evals, verbose=True)"
      ],
      "metadata": {
        "colab": {
          "base_uri": "https://localhost:8080/",
          "height": 1000
        },
        "id": "rTs1NNLsNcww",
        "outputId": "4b329c4e-bae3-441c-b5d5-fd1c2c8494a6"
      },
      "execution_count": 321,
      "outputs": [
        {
          "output_type": "stream",
          "name": "stderr",
          "text": [
            "/usr/local/lib/python3.10/dist-packages/sklearn/preprocessing/_label.py:99: DataConversionWarning: A column-vector y was passed when a 1d array was expected. Please change the shape of y to (n_samples, ), for example using ravel().\n",
            "  y = column_or_1d(y, warn=True)\n",
            "/usr/local/lib/python3.10/dist-packages/sklearn/preprocessing/_label.py:134: DataConversionWarning: A column-vector y was passed when a 1d array was expected. Please change the shape of y to (n_samples, ), for example using ravel().\n",
            "  y = column_or_1d(y, dtype=self.classes_.dtype, warn=True)\n",
            "/usr/local/lib/python3.10/dist-packages/sklearn/preprocessing/_label.py:134: DataConversionWarning: A column-vector y was passed when a 1d array was expected. Please change the shape of y to (n_samples, ), for example using ravel().\n",
            "  y = column_or_1d(y, dtype=self.classes_.dtype, warn=True)\n",
            "/usr/local/lib/python3.10/dist-packages/lightgbm/sklearn.py:726: UserWarning: 'early_stopping_rounds' argument is deprecated and will be removed in a future release of LightGBM. Pass 'early_stopping()' callback via 'callbacks' argument instead.\n",
            "  _log_warning(\"'early_stopping_rounds' argument is deprecated and will be removed in a future release of LightGBM. \"\n",
            "/usr/local/lib/python3.10/dist-packages/lightgbm/sklearn.py:736: UserWarning: 'verbose' argument is deprecated and will be removed in a future release of LightGBM. Pass 'log_evaluation()' callback via 'callbacks' argument instead.\n",
            "  _log_warning(\"'verbose' argument is deprecated and will be removed in a future release of LightGBM. \"\n"
          ]
        },
        {
          "output_type": "stream",
          "name": "stdout",
          "text": [
            "[1]\tvalid_0's multi_logloss: 0.802337\n",
            "[2]\tvalid_0's multi_logloss: 0.775543\n",
            "[3]\tvalid_0's multi_logloss: 0.754746\n",
            "[4]\tvalid_0's multi_logloss: 0.736367\n",
            "[5]\tvalid_0's multi_logloss: 0.717882\n",
            "[6]\tvalid_0's multi_logloss: 0.70316\n",
            "[7]\tvalid_0's multi_logloss: 0.688868\n",
            "[8]\tvalid_0's multi_logloss: 0.67789\n",
            "[9]\tvalid_0's multi_logloss: 0.666748\n",
            "[10]\tvalid_0's multi_logloss: 0.658394\n",
            "[11]\tvalid_0's multi_logloss: 0.650674\n",
            "[12]\tvalid_0's multi_logloss: 0.64288\n",
            "[13]\tvalid_0's multi_logloss: 0.632611\n",
            "[14]\tvalid_0's multi_logloss: 0.624816\n",
            "[15]\tvalid_0's multi_logloss: 0.617813\n",
            "[16]\tvalid_0's multi_logloss: 0.610866\n",
            "[17]\tvalid_0's multi_logloss: 0.605686\n",
            "[18]\tvalid_0's multi_logloss: 0.600757\n",
            "[19]\tvalid_0's multi_logloss: 0.596579\n",
            "[20]\tvalid_0's multi_logloss: 0.591271\n",
            "[21]\tvalid_0's multi_logloss: 0.587087\n",
            "[22]\tvalid_0's multi_logloss: 0.581993\n",
            "[23]\tvalid_0's multi_logloss: 0.577333\n",
            "[24]\tvalid_0's multi_logloss: 0.573278\n",
            "[25]\tvalid_0's multi_logloss: 0.569522\n",
            "[26]\tvalid_0's multi_logloss: 0.565192\n",
            "[27]\tvalid_0's multi_logloss: 0.560142\n",
            "[28]\tvalid_0's multi_logloss: 0.556745\n",
            "[29]\tvalid_0's multi_logloss: 0.554332\n",
            "[30]\tvalid_0's multi_logloss: 0.552005\n",
            "[31]\tvalid_0's multi_logloss: 0.549223\n",
            "[32]\tvalid_0's multi_logloss: 0.546998\n",
            "[33]\tvalid_0's multi_logloss: 0.544259\n",
            "[34]\tvalid_0's multi_logloss: 0.541698\n",
            "[35]\tvalid_0's multi_logloss: 0.540095\n",
            "[36]\tvalid_0's multi_logloss: 0.537431\n",
            "[37]\tvalid_0's multi_logloss: 0.535752\n",
            "[38]\tvalid_0's multi_logloss: 0.533327\n",
            "[39]\tvalid_0's multi_logloss: 0.531451\n",
            "[40]\tvalid_0's multi_logloss: 0.529711\n",
            "[41]\tvalid_0's multi_logloss: 0.527636\n",
            "[42]\tvalid_0's multi_logloss: 0.524929\n",
            "[43]\tvalid_0's multi_logloss: 0.523848\n",
            "[44]\tvalid_0's multi_logloss: 0.521613\n",
            "[45]\tvalid_0's multi_logloss: 0.520448\n",
            "[46]\tvalid_0's multi_logloss: 0.51891\n",
            "[47]\tvalid_0's multi_logloss: 0.518016\n",
            "[48]\tvalid_0's multi_logloss: 0.516704\n",
            "[49]\tvalid_0's multi_logloss: 0.515359\n",
            "[50]\tvalid_0's multi_logloss: 0.514292\n",
            "[51]\tvalid_0's multi_logloss: 0.512616\n",
            "[52]\tvalid_0's multi_logloss: 0.511832\n",
            "[53]\tvalid_0's multi_logloss: 0.510945\n",
            "[54]\tvalid_0's multi_logloss: 0.509945\n",
            "[55]\tvalid_0's multi_logloss: 0.508771\n",
            "[56]\tvalid_0's multi_logloss: 0.507664\n",
            "[57]\tvalid_0's multi_logloss: 0.506205\n",
            "[58]\tvalid_0's multi_logloss: 0.505622\n",
            "[59]\tvalid_0's multi_logloss: 0.504727\n",
            "[60]\tvalid_0's multi_logloss: 0.503507\n",
            "[61]\tvalid_0's multi_logloss: 0.502079\n",
            "[62]\tvalid_0's multi_logloss: 0.500889\n",
            "[63]\tvalid_0's multi_logloss: 0.500116\n",
            "[64]\tvalid_0's multi_logloss: 0.499553\n",
            "[65]\tvalid_0's multi_logloss: 0.498576\n",
            "[66]\tvalid_0's multi_logloss: 0.497514\n",
            "[67]\tvalid_0's multi_logloss: 0.496962\n",
            "[68]\tvalid_0's multi_logloss: 0.496482\n",
            "[69]\tvalid_0's multi_logloss: 0.494839\n",
            "[70]\tvalid_0's multi_logloss: 0.493744\n",
            "[71]\tvalid_0's multi_logloss: 0.492884\n",
            "[72]\tvalid_0's multi_logloss: 0.49196\n",
            "[73]\tvalid_0's multi_logloss: 0.491712\n",
            "[74]\tvalid_0's multi_logloss: 0.491429\n",
            "[75]\tvalid_0's multi_logloss: 0.490701\n",
            "[76]\tvalid_0's multi_logloss: 0.489765\n",
            "[77]\tvalid_0's multi_logloss: 0.48841\n",
            "[78]\tvalid_0's multi_logloss: 0.487882\n",
            "[79]\tvalid_0's multi_logloss: 0.487751\n",
            "[80]\tvalid_0's multi_logloss: 0.486735\n",
            "[81]\tvalid_0's multi_logloss: 0.486273\n",
            "[82]\tvalid_0's multi_logloss: 0.486047\n",
            "[83]\tvalid_0's multi_logloss: 0.485389\n",
            "[84]\tvalid_0's multi_logloss: 0.485383\n",
            "[85]\tvalid_0's multi_logloss: 0.484642\n",
            "[86]\tvalid_0's multi_logloss: 0.483756\n",
            "[87]\tvalid_0's multi_logloss: 0.483453\n",
            "[88]\tvalid_0's multi_logloss: 0.483399\n",
            "[89]\tvalid_0's multi_logloss: 0.483054\n",
            "[90]\tvalid_0's multi_logloss: 0.48239\n",
            "[91]\tvalid_0's multi_logloss: 0.481889\n",
            "[92]\tvalid_0's multi_logloss: 0.48183\n",
            "[93]\tvalid_0's multi_logloss: 0.481764\n",
            "[94]\tvalid_0's multi_logloss: 0.480889\n",
            "[95]\tvalid_0's multi_logloss: 0.480607\n",
            "[96]\tvalid_0's multi_logloss: 0.480522\n",
            "[97]\tvalid_0's multi_logloss: 0.480329\n",
            "[98]\tvalid_0's multi_logloss: 0.479947\n",
            "[99]\tvalid_0's multi_logloss: 0.47992\n",
            "[100]\tvalid_0's multi_logloss: 0.479517\n"
          ]
        },
        {
          "output_type": "execute_result",
          "data": {
            "text/plain": [
              "LGBMClassifier()"
            ],
            "text/html": [
              "<style>#sk-container-id-31 {color: black;background-color: white;}#sk-container-id-31 pre{padding: 0;}#sk-container-id-31 div.sk-toggleable {background-color: white;}#sk-container-id-31 label.sk-toggleable__label {cursor: pointer;display: block;width: 100%;margin-bottom: 0;padding: 0.3em;box-sizing: border-box;text-align: center;}#sk-container-id-31 label.sk-toggleable__label-arrow:before {content: \"▸\";float: left;margin-right: 0.25em;color: #696969;}#sk-container-id-31 label.sk-toggleable__label-arrow:hover:before {color: black;}#sk-container-id-31 div.sk-estimator:hover label.sk-toggleable__label-arrow:before {color: black;}#sk-container-id-31 div.sk-toggleable__content {max-height: 0;max-width: 0;overflow: hidden;text-align: left;background-color: #f0f8ff;}#sk-container-id-31 div.sk-toggleable__content pre {margin: 0.2em;color: black;border-radius: 0.25em;background-color: #f0f8ff;}#sk-container-id-31 input.sk-toggleable__control:checked~div.sk-toggleable__content {max-height: 200px;max-width: 100%;overflow: auto;}#sk-container-id-31 input.sk-toggleable__control:checked~label.sk-toggleable__label-arrow:before {content: \"▾\";}#sk-container-id-31 div.sk-estimator input.sk-toggleable__control:checked~label.sk-toggleable__label {background-color: #d4ebff;}#sk-container-id-31 div.sk-label input.sk-toggleable__control:checked~label.sk-toggleable__label {background-color: #d4ebff;}#sk-container-id-31 input.sk-hidden--visually {border: 0;clip: rect(1px 1px 1px 1px);clip: rect(1px, 1px, 1px, 1px);height: 1px;margin: -1px;overflow: hidden;padding: 0;position: absolute;width: 1px;}#sk-container-id-31 div.sk-estimator {font-family: monospace;background-color: #f0f8ff;border: 1px dotted black;border-radius: 0.25em;box-sizing: border-box;margin-bottom: 0.5em;}#sk-container-id-31 div.sk-estimator:hover {background-color: #d4ebff;}#sk-container-id-31 div.sk-parallel-item::after {content: \"\";width: 100%;border-bottom: 1px solid gray;flex-grow: 1;}#sk-container-id-31 div.sk-label:hover label.sk-toggleable__label {background-color: #d4ebff;}#sk-container-id-31 div.sk-serial::before {content: \"\";position: absolute;border-left: 1px solid gray;box-sizing: border-box;top: 0;bottom: 0;left: 50%;z-index: 0;}#sk-container-id-31 div.sk-serial {display: flex;flex-direction: column;align-items: center;background-color: white;padding-right: 0.2em;padding-left: 0.2em;position: relative;}#sk-container-id-31 div.sk-item {position: relative;z-index: 1;}#sk-container-id-31 div.sk-parallel {display: flex;align-items: stretch;justify-content: center;background-color: white;position: relative;}#sk-container-id-31 div.sk-item::before, #sk-container-id-31 div.sk-parallel-item::before {content: \"\";position: absolute;border-left: 1px solid gray;box-sizing: border-box;top: 0;bottom: 0;left: 50%;z-index: -1;}#sk-container-id-31 div.sk-parallel-item {display: flex;flex-direction: column;z-index: 1;position: relative;background-color: white;}#sk-container-id-31 div.sk-parallel-item:first-child::after {align-self: flex-end;width: 50%;}#sk-container-id-31 div.sk-parallel-item:last-child::after {align-self: flex-start;width: 50%;}#sk-container-id-31 div.sk-parallel-item:only-child::after {width: 0;}#sk-container-id-31 div.sk-dashed-wrapped {border: 1px dashed gray;margin: 0 0.4em 0.5em 0.4em;box-sizing: border-box;padding-bottom: 0.4em;background-color: white;}#sk-container-id-31 div.sk-label label {font-family: monospace;font-weight: bold;display: inline-block;line-height: 1.2em;}#sk-container-id-31 div.sk-label-container {text-align: center;}#sk-container-id-31 div.sk-container {/* jupyter's `normalize.less` sets `[hidden] { display: none; }` but bootstrap.min.css set `[hidden] { display: none !important; }` so we also need the `!important` here to be able to override the default hidden behavior on the sphinx rendered scikit-learn.org. See: https://github.com/scikit-learn/scikit-learn/issues/21755 */display: inline-block !important;position: relative;}#sk-container-id-31 div.sk-text-repr-fallback {display: none;}</style><div id=\"sk-container-id-31\" class=\"sk-top-container\"><div class=\"sk-text-repr-fallback\"><pre>LGBMClassifier()</pre><b>In a Jupyter environment, please rerun this cell to show the HTML representation or trust the notebook. <br />On GitHub, the HTML representation is unable to render, please try loading this page with nbviewer.org.</b></div><div class=\"sk-container\" hidden><div class=\"sk-item\"><div class=\"sk-estimator sk-toggleable\"><input class=\"sk-toggleable__control sk-hidden--visually\" id=\"sk-estimator-id-31\" type=\"checkbox\" checked><label for=\"sk-estimator-id-31\" class=\"sk-toggleable__label sk-toggleable__label-arrow\">LGBMClassifier</label><div class=\"sk-toggleable__content\"><pre>LGBMClassifier()</pre></div></div></div></div></div>"
            ]
          },
          "metadata": {},
          "execution_count": 321
        }
      ]
    },
    {
      "cell_type": "code",
      "source": [
        "#  validation 성능\n",
        "from sklearn.metrics import accuracy_score, precision_score, recall_score, f1_score\n",
        "\n",
        "# validation 데이터 예측\n",
        "val_pred = LGBM.predict(val_input)\n",
        "\n",
        "# 정확도 계산\n",
        "accuracy = accuracy_score(val_output, val_pred)\n",
        "print(\"Accuracy:\", accuracy)\n",
        "\n",
        "# 정밀도 계산\n",
        "precision = precision_score(val_output, val_pred, average='macro')\n",
        "print(\"Precision:\", precision)\n",
        "\n",
        "# 재현율 계산\n",
        "recall = recall_score(val_output, val_pred, average='macro')\n",
        "print(\"Recall:\", recall)\n",
        "\n",
        "# F1 스코어 계산\n",
        "f1 = f1_score(val_output, val_pred, average='macro')\n",
        "print(\"F1 Score:\", f1)"
      ],
      "metadata": {
        "colab": {
          "base_uri": "https://localhost:8080/"
        },
        "id": "f7SvCuURNczi",
        "outputId": "f9b77165-28f5-47ef-8dd2-a610a0823e02"
      },
      "execution_count": 322,
      "outputs": [
        {
          "output_type": "stream",
          "name": "stdout",
          "text": [
            "Accuracy: 0.7712561711464618\n",
            "Precision: 0.8003337140776301\n",
            "Recall: 0.705312722704027\n",
            "F1 Score: 0.7414412837415935\n"
          ]
        }
      ]
    },
    {
      "cell_type": "code",
      "source": [
        "plt.hist(val_output)\n",
        "plt.show()"
      ],
      "metadata": {
        "colab": {
          "base_uri": "https://localhost:8080/",
          "height": 430
        },
        "id": "fKlx0G3nUQmq",
        "outputId": "15dd2106-7088-4907-d2b0-7b1dd3ff447a"
      },
      "execution_count": 323,
      "outputs": [
        {
          "output_type": "display_data",
          "data": {
            "text/plain": [
              "<Figure size 640x480 with 1 Axes>"
            ],
            "image/png": "[encoded data removed]"
          },
          "metadata": {}
        }
      ]
    },
    {
      "cell_type": "code",
      "source": [
        "plt.hist(val_pred)\n",
        "plt.show()"
      ],
      "metadata": {
        "colab": {
          "base_uri": "https://localhost:8080/",
          "height": 430
        },
        "id": "Q_7OQtw0UUtL",
        "outputId": "a9098bf6-2e61-4360-b948-022ecbdd87c8"
      },
      "execution_count": 324,
      "outputs": [
        {
          "output_type": "display_data",
          "data": {
            "text/plain": [
              "<Figure size 640x480 with 1 Axes>"
            ],
            "image/png": "[encoded data removed]"
          },
          "metadata": {}
        }
      ]
    },
    {
      "cell_type": "markdown",
      "source": [
        "## 2. SMOTE 적용 후"
      ],
      "metadata": {
        "id": "dLFUki7qhfLT"
      }
    },
    {
      "cell_type": "code",
      "source": [
        "plt.hist(t_output)\n",
        "plt.show()"
      ],
      "metadata": {
        "colab": {
          "base_uri": "https://localhost:8080/",
          "height": 430
        },
        "id": "GztmLqo6PjSs",
        "outputId": "02563296-a608-4dac-d069-eaa0066fe09d"
      },
      "execution_count": 325,
      "outputs": [
        {
          "output_type": "display_data",
          "data": {
            "text/plain": [
              "<Figure size 640x480 with 1 Axes>"
            ],
            "image/png": "[encoded data removed]"
          },
          "metadata": {}
        }
      ]
    },
    {
      "cell_type": "code",
      "source": [
        "from imblearn.over_sampling import SMOTE\n",
        "\n",
        "sm = SMOTE(random_state=32)\n",
        "\n",
        "t_input, t_output = sm.fit_resample(t_input, t_output)"
      ],
      "metadata": {
        "id": "XvIaJ5_UPh_U"
      },
      "execution_count": 326,
      "outputs": []
    },
    {
      "cell_type": "code",
      "source": [
        "plt.hist(t_output)\n",
        "plt.show()"
      ],
      "metadata": {
        "colab": {
          "base_uri": "https://localhost:8080/",
          "height": 430
        },
        "id": "PciAPQzwPniP",
        "outputId": "54f64a7b-fab3-45df-f52b-a7f0a7d2c7d7"
      },
      "execution_count": 327,
      "outputs": [
        {
          "output_type": "display_data",
          "data": {
            "text/plain": [
              "<Figure size 640x480 with 1 Axes>"
            ],
            "image/png": "[encoded data removed]"
          },
          "metadata": {}
        }
      ]
    },
    {
      "cell_type": "code",
      "source": [
        "### Light GBM ###\n",
        "from lightgbm import LGBMClassifier\n",
        "\n",
        "LGBM = LGBMClassifier()\n",
        "evals = [(v_input, v_output)]\n",
        "LGBM.fit(t_input, t_output, early_stopping_rounds=100, eval_metric='logloss', eval_set=evals, verbose=True)"
      ],
      "metadata": {
        "colab": {
          "base_uri": "https://localhost:8080/",
          "height": 1000
        },
        "id": "UhGVGxbXg3Dl",
        "outputId": "e46bdecf-ffdd-4aa9-c64c-b73ee4a39fec"
      },
      "execution_count": 328,
      "outputs": [
        {
          "output_type": "stream",
          "name": "stderr",
          "text": [
            "/usr/local/lib/python3.10/dist-packages/sklearn/preprocessing/_label.py:99: DataConversionWarning: A column-vector y was passed when a 1d array was expected. Please change the shape of y to (n_samples, ), for example using ravel().\n",
            "  y = column_or_1d(y, warn=True)\n",
            "/usr/local/lib/python3.10/dist-packages/sklearn/preprocessing/_label.py:134: DataConversionWarning: A column-vector y was passed when a 1d array was expected. Please change the shape of y to (n_samples, ), for example using ravel().\n",
            "  y = column_or_1d(y, dtype=self.classes_.dtype, warn=True)\n",
            "/usr/local/lib/python3.10/dist-packages/sklearn/preprocessing/_label.py:134: DataConversionWarning: A column-vector y was passed when a 1d array was expected. Please change the shape of y to (n_samples, ), for example using ravel().\n",
            "  y = column_or_1d(y, dtype=self.classes_.dtype, warn=True)\n",
            "/usr/local/lib/python3.10/dist-packages/lightgbm/sklearn.py:726: UserWarning: 'early_stopping_rounds' argument is deprecated and will be removed in a future release of LightGBM. Pass 'early_stopping()' callback via 'callbacks' argument instead.\n",
            "  _log_warning(\"'early_stopping_rounds' argument is deprecated and will be removed in a future release of LightGBM. \"\n",
            "/usr/local/lib/python3.10/dist-packages/lightgbm/sklearn.py:736: UserWarning: 'verbose' argument is deprecated and will be removed in a future release of LightGBM. Pass 'log_evaluation()' callback via 'callbacks' argument instead.\n",
            "  _log_warning(\"'verbose' argument is deprecated and will be removed in a future release of LightGBM. \"\n"
          ]
        },
        {
          "output_type": "stream",
          "name": "stdout",
          "text": [
            "[1]\tvalid_0's multi_logloss: 1.05031\n",
            "[2]\tvalid_0's multi_logloss: 1.00938\n",
            "[3]\tvalid_0's multi_logloss: 0.972824\n",
            "[4]\tvalid_0's multi_logloss: 0.941578\n",
            "[5]\tvalid_0's multi_logloss: 0.915929\n",
            "[6]\tvalid_0's multi_logloss: 0.891269\n",
            "[7]\tvalid_0's multi_logloss: 0.871676\n",
            "[8]\tvalid_0's multi_logloss: 0.85351\n",
            "[9]\tvalid_0's multi_logloss: 0.836038\n",
            "[10]\tvalid_0's multi_logloss: 0.819527\n",
            "[11]\tvalid_0's multi_logloss: 0.80263\n",
            "[12]\tvalid_0's multi_logloss: 0.788233\n",
            "[13]\tvalid_0's multi_logloss: 0.775014\n",
            "[14]\tvalid_0's multi_logloss: 0.761681\n",
            "[15]\tvalid_0's multi_logloss: 0.747683\n",
            "[16]\tvalid_0's multi_logloss: 0.735243\n",
            "[17]\tvalid_0's multi_logloss: 0.72487\n",
            "[18]\tvalid_0's multi_logloss: 0.714978\n",
            "[19]\tvalid_0's multi_logloss: 0.705395\n",
            "[20]\tvalid_0's multi_logloss: 0.697004\n",
            "[21]\tvalid_0's multi_logloss: 0.687761\n",
            "[22]\tvalid_0's multi_logloss: 0.680624\n",
            "[23]\tvalid_0's multi_logloss: 0.6724\n",
            "[24]\tvalid_0's multi_logloss: 0.665746\n",
            "[25]\tvalid_0's multi_logloss: 0.658214\n",
            "[26]\tvalid_0's multi_logloss: 0.652283\n",
            "[27]\tvalid_0's multi_logloss: 0.64532\n",
            "[28]\tvalid_0's multi_logloss: 0.640034\n",
            "[29]\tvalid_0's multi_logloss: 0.634302\n",
            "[30]\tvalid_0's multi_logloss: 0.629622\n",
            "[31]\tvalid_0's multi_logloss: 0.624197\n",
            "[32]\tvalid_0's multi_logloss: 0.61854\n",
            "[33]\tvalid_0's multi_logloss: 0.613588\n",
            "[34]\tvalid_0's multi_logloss: 0.609265\n",
            "[35]\tvalid_0's multi_logloss: 0.605378\n",
            "[36]\tvalid_0's multi_logloss: 0.601236\n",
            "[37]\tvalid_0's multi_logloss: 0.597004\n",
            "[38]\tvalid_0's multi_logloss: 0.592286\n",
            "[39]\tvalid_0's multi_logloss: 0.588926\n",
            "[40]\tvalid_0's multi_logloss: 0.586949\n",
            "[41]\tvalid_0's multi_logloss: 0.583444\n",
            "[42]\tvalid_0's multi_logloss: 0.580052\n",
            "[43]\tvalid_0's multi_logloss: 0.576306\n",
            "[44]\tvalid_0's multi_logloss: 0.573659\n",
            "[45]\tvalid_0's multi_logloss: 0.570559\n",
            "[46]\tvalid_0's multi_logloss: 0.56803\n",
            "[47]\tvalid_0's multi_logloss: 0.5649\n",
            "[48]\tvalid_0's multi_logloss: 0.563301\n",
            "[49]\tvalid_0's multi_logloss: 0.560532\n",
            "[50]\tvalid_0's multi_logloss: 0.557244\n",
            "[51]\tvalid_0's multi_logloss: 0.555411\n",
            "[52]\tvalid_0's multi_logloss: 0.553229\n",
            "[53]\tvalid_0's multi_logloss: 0.55058\n",
            "[54]\tvalid_0's multi_logloss: 0.54802\n",
            "[55]\tvalid_0's multi_logloss: 0.544679\n",
            "[56]\tvalid_0's multi_logloss: 0.543425\n",
            "[57]\tvalid_0's multi_logloss: 0.540171\n",
            "[58]\tvalid_0's multi_logloss: 0.538417\n",
            "[59]\tvalid_0's multi_logloss: 0.536671\n",
            "[60]\tvalid_0's multi_logloss: 0.536421\n",
            "[61]\tvalid_0's multi_logloss: 0.535197\n",
            "[62]\tvalid_0's multi_logloss: 0.533457\n",
            "[63]\tvalid_0's multi_logloss: 0.532339\n",
            "[64]\tvalid_0's multi_logloss: 0.531404\n",
            "[65]\tvalid_0's multi_logloss: 0.529847\n",
            "[66]\tvalid_0's multi_logloss: 0.528569\n",
            "[67]\tvalid_0's multi_logloss: 0.528301\n",
            "[68]\tvalid_0's multi_logloss: 0.527017\n",
            "[69]\tvalid_0's multi_logloss: 0.525968\n",
            "[70]\tvalid_0's multi_logloss: 0.524079\n",
            "[71]\tvalid_0's multi_logloss: 0.522646\n",
            "[72]\tvalid_0's multi_logloss: 0.521299\n",
            "[73]\tvalid_0's multi_logloss: 0.519915\n",
            "[74]\tvalid_0's multi_logloss: 0.518931\n",
            "[75]\tvalid_0's multi_logloss: 0.517328\n",
            "[76]\tvalid_0's multi_logloss: 0.517218\n",
            "[77]\tvalid_0's multi_logloss: 0.516222\n",
            "[78]\tvalid_0's multi_logloss: 0.515183\n",
            "[79]\tvalid_0's multi_logloss: 0.514116\n",
            "[80]\tvalid_0's multi_logloss: 0.513108\n",
            "[81]\tvalid_0's multi_logloss: 0.51185\n",
            "[82]\tvalid_0's multi_logloss: 0.511167\n",
            "[83]\tvalid_0's multi_logloss: 0.510622\n",
            "[84]\tvalid_0's multi_logloss: 0.509889\n",
            "[85]\tvalid_0's multi_logloss: 0.508397\n",
            "[86]\tvalid_0's multi_logloss: 0.507348\n",
            "[87]\tvalid_0's multi_logloss: 0.506505\n",
            "[88]\tvalid_0's multi_logloss: 0.505034\n",
            "[89]\tvalid_0's multi_logloss: 0.504363\n",
            "[90]\tvalid_0's multi_logloss: 0.503744\n",
            "[91]\tvalid_0's multi_logloss: 0.50316\n",
            "[92]\tvalid_0's multi_logloss: 0.502061\n",
            "[93]\tvalid_0's multi_logloss: 0.501427\n",
            "[94]\tvalid_0's multi_logloss: 0.500322\n",
            "[95]\tvalid_0's multi_logloss: 0.498607\n",
            "[96]\tvalid_0's multi_logloss: 0.497806\n",
            "[97]\tvalid_0's multi_logloss: 0.496863\n",
            "[98]\tvalid_0's multi_logloss: 0.495582\n",
            "[99]\tvalid_0's multi_logloss: 0.49425\n",
            "[100]\tvalid_0's multi_logloss: 0.493795\n"
          ]
        },
        {
          "output_type": "execute_result",
          "data": {
            "text/plain": [
              "LGBMClassifier()"
            ],
            "text/html": [
              "<style>#sk-container-id-32 {color: black;background-color: white;}#sk-container-id-32 pre{padding: 0;}#sk-container-id-32 div.sk-toggleable {background-color: white;}#sk-container-id-32 label.sk-toggleable__label {cursor: pointer;display: block;width: 100%;margin-bottom: 0;padding: 0.3em;box-sizing: border-box;text-align: center;}#sk-container-id-32 label.sk-toggleable__label-arrow:before {content: \"▸\";float: left;margin-right: 0.25em;color: #696969;}#sk-container-id-32 label.sk-toggleable__label-arrow:hover:before {color: black;}#sk-container-id-32 div.sk-estimator:hover label.sk-toggleable__label-arrow:before {color: black;}#sk-container-id-32 div.sk-toggleable__content {max-height: 0;max-width: 0;overflow: hidden;text-align: left;background-color: #f0f8ff;}#sk-container-id-32 div.sk-toggleable__content pre {margin: 0.2em;color: black;border-radius: 0.25em;background-color: #f0f8ff;}#sk-container-id-32 input.sk-toggleable__control:checked~div.sk-toggleable__content {max-height: 200px;max-width: 100%;overflow: auto;}#sk-container-id-32 input.sk-toggleable__control:checked~label.sk-toggleable__label-arrow:before {content: \"▾\";}#sk-container-id-32 div.sk-estimator input.sk-toggleable__control:checked~label.sk-toggleable__label {background-color: #d4ebff;}#sk-container-id-32 div.sk-label input.sk-toggleable__control:checked~label.sk-toggleable__label {background-color: #d4ebff;}#sk-container-id-32 input.sk-hidden--visually {border: 0;clip: rect(1px 1px 1px 1px);clip: rect(1px, 1px, 1px, 1px);height: 1px;margin: -1px;overflow: hidden;padding: 0;position: absolute;width: 1px;}#sk-container-id-32 div.sk-estimator {font-family: monospace;background-color: #f0f8ff;border: 1px dotted black;border-radius: 0.25em;box-sizing: border-box;margin-bottom: 0.5em;}#sk-container-id-32 div.sk-estimator:hover {background-color: #d4ebff;}#sk-container-id-32 div.sk-parallel-item::after {content: \"\";width: 100%;border-bottom: 1px solid gray;flex-grow: 1;}#sk-container-id-32 div.sk-label:hover label.sk-toggleable__label {background-color: #d4ebff;}#sk-container-id-32 div.sk-serial::before {content: \"\";position: absolute;border-left: 1px solid gray;box-sizing: border-box;top: 0;bottom: 0;left: 50%;z-index: 0;}#sk-container-id-32 div.sk-serial {display: flex;flex-direction: column;align-items: center;background-color: white;padding-right: 0.2em;padding-left: 0.2em;position: relative;}#sk-container-id-32 div.sk-item {position: relative;z-index: 1;}#sk-container-id-32 div.sk-parallel {display: flex;align-items: stretch;justify-content: center;background-color: white;position: relative;}#sk-container-id-32 div.sk-item::before, #sk-container-id-32 div.sk-parallel-item::before {content: \"\";position: absolute;border-left: 1px solid gray;box-sizing: border-box;top: 0;bottom: 0;left: 50%;z-index: -1;}#sk-container-id-32 div.sk-parallel-item {display: flex;flex-direction: column;z-index: 1;position: relative;background-color: white;}#sk-container-id-32 div.sk-parallel-item:first-child::after {align-self: flex-end;width: 50%;}#sk-container-id-32 div.sk-parallel-item:last-child::after {align-self: flex-start;width: 50%;}#sk-container-id-32 div.sk-parallel-item:only-child::after {width: 0;}#sk-container-id-32 div.sk-dashed-wrapped {border: 1px dashed gray;margin: 0 0.4em 0.5em 0.4em;box-sizing: border-box;padding-bottom: 0.4em;background-color: white;}#sk-container-id-32 div.sk-label label {font-family: monospace;font-weight: bold;display: inline-block;line-height: 1.2em;}#sk-container-id-32 div.sk-label-container {text-align: center;}#sk-container-id-32 div.sk-container {/* jupyter's `normalize.less` sets `[hidden] { display: none; }` but bootstrap.min.css set `[hidden] { display: none !important; }` so we also need the `!important` here to be able to override the default hidden behavior on the sphinx rendered scikit-learn.org. See: https://github.com/scikit-learn/scikit-learn/issues/21755 */display: inline-block !important;position: relative;}#sk-container-id-32 div.sk-text-repr-fallback {display: none;}</style><div id=\"sk-container-id-32\" class=\"sk-top-container\"><div class=\"sk-text-repr-fallback\"><pre>LGBMClassifier()</pre><b>In a Jupyter environment, please rerun this cell to show the HTML representation or trust the notebook. <br />On GitHub, the HTML representation is unable to render, please try loading this page with nbviewer.org.</b></div><div class=\"sk-container\" hidden><div class=\"sk-item\"><div class=\"sk-estimator sk-toggleable\"><input class=\"sk-toggleable__control sk-hidden--visually\" id=\"sk-estimator-id-32\" type=\"checkbox\" checked><label for=\"sk-estimator-id-32\" class=\"sk-toggleable__label sk-toggleable__label-arrow\">LGBMClassifier</label><div class=\"sk-toggleable__content\"><pre>LGBMClassifier()</pre></div></div></div></div></div>"
            ]
          },
          "metadata": {},
          "execution_count": 328
        }
      ]
    },
    {
      "cell_type": "code",
      "source": [
        "#  validation 성능\n",
        "from sklearn.metrics import accuracy_score, precision_score, recall_score, f1_score\n",
        "\n",
        "# validation 데이터 예측\n",
        "val_pred = LGBM.predict(val_input)\n",
        "\n",
        "# 정확도 계산\n",
        "accuracy = accuracy_score(val_output, val_pred)\n",
        "print(\"Accuracy:\", accuracy)\n",
        "\n",
        "# 정밀도 계산\n",
        "precision = precision_score(val_output, val_pred, average='macro')\n",
        "print(\"Precision:\", precision)\n",
        "\n",
        "# 재현율 계산\n",
        "recall = recall_score(val_output, val_pred, average='macro')\n",
        "print(\"Recall:\", recall)\n",
        "\n",
        "# F1 스코어 계산\n",
        "f1 = f1_score(val_output, val_pred, average='macro')\n",
        "print(\"F1 Score:\", f1)"
      ],
      "metadata": {
        "colab": {
          "base_uri": "https://localhost:8080/"
        },
        "id": "9hCR_YiEg3GC",
        "outputId": "972b167a-640a-4be0-f95e-6aa34603f0bf"
      },
      "execution_count": 329,
      "outputs": [
        {
          "output_type": "stream",
          "name": "stdout",
          "text": [
            "Accuracy: 0.7652221612726275\n",
            "Precision: 0.7395748360728578\n",
            "Recall: 0.7510934047165931\n",
            "F1 Score: 0.7451593756932641\n"
          ]
        }
      ]
    },
    {
      "cell_type": "code",
      "source": [
        "plt.hist(val_output)\n",
        "plt.show()"
      ],
      "metadata": {
        "colab": {
          "base_uri": "https://localhost:8080/",
          "height": 430
        },
        "id": "hElnYM-VUJRy",
        "outputId": "2c02ab66-dba4-4a72-c8ca-f20dc606a60a"
      },
      "execution_count": 330,
      "outputs": [
        {
          "output_type": "display_data",
          "data": {
            "text/plain": [
              "<Figure size 640x480 with 1 Axes>"
            ],
            "image/png": "[encoded data removed]"
          },
          "metadata": {}
        }
      ]
    },
    {
      "cell_type": "code",
      "source": [
        "plt.hist(val_pred)\n",
        "plt.show()"
      ],
      "metadata": {
        "colab": {
          "base_uri": "https://localhost:8080/",
          "height": 430
        },
        "id": "N7nGgPIGUJUl",
        "outputId": "6dc7bdf0-8d35-4260-9abd-b1381a0659a9"
      },
      "execution_count": 331,
      "outputs": [
        {
          "output_type": "display_data",
          "data": {
            "text/plain": [
              "<Figure size 640x480 with 1 Axes>"
            ],
            "image/png": "[encoded data removed]"
          },
          "metadata": {}
        }
      ]
    },
    {
      "cell_type": "markdown",
      "source": [
        "## 3. 클래스 가중치 설정\n",
        "\n",
        "SMOTE를 사용해도 성능이 높아지지 않아서 SMOTE적용을 하지 않고 클래스 가중치를 설정하여 데이터 불균형을 해결하고자 하였습니다."
      ],
      "metadata": {
        "id": "OwpsOkQ21rMC"
      }
    },
    {
      "cell_type": "code",
      "source": [
        "from sklearn.model_selection import train_test_split\n",
        "\n",
        "train_input, val_input, train_output, val_output = train_test_split(train_input_data, train_output_data, test_size=0.2, shuffle=True, stratify=train_output_data, random_state=42)"
      ],
      "metadata": {
        "id": "_tKGNNWVToG0"
      },
      "execution_count": 332,
      "outputs": []
    },
    {
      "cell_type": "code",
      "source": [
        "t_input, v_input, t_output, v_output = train_test_split(train_input, train_output, test_size=0.2, shuffle=True, stratify=train_output, random_state=42)"
      ],
      "metadata": {
        "id": "Giop0OAnToJ8"
      },
      "execution_count": 333,
      "outputs": []
    },
    {
      "cell_type": "code",
      "source": [
        "from sklearn.preprocessing import MinMaxScaler\n",
        "\n",
        "scaler = MinMaxScaler(feature_range=(0, 1))\n",
        "scaler_fit = scaler.fit(t_input)\n",
        "t_input = scaler_fit.transform(t_input)\n",
        "v_input = scaler_fit.transform(v_input)\n",
        "val_input = scaler_fit.transform(val_input)"
      ],
      "metadata": {
        "id": "JFy-SwLhToMF"
      },
      "execution_count": 334,
      "outputs": []
    },
    {
      "cell_type": "code",
      "source": [
        "from collections import Counter\n",
        "\n",
        "class_counts = dict(Counter(train_output['DIAG_NM']))\n",
        "total_samples = sum(class_counts.values())\n",
        "class_weights = {class_label: total_samples / count for class_label, count in class_counts.items()}\n",
        "print(total_samples)\n",
        "print(class_counts)\n",
        "print(class_weights)"
      ],
      "metadata": {
        "colab": {
          "base_uri": "https://localhost:8080/"
        },
        "id": "gbOeXkI-3pLL",
        "outputId": "87e24acc-18eb-4b4a-f1fa-5c1bd4dbbd09"
      },
      "execution_count": 335,
      "outputs": [
        {
          "output_type": "stream",
          "name": "stdout",
          "text": [
            "7289\n",
            "{0: 4367, 2: 2482, 1: 440}\n",
            "{0: 1.669109228303183, 2: 2.936744560838034, 1: 16.56590909090909}\n"
          ]
        }
      ]
    },
    {
      "cell_type": "code",
      "source": [
        "### Light GBM ###\n",
        "from lightgbm import LGBMClassifier\n",
        "\n",
        "test_input = scaler_fit.transform(test_input)\n",
        "\n",
        "LGBM = LGBMClassifier(class_weight=class_weights)\n",
        "evals = [(test_input, test_output)]\n",
        "LGBM.fit(train_input, train_output, early_stopping_rounds=200, eval_metric='logloss', eval_set=evals, verbose=True)"
      ],
      "metadata": {
        "colab": {
          "base_uri": "https://localhost:8080/",
          "height": 1000
        },
        "id": "EIiR2JWN3Jld",
        "outputId": "0b4b9bb3-90ce-473f-bfaa-5cf44bef7875"
      },
      "execution_count": 336,
      "outputs": [
        {
          "output_type": "stream",
          "name": "stderr",
          "text": [
            "/usr/local/lib/python3.10/dist-packages/sklearn/base.py:439: UserWarning: X does not have valid feature names, but MinMaxScaler was fitted with feature names\n",
            "  warnings.warn(\n",
            "/usr/local/lib/python3.10/dist-packages/sklearn/preprocessing/_label.py:99: DataConversionWarning: A column-vector y was passed when a 1d array was expected. Please change the shape of y to (n_samples, ), for example using ravel().\n",
            "  y = column_or_1d(y, warn=True)\n",
            "/usr/local/lib/python3.10/dist-packages/sklearn/preprocessing/_label.py:134: DataConversionWarning: A column-vector y was passed when a 1d array was expected. Please change the shape of y to (n_samples, ), for example using ravel().\n",
            "  y = column_or_1d(y, dtype=self.classes_.dtype, warn=True)\n",
            "/usr/local/lib/python3.10/dist-packages/sklearn/preprocessing/_label.py:134: DataConversionWarning: A column-vector y was passed when a 1d array was expected. Please change the shape of y to (n_samples, ), for example using ravel().\n",
            "  y = column_or_1d(y, dtype=self.classes_.dtype, warn=True)\n",
            "/usr/local/lib/python3.10/dist-packages/lightgbm/sklearn.py:726: UserWarning: 'early_stopping_rounds' argument is deprecated and will be removed in a future release of LightGBM. Pass 'early_stopping()' callback via 'callbacks' argument instead.\n",
            "  _log_warning(\"'early_stopping_rounds' argument is deprecated and will be removed in a future release of LightGBM. \"\n",
            "/usr/local/lib/python3.10/dist-packages/lightgbm/sklearn.py:736: UserWarning: 'verbose' argument is deprecated and will be removed in a future release of LightGBM. Pass 'log_evaluation()' callback via 'callbacks' argument instead.\n",
            "  _log_warning(\"'verbose' argument is deprecated and will be removed in a future release of LightGBM. \"\n"
          ]
        },
        {
          "output_type": "stream",
          "name": "stdout",
          "text": [
            "[1]\tvalid_0's multi_logloss: 1.08451\n",
            "[2]\tvalid_0's multi_logloss: 1.10755\n",
            "[3]\tvalid_0's multi_logloss: 1.11751\n",
            "[4]\tvalid_0's multi_logloss: 1.13594\n",
            "[5]\tvalid_0's multi_logloss: 1.18453\n",
            "[6]\tvalid_0's multi_logloss: 1.22713\n",
            "[7]\tvalid_0's multi_logloss: 1.25941\n",
            "[8]\tvalid_0's multi_logloss: 1.30986\n",
            "[9]\tvalid_0's multi_logloss: 1.35813\n",
            "[10]\tvalid_0's multi_logloss: 1.41009\n",
            "[11]\tvalid_0's multi_logloss: 1.46687\n",
            "[12]\tvalid_0's multi_logloss: 1.51886\n",
            "[13]\tvalid_0's multi_logloss: 1.56689\n",
            "[14]\tvalid_0's multi_logloss: 1.6314\n",
            "[15]\tvalid_0's multi_logloss: 1.69323\n",
            "[16]\tvalid_0's multi_logloss: 1.7483\n",
            "[17]\tvalid_0's multi_logloss: 1.81431\n",
            "[18]\tvalid_0's multi_logloss: 1.89365\n",
            "[19]\tvalid_0's multi_logloss: 1.96546\n",
            "[20]\tvalid_0's multi_logloss: 1.98082\n",
            "[21]\tvalid_0's multi_logloss: 2.00191\n",
            "[22]\tvalid_0's multi_logloss: 2.01446\n",
            "[23]\tvalid_0's multi_logloss: 2.00844\n",
            "[24]\tvalid_0's multi_logloss: 2.02411\n",
            "[25]\tvalid_0's multi_logloss: 2.04828\n",
            "[26]\tvalid_0's multi_logloss: 2.04461\n",
            "[27]\tvalid_0's multi_logloss: 2.03628\n",
            "[28]\tvalid_0's multi_logloss: 2.0312\n",
            "[29]\tvalid_0's multi_logloss: 2.04542\n",
            "[30]\tvalid_0's multi_logloss: 2.09881\n",
            "[31]\tvalid_0's multi_logloss: 2.11219\n",
            "[32]\tvalid_0's multi_logloss: 2.10843\n",
            "[33]\tvalid_0's multi_logloss: 2.1191\n",
            "[34]\tvalid_0's multi_logloss: 2.17737\n",
            "[35]\tvalid_0's multi_logloss: 2.19347\n",
            "[36]\tvalid_0's multi_logloss: 2.26491\n",
            "[37]\tvalid_0's multi_logloss: 2.28294\n",
            "[38]\tvalid_0's multi_logloss: 2.30602\n",
            "[39]\tvalid_0's multi_logloss: 2.36906\n",
            "[40]\tvalid_0's multi_logloss: 2.3722\n",
            "[41]\tvalid_0's multi_logloss: 2.40175\n",
            "[42]\tvalid_0's multi_logloss: 2.44683\n",
            "[43]\tvalid_0's multi_logloss: 2.46124\n",
            "[44]\tvalid_0's multi_logloss: 2.4763\n",
            "[45]\tvalid_0's multi_logloss: 2.55494\n",
            "[46]\tvalid_0's multi_logloss: 2.61959\n",
            "[47]\tvalid_0's multi_logloss: 2.64333\n",
            "[48]\tvalid_0's multi_logloss: 2.67828\n",
            "[49]\tvalid_0's multi_logloss: 2.64589\n",
            "[50]\tvalid_0's multi_logloss: 2.65377\n",
            "[51]\tvalid_0's multi_logloss: 2.68504\n",
            "[52]\tvalid_0's multi_logloss: 2.66179\n",
            "[53]\tvalid_0's multi_logloss: 2.64144\n",
            "[54]\tvalid_0's multi_logloss: 2.61834\n",
            "[55]\tvalid_0's multi_logloss: 2.65527\n",
            "[56]\tvalid_0's multi_logloss: 2.71746\n",
            "[57]\tvalid_0's multi_logloss: 2.78986\n",
            "[58]\tvalid_0's multi_logloss: 2.84372\n",
            "[59]\tvalid_0's multi_logloss: 2.87325\n",
            "[60]\tvalid_0's multi_logloss: 2.92125\n",
            "[61]\tvalid_0's multi_logloss: 2.93572\n",
            "[62]\tvalid_0's multi_logloss: 2.96534\n",
            "[63]\tvalid_0's multi_logloss: 3.02702\n",
            "[64]\tvalid_0's multi_logloss: 2.97664\n",
            "[65]\tvalid_0's multi_logloss: 3.02711\n",
            "[66]\tvalid_0's multi_logloss: 3.10116\n",
            "[67]\tvalid_0's multi_logloss: 3.15909\n",
            "[68]\tvalid_0's multi_logloss: 3.18213\n",
            "[69]\tvalid_0's multi_logloss: 3.13734\n",
            "[70]\tvalid_0's multi_logloss: 3.07326\n",
            "[71]\tvalid_0's multi_logloss: 3.03514\n",
            "[72]\tvalid_0's multi_logloss: 2.98099\n",
            "[73]\tvalid_0's multi_logloss: 3.00976\n",
            "[74]\tvalid_0's multi_logloss: 3.0515\n",
            "[75]\tvalid_0's multi_logloss: 3.09924\n",
            "[76]\tvalid_0's multi_logloss: 3.03932\n",
            "[77]\tvalid_0's multi_logloss: 3.04719\n",
            "[78]\tvalid_0's multi_logloss: 2.98673\n",
            "[79]\tvalid_0's multi_logloss: 3.03623\n",
            "[80]\tvalid_0's multi_logloss: 3.11014\n",
            "[81]\tvalid_0's multi_logloss: 3.14155\n",
            "[82]\tvalid_0's multi_logloss: 3.16798\n",
            "[83]\tvalid_0's multi_logloss: 3.20863\n",
            "[84]\tvalid_0's multi_logloss: 3.15259\n",
            "[85]\tvalid_0's multi_logloss: 3.1931\n",
            "[86]\tvalid_0's multi_logloss: 3.23202\n",
            "[87]\tvalid_0's multi_logloss: 3.28939\n",
            "[88]\tvalid_0's multi_logloss: 3.28298\n",
            "[89]\tvalid_0's multi_logloss: 3.28648\n",
            "[90]\tvalid_0's multi_logloss: 3.2508\n",
            "[91]\tvalid_0's multi_logloss: 3.27233\n",
            "[92]\tvalid_0's multi_logloss: 3.3221\n",
            "[93]\tvalid_0's multi_logloss: 3.31208\n",
            "[94]\tvalid_0's multi_logloss: 3.33096\n",
            "[95]\tvalid_0's multi_logloss: 3.40083\n",
            "[96]\tvalid_0's multi_logloss: 3.30433\n",
            "[97]\tvalid_0's multi_logloss: 3.33168\n",
            "[98]\tvalid_0's multi_logloss: 3.37156\n",
            "[99]\tvalid_0's multi_logloss: 3.40223\n",
            "[100]\tvalid_0's multi_logloss: 3.35724\n"
          ]
        },
        {
          "output_type": "execute_result",
          "data": {
            "text/plain": [
              "LGBMClassifier(class_weight={0: 1.669109228303183, 1: 16.56590909090909,\n",
              "                             2: 2.936744560838034})"
            ],
            "text/html": [
              "<style>#sk-container-id-33 {color: black;background-color: white;}#sk-container-id-33 pre{padding: 0;}#sk-container-id-33 div.sk-toggleable {background-color: white;}#sk-container-id-33 label.sk-toggleable__label {cursor: pointer;display: block;width: 100%;margin-bottom: 0;padding: 0.3em;box-sizing: border-box;text-align: center;}#sk-container-id-33 label.sk-toggleable__label-arrow:before {content: \"▸\";float: left;margin-right: 0.25em;color: #696969;}#sk-container-id-33 label.sk-toggleable__label-arrow:hover:before {color: black;}#sk-container-id-33 div.sk-estimator:hover label.sk-toggleable__label-arrow:before {color: black;}#sk-container-id-33 div.sk-toggleable__content {max-height: 0;max-width: 0;overflow: hidden;text-align: left;background-color: #f0f8ff;}#sk-container-id-33 div.sk-toggleable__content pre {margin: 0.2em;color: black;border-radius: 0.25em;background-color: #f0f8ff;}#sk-container-id-33 input.sk-toggleable__control:checked~div.sk-toggleable__content {max-height: 200px;max-width: 100%;overflow: auto;}#sk-container-id-33 input.sk-toggleable__control:checked~label.sk-toggleable__label-arrow:before {content: \"▾\";}#sk-container-id-33 div.sk-estimator input.sk-toggleable__control:checked~label.sk-toggleable__label {background-color: #d4ebff;}#sk-container-id-33 div.sk-label input.sk-toggleable__control:checked~label.sk-toggleable__label {background-color: #d4ebff;}#sk-container-id-33 input.sk-hidden--visually {border: 0;clip: rect(1px 1px 1px 1px);clip: rect(1px, 1px, 1px, 1px);height: 1px;margin: -1px;overflow: hidden;padding: 0;position: absolute;width: 1px;}#sk-container-id-33 div.sk-estimator {font-family: monospace;background-color: #f0f8ff;border: 1px dotted black;border-radius: 0.25em;box-sizing: border-box;margin-bottom: 0.5em;}#sk-container-id-33 div.sk-estimator:hover {background-color: #d4ebff;}#sk-container-id-33 div.sk-parallel-item::after {content: \"\";width: 100%;border-bottom: 1px solid gray;flex-grow: 1;}#sk-container-id-33 div.sk-label:hover label.sk-toggleable__label {background-color: #d4ebff;}#sk-container-id-33 div.sk-serial::before {content: \"\";position: absolute;border-left: 1px solid gray;box-sizing: border-box;top: 0;bottom: 0;left: 50%;z-index: 0;}#sk-container-id-33 div.sk-serial {display: flex;flex-direction: column;align-items: center;background-color: white;padding-right: 0.2em;padding-left: 0.2em;position: relative;}#sk-container-id-33 div.sk-item {position: relative;z-index: 1;}#sk-container-id-33 div.sk-parallel {display: flex;align-items: stretch;justify-content: center;background-color: white;position: relative;}#sk-container-id-33 div.sk-item::before, #sk-container-id-33 div.sk-parallel-item::before {content: \"\";position: absolute;border-left: 1px solid gray;box-sizing: border-box;top: 0;bottom: 0;left: 50%;z-index: -1;}#sk-container-id-33 div.sk-parallel-item {display: flex;flex-direction: column;z-index: 1;position: relative;background-color: white;}#sk-container-id-33 div.sk-parallel-item:first-child::after {align-self: flex-end;width: 50%;}#sk-container-id-33 div.sk-parallel-item:last-child::after {align-self: flex-start;width: 50%;}#sk-container-id-33 div.sk-parallel-item:only-child::after {width: 0;}#sk-container-id-33 div.sk-dashed-wrapped {border: 1px dashed gray;margin: 0 0.4em 0.5em 0.4em;box-sizing: border-box;padding-bottom: 0.4em;background-color: white;}#sk-container-id-33 div.sk-label label {font-family: monospace;font-weight: bold;display: inline-block;line-height: 1.2em;}#sk-container-id-33 div.sk-label-container {text-align: center;}#sk-container-id-33 div.sk-container {/* jupyter's `normalize.less` sets `[hidden] { display: none; }` but bootstrap.min.css set `[hidden] { display: none !important; }` so we also need the `!important` here to be able to override the default hidden behavior on the sphinx rendered scikit-learn.org. See: https://github.com/scikit-learn/scikit-learn/issues/21755 */display: inline-block !important;position: relative;}#sk-container-id-33 div.sk-text-repr-fallback {display: none;}</style><div id=\"sk-container-id-33\" class=\"sk-top-container\"><div class=\"sk-text-repr-fallback\"><pre>LGBMClassifier(class_weight={0: 1.669109228303183, 1: 16.56590909090909,\n",
              "                             2: 2.936744560838034})</pre><b>In a Jupyter environment, please rerun this cell to show the HTML representation or trust the notebook. <br />On GitHub, the HTML representation is unable to render, please try loading this page with nbviewer.org.</b></div><div class=\"sk-container\" hidden><div class=\"sk-item\"><div class=\"sk-estimator sk-toggleable\"><input class=\"sk-toggleable__control sk-hidden--visually\" id=\"sk-estimator-id-33\" type=\"checkbox\" checked><label for=\"sk-estimator-id-33\" class=\"sk-toggleable__label sk-toggleable__label-arrow\">LGBMClassifier</label><div class=\"sk-toggleable__content\"><pre>LGBMClassifier(class_weight={0: 1.669109228303183, 1: 16.56590909090909,\n",
              "                             2: 2.936744560838034})</pre></div></div></div></div></div>"
            ]
          },
          "metadata": {},
          "execution_count": 336
        }
      ]
    },
    {
      "cell_type": "code",
      "source": [
        "#  validation 성능\n",
        "from sklearn.metrics import accuracy_score, precision_score, recall_score, f1_score\n",
        "\n",
        "# validation 데이터 예측\n",
        "val_pred = LGBM.predict(val_input)\n",
        "\n",
        "# 정확도 계산\n",
        "accuracy = accuracy_score(val_output, val_pred)\n",
        "print(\"Accuracy:\", accuracy)\n",
        "\n",
        "# 정밀도 계산\n",
        "precision = precision_score(val_output, val_pred, average='macro')\n",
        "print(\"Precision:\", precision)\n",
        "\n",
        "# 재현율 계산\n",
        "recall = recall_score(val_output, val_pred, average='macro')\n",
        "print(\"Recall:\", recall)\n",
        "\n",
        "# F1 스코어 계산\n",
        "f1 = f1_score(val_output, val_pred, average='macro')\n",
        "print(\"F1 Score:\", f1)"
      ],
      "metadata": {
        "colab": {
          "base_uri": "https://localhost:8080/"
        },
        "id": "GOyXRXJH3W_-",
        "outputId": "9ddb91c7-3b99-4174-ffca-d6b2ec3740c2"
      },
      "execution_count": 337,
      "outputs": [
        {
          "output_type": "stream",
          "name": "stdout",
          "text": [
            "Accuracy: 0.5990126165660998\n",
            "Precision: 0.19967087218869994\n",
            "Recall: 0.3333333333333333\n",
            "F1 Score: 0.24974271012006863\n"
          ]
        },
        {
          "output_type": "stream",
          "name": "stderr",
          "text": [
            "/usr/local/lib/python3.10/dist-packages/sklearn/metrics/_classification.py:1344: UndefinedMetricWarning: Precision is ill-defined and being set to 0.0 in labels with no predicted samples. Use `zero_division` parameter to control this behavior.\n",
            "  _warn_prf(average, modifier, msg_start, len(result))\n"
          ]
        }
      ]
    },
    {
      "cell_type": "code",
      "source": [
        "plt.hist(val_output)\n",
        "plt.show()"
      ],
      "metadata": {
        "colab": {
          "base_uri": "https://localhost:8080/",
          "height": 430
        },
        "id": "7lIIRhF6B49f",
        "outputId": "5bfee136-0972-4a43-bb6f-1b3a5f14cb53"
      },
      "execution_count": 338,
      "outputs": [
        {
          "output_type": "display_data",
          "data": {
            "text/plain": [
              "<Figure size 640x480 with 1 Axes>"
            ],
            "image/png": "[encoded data removed]"
          },
          "metadata": {}
        }
      ]
    },
    {
      "cell_type": "code",
      "source": [
        "plt.hist(val_pred)\n",
        "plt.show()"
      ],
      "metadata": {
        "colab": {
          "base_uri": "https://localhost:8080/",
          "height": 430
        },
        "id": "tgUQZaBrB5AM",
        "outputId": "7199a42a-7fb2-49db-9fe0-be298efd4462"
      },
      "execution_count": 339,
      "outputs": [
        {
          "output_type": "display_data",
          "data": {
            "text/plain": [
              "<Figure size 640x480 with 1 Axes>"
            ],
            "image/png": "[encoded data removed]"
          },
          "metadata": {}
        }
      ]
    },
    {
      "cell_type": "markdown",
      "source": [
        "## 결론\n",
        "\n",
        "* validation data로 확인해 보았을 때 MinMaxScaler만 적용한 경우가 Accuracy가 높고, F1 score가 조금 더 높다.\n",
        "* 하지만 SMOTE를 적용한 경우 Recall이 더 좋다.\n",
        "* 클래스 가중치를 사용한 경우는 성능이 좋지 않았다.\n",
        "* 우리는 치매 환자일 가능성이 있는 사람들에게 경고를 알리는 앱을 개발해야 하므로 Recall이 Precision보다 더 중요하다. 따라서 SMOTE를 사용해 전처리를 한 모델을 사용하겠다.\n"
      ],
      "metadata": {
        "id": "4t6iFC2CUn9X"
      }
    }
  ]
}