{
  "nbformat": 4,
  "nbformat_minor": 0,
  "metadata": {
    "colab": {
      "provenance": []
    },
    "kernelspec": {
      "name": "python3",
      "display_name": "Python 3"
    },
    "language_info": {
      "name": "python"
    }
  },
  "cells": [
    {
      "cell_type": "markdown",
      "source": [
        "# LightGBM\n",
        "\n",
        "* LightGBM.ipynb에서는 train--.csv 와 test--.csv 의 데이터를 그대로 train data와 test 데이터로 사용했었다.\n",
        "* 그 데이터에 불균형이 많이 발견되었으며, 데이터의 정규화도 이루어지지 않았다.\n",
        "* 이번에 train, test 데이터를 균등하게 나누어 보고, MinMaxScaler를 사용하여 정규화를 하고, SMOTE를 사용하여 오버샘플링을 해 보았다.\n",
        "* 결과, 기존에 train accuracy가 0.59, test accuracy가 0.78 였던 것에 비해 train accuracy는 0.94, test accuracy는 0.90 으로 나타났다."
      ],
      "metadata": {
        "id": "728FJfUWp7u_"
      }
    },
    {
      "cell_type": "code",
      "execution_count": null,
      "metadata": {
        "id": "O_JclOZro-J1",
        "colab": {
          "base_uri": "https://localhost:8080/"
        },
        "outputId": "05b38f0c-d10d-48e4-b54b-980b65f11919"
      },
      "outputs": [
        {
          "output_type": "stream",
          "name": "stdout",
          "text": [
            "Drive already mounted at /content/drive; to attempt to forcibly remount, call drive.mount(\"/content/drive\", force_remount=True).\n"
          ]
        }
      ],
      "source": [
        "from google.colab import drive\n",
        "drive.mount('/content/drive')"
      ]
    },
    {
      "cell_type": "code",
      "source": [
        "path=\"/content/drive/MyDrive/빅데이터 팀플/dementia_analytics/\""
      ],
      "metadata": {
        "id": "8-wMX7ofqf_e"
      },
      "execution_count": null,
      "outputs": []
    },
    {
      "cell_type": "markdown",
      "source": [
        "# Train-Test 를 라벨 별로 균등하게 나누기 전"
      ],
      "metadata": {
        "id": "qPWAzitqhn6r"
      }
    },
    {
      "cell_type": "code",
      "source": [
        "import numpy as np\n",
        "import pandas as pd\n",
        "import matplotlib.pyplot as plt\n",
        "\n",
        "### 데이터 로딩 ### \n",
        "train_dataset = pd.read_csv(path + 'data_processing/dataset_03/training/train_dataset_with_label_fill_user_mean.csv')\n",
        "valid_dataset = pd.read_csv(path + 'data_processing/dataset_03/validation/val_dataset_with_label_fill_user_mean.csv')\n",
        "\n",
        "train_output = train_dataset[['DIAG_NM']]\n",
        "train_input = train_dataset[['sleep_breath_average', 'sleep_hr_average', 'sleep_hr_lowest', 'sleep_restless', 'sleep_midpoint_at_delta', 'activity_cal_total', 'activity_met_min_inactive', 'activity_met_min_high', 'activity_score_meet_daily_targets', 'sleep_rem', 'sleep_light', 'activity_low', 'activity_rest', 'activity_met_min_medium']]\n",
        "\n",
        "test_output = valid_dataset[['DIAG_NM']]\n",
        "test_input = valid_dataset[['sleep_breath_average', 'sleep_hr_average', 'sleep_hr_lowest', 'sleep_restless', 'sleep_midpoint_at_delta', 'activity_cal_total', 'activity_met_min_inactive', 'activity_met_min_high', 'activity_score_meet_daily_targets', 'sleep_rem', 'sleep_light', 'activity_low', 'activity_rest', 'activity_met_min_medium']]"
      ],
      "metadata": {
        "id": "cOSTkWAzm0t1"
      },
      "execution_count": null,
      "outputs": []
    },
    {
      "cell_type": "code",
      "source": [
        "from sklearn.preprocessing import MinMaxScaler\n",
        "\n",
        "scaler = MinMaxScaler(feature_range=(0, 1))\n",
        "scaler.fit_transform(train_input)\n",
        "train_input = scaler.fit_transform(train_input)\n",
        "test_input = scaler.fit_transform(test_input)"
      ],
      "metadata": {
        "id": "krNsKZWkhejs"
      },
      "execution_count": null,
      "outputs": []
    },
    {
      "cell_type": "code",
      "source": [
        "### 레이블 인코딩 ### \n",
        "\n",
        "# 트리 기반 알고리즘에서는 숫자의 크기에 따른 중요도 차이가 없어 레이블 인코딩 OK\n",
        "# 선형적 특징을 가지는 알고리즘들은 one hot encoding 통해 해결해야 함\n",
        "\n",
        "from sklearn.preprocessing import LabelEncoder\n",
        "\n",
        "# 라벨인코더 선언 및 Fitting\n",
        "# CN : 0, Dem : 1, MCI : 2\n",
        "items = ['CN', 'Dem', 'MCI']\n",
        "encoder = LabelEncoder()\n",
        "encoder.fit(items)\n",
        "\n",
        "# train\n",
        "train_output['DIAG_NM'] = encoder.transform(train_output['DIAG_NM'])\n",
        "# display(encoder.classes_)\n",
        "# display(encoder.inverse_transform(train_output['DIAG_NM']))\n",
        "\n",
        "# test\n",
        "test_output['DIAG_NM'] = encoder.transform(test_output['DIAG_NM'])"
      ],
      "metadata": {
        "colab": {
          "base_uri": "https://localhost:8080/"
        },
        "id": "pwd0DjrIiD1y",
        "outputId": "22875c46-bc41-435a-b1f7-70850a62492d"
      },
      "execution_count": null,
      "outputs": [
        {
          "output_type": "stream",
          "name": "stderr",
          "text": [
            "<ipython-input-120-e819ad067ec6>:15: SettingWithCopyWarning: \n",
            "A value is trying to be set on a copy of a slice from a DataFrame.\n",
            "Try using .loc[row_indexer,col_indexer] = value instead\n",
            "\n",
            "See the caveats in the documentation: https://pandas.pydata.org/pandas-docs/stable/user_guide/indexing.html#returning-a-view-versus-a-copy\n",
            "  train_output['DIAG_NM'] = encoder.transform(train_output['DIAG_NM'])\n",
            "<ipython-input-120-e819ad067ec6>:20: SettingWithCopyWarning: \n",
            "A value is trying to be set on a copy of a slice from a DataFrame.\n",
            "Try using .loc[row_indexer,col_indexer] = value instead\n",
            "\n",
            "See the caveats in the documentation: https://pandas.pydata.org/pandas-docs/stable/user_guide/indexing.html#returning-a-view-versus-a-copy\n",
            "  test_output['DIAG_NM'] = encoder.transform(test_output['DIAG_NM'])\n"
          ]
        }
      ]
    },
    {
      "cell_type": "code",
      "source": [
        "### Light GBM ###\n",
        "from lightgbm import LGBMClassifier\n",
        "\n",
        "LGBM = LGBMClassifier()\n",
        "evals = [(test_input, test_output)]\n",
        "LGBM.fit(train_input, train_output, early_stopping_rounds=100, eval_metric='logloss', eval_set=evals, verbose=True)\n",
        "test_pred = LGBM.predict(test_input)\n",
        "train_pred = LGBM.predict(train_input)\n",
        "# pred_proba = LGBM.predict_proba(test_input)[:1]"
      ],
      "metadata": {
        "colab": {
          "base_uri": "https://localhost:8080/"
        },
        "id": "IYwHSx4ziGxK",
        "outputId": "2df750f8-ef8c-4c74-cb61-e6fc26601122"
      },
      "execution_count": null,
      "outputs": [
        {
          "output_type": "stream",
          "name": "stderr",
          "text": [
            "/usr/local/lib/python3.10/dist-packages/sklearn/preprocessing/_label.py:99: DataConversionWarning: A column-vector y was passed when a 1d array was expected. Please change the shape of y to (n_samples, ), for example using ravel().\n",
            "  y = column_or_1d(y, warn=True)\n",
            "/usr/local/lib/python3.10/dist-packages/sklearn/preprocessing/_label.py:134: DataConversionWarning: A column-vector y was passed when a 1d array was expected. Please change the shape of y to (n_samples, ), for example using ravel().\n",
            "  y = column_or_1d(y, dtype=self.classes_.dtype, warn=True)\n",
            "/usr/local/lib/python3.10/dist-packages/sklearn/preprocessing/_label.py:134: DataConversionWarning: A column-vector y was passed when a 1d array was expected. Please change the shape of y to (n_samples, ), for example using ravel().\n",
            "  y = column_or_1d(y, dtype=self.classes_.dtype, warn=True)\n",
            "/usr/local/lib/python3.10/dist-packages/lightgbm/sklearn.py:726: UserWarning: 'early_stopping_rounds' argument is deprecated and will be removed in a future release of LightGBM. Pass 'early_stopping()' callback via 'callbacks' argument instead.\n",
            "  _log_warning(\"'early_stopping_rounds' argument is deprecated and will be removed in a future release of LightGBM. \"\n",
            "/usr/local/lib/python3.10/dist-packages/lightgbm/sklearn.py:736: UserWarning: 'verbose' argument is deprecated and will be removed in a future release of LightGBM. Pass 'log_evaluation()' callback via 'callbacks' argument instead.\n",
            "  _log_warning(\"'verbose' argument is deprecated and will be removed in a future release of LightGBM. \"\n"
          ]
        },
        {
          "output_type": "stream",
          "name": "stdout",
          "text": [
            "[1]\tvalid_0's multi_logloss: 0.791948\n",
            "[2]\tvalid_0's multi_logloss: 0.789925\n",
            "[3]\tvalid_0's multi_logloss: 0.790271\n",
            "[4]\tvalid_0's multi_logloss: 0.792056\n",
            "[5]\tvalid_0's multi_logloss: 0.794073\n",
            "[6]\tvalid_0's multi_logloss: 0.793791\n",
            "[7]\tvalid_0's multi_logloss: 0.79282\n",
            "[8]\tvalid_0's multi_logloss: 0.795642\n",
            "[9]\tvalid_0's multi_logloss: 0.797257\n",
            "[10]\tvalid_0's multi_logloss: 0.802295\n",
            "[11]\tvalid_0's multi_logloss: 0.80637\n",
            "[12]\tvalid_0's multi_logloss: 0.806304\n",
            "[13]\tvalid_0's multi_logloss: 0.805972\n",
            "[14]\tvalid_0's multi_logloss: 0.804303\n",
            "[15]\tvalid_0's multi_logloss: 0.804909\n",
            "[16]\tvalid_0's multi_logloss: 0.805186\n",
            "[17]\tvalid_0's multi_logloss: 0.806756\n",
            "[18]\tvalid_0's multi_logloss: 0.811269\n",
            "[19]\tvalid_0's multi_logloss: 0.809089\n",
            "[20]\tvalid_0's multi_logloss: 0.809348\n",
            "[21]\tvalid_0's multi_logloss: 0.812149\n",
            "[22]\tvalid_0's multi_logloss: 0.815502\n",
            "[23]\tvalid_0's multi_logloss: 0.816253\n",
            "[24]\tvalid_0's multi_logloss: 0.814126\n",
            "[25]\tvalid_0's multi_logloss: 0.814888\n",
            "[26]\tvalid_0's multi_logloss: 0.818661\n",
            "[27]\tvalid_0's multi_logloss: 0.814436\n",
            "[28]\tvalid_0's multi_logloss: 0.817038\n",
            "[29]\tvalid_0's multi_logloss: 0.822197\n",
            "[30]\tvalid_0's multi_logloss: 0.822483\n",
            "[31]\tvalid_0's multi_logloss: 0.824314\n",
            "[32]\tvalid_0's multi_logloss: 0.824851\n",
            "[33]\tvalid_0's multi_logloss: 0.828281\n",
            "[34]\tvalid_0's multi_logloss: 0.829508\n",
            "[35]\tvalid_0's multi_logloss: 0.833045\n",
            "[36]\tvalid_0's multi_logloss: 0.832603\n",
            "[37]\tvalid_0's multi_logloss: 0.836691\n",
            "[38]\tvalid_0's multi_logloss: 0.838011\n",
            "[39]\tvalid_0's multi_logloss: 0.844276\n",
            "[40]\tvalid_0's multi_logloss: 0.849431\n",
            "[41]\tvalid_0's multi_logloss: 0.850464\n",
            "[42]\tvalid_0's multi_logloss: 0.855133\n",
            "[43]\tvalid_0's multi_logloss: 0.859993\n",
            "[44]\tvalid_0's multi_logloss: 0.85989\n",
            "[45]\tvalid_0's multi_logloss: 0.862621\n",
            "[46]\tvalid_0's multi_logloss: 0.862216\n",
            "[47]\tvalid_0's multi_logloss: 0.866125\n",
            "[48]\tvalid_0's multi_logloss: 0.869438\n",
            "[49]\tvalid_0's multi_logloss: 0.876278\n",
            "[50]\tvalid_0's multi_logloss: 0.875037\n",
            "[51]\tvalid_0's multi_logloss: 0.874936\n",
            "[52]\tvalid_0's multi_logloss: 0.879687\n",
            "[53]\tvalid_0's multi_logloss: 0.882438\n",
            "[54]\tvalid_0's multi_logloss: 0.882989\n",
            "[55]\tvalid_0's multi_logloss: 0.888009\n",
            "[56]\tvalid_0's multi_logloss: 0.893461\n",
            "[57]\tvalid_0's multi_logloss: 0.896071\n",
            "[58]\tvalid_0's multi_logloss: 0.898241\n",
            "[59]\tvalid_0's multi_logloss: 0.902008\n",
            "[60]\tvalid_0's multi_logloss: 0.90572\n",
            "[61]\tvalid_0's multi_logloss: 0.908348\n",
            "[62]\tvalid_0's multi_logloss: 0.910327\n",
            "[63]\tvalid_0's multi_logloss: 0.9114\n",
            "[64]\tvalid_0's multi_logloss: 0.915614\n",
            "[65]\tvalid_0's multi_logloss: 0.918227\n",
            "[66]\tvalid_0's multi_logloss: 0.920021\n",
            "[67]\tvalid_0's multi_logloss: 0.919383\n",
            "[68]\tvalid_0's multi_logloss: 0.920505\n",
            "[69]\tvalid_0's multi_logloss: 0.922057\n",
            "[70]\tvalid_0's multi_logloss: 0.923884\n",
            "[71]\tvalid_0's multi_logloss: 0.923322\n",
            "[72]\tvalid_0's multi_logloss: 0.924171\n",
            "[73]\tvalid_0's multi_logloss: 0.927201\n",
            "[74]\tvalid_0's multi_logloss: 0.928414\n",
            "[75]\tvalid_0's multi_logloss: 0.929271\n",
            "[76]\tvalid_0's multi_logloss: 0.932852\n",
            "[77]\tvalid_0's multi_logloss: 0.933653\n",
            "[78]\tvalid_0's multi_logloss: 0.937944\n",
            "[79]\tvalid_0's multi_logloss: 0.943537\n",
            "[80]\tvalid_0's multi_logloss: 0.944229\n",
            "[81]\tvalid_0's multi_logloss: 0.946719\n",
            "[82]\tvalid_0's multi_logloss: 0.950214\n",
            "[83]\tvalid_0's multi_logloss: 0.952312\n",
            "[84]\tvalid_0's multi_logloss: 0.954609\n",
            "[85]\tvalid_0's multi_logloss: 0.954553\n",
            "[86]\tvalid_0's multi_logloss: 0.956946\n",
            "[87]\tvalid_0's multi_logloss: 0.954631\n",
            "[88]\tvalid_0's multi_logloss: 0.960119\n",
            "[89]\tvalid_0's multi_logloss: 0.959395\n",
            "[90]\tvalid_0's multi_logloss: 0.961096\n",
            "[91]\tvalid_0's multi_logloss: 0.962354\n",
            "[92]\tvalid_0's multi_logloss: 0.964958\n",
            "[93]\tvalid_0's multi_logloss: 0.964041\n",
            "[94]\tvalid_0's multi_logloss: 0.965362\n",
            "[95]\tvalid_0's multi_logloss: 0.966506\n",
            "[96]\tvalid_0's multi_logloss: 0.971451\n",
            "[97]\tvalid_0's multi_logloss: 0.971871\n",
            "[98]\tvalid_0's multi_logloss: 0.970803\n",
            "[99]\tvalid_0's multi_logloss: 0.969895\n",
            "[100]\tvalid_0's multi_logloss: 0.969999\n"
          ]
        }
      ]
    },
    {
      "cell_type": "code",
      "source": [
        "# 균등하게 나누기 전\n",
        "from sklearn.metrics import accuracy_score\n",
        "\n",
        "print(accuracy_score(train_output, train_pred))\n",
        "print(accuracy_score(test_output, test_pred))"
      ],
      "metadata": {
        "colab": {
          "base_uri": "https://localhost:8080/"
        },
        "id": "gP-mCv7DiJvp",
        "outputId": "1df69b14-c183-4ffd-cb50-e829f6c4f051"
      },
      "execution_count": null,
      "outputs": [
        {
          "output_type": "stream",
          "name": "stdout",
          "text": [
            "0.5996824276640791\n",
            "0.7840054682159945\n"
          ]
        }
      ]
    },
    {
      "cell_type": "code",
      "source": [
        "import matplotlib.pyplot as plt\n",
        "\n",
        "plt.hist(test_output)\n",
        "plt.show()"
      ],
      "metadata": {
        "colab": {
          "base_uri": "https://localhost:8080/",
          "height": 430
        },
        "id": "pHmUqmzHiPLh",
        "outputId": "d73ef4e7-6b46-4b5a-a1cd-3bbcd2c3892c"
      },
      "execution_count": null,
      "outputs": [
        {
          "output_type": "display_data",
          "data": {
            "text/plain": [
              "<Figure size 640x480 with 1 Axes>"
            ],
            "image/png": "[encoded data removed]"
          },
          "metadata": {}
        }
      ]
    },
    {
      "cell_type": "code",
      "source": [
        "plt.hist(test_pred)\n",
        "plt.show()"
      ],
      "metadata": {
        "colab": {
          "base_uri": "https://localhost:8080/",
          "height": 430
        },
        "id": "h6Kil34piZCo",
        "outputId": "42490de3-094a-4692-b654-c9c116103f1a"
      },
      "execution_count": null,
      "outputs": [
        {
          "output_type": "display_data",
          "data": {
            "text/plain": [
              "<Figure size 640x480 with 1 Axes>"
            ],
            "image/png": "[encoded data removed]"
          },
          "metadata": {}
        }
      ]
    },
    {
      "cell_type": "markdown",
      "source": [
        "이를 통해, Train-Test를 균등하게 나누기 전에는 모델이 모든 데이터에 대해 하나의 라벨로만 분류하였다는 것을 알 수 있다."
      ],
      "metadata": {
        "id": "Sg3cWHWHvrAs"
      }
    },
    {
      "cell_type": "markdown",
      "source": [
        "# Train-Test 을 각 라벨 별로 균등하게 나눈 후"
      ],
      "metadata": {
        "id": "dLFUki7qhfLT"
      }
    },
    {
      "cell_type": "code",
      "source": [
        "import numpy as np\n",
        "import pandas as pd\n",
        "import matplotlib.pyplot as plt\n",
        "\n",
        "### 데이터 로딩 ### \n",
        "train_dataset = pd.read_csv(path + 'data_processing/dataset_03/training/train_dataset_with_label_fill_user_mean.csv')\n",
        "valid_dataset = pd.read_csv(path + 'data_processing/dataset_03/validation/val_dataset_with_label_fill_user_mean.csv')\n",
        "\n",
        "train_output = train_dataset[['DIAG_NM']]\n",
        "train_input = train_dataset[['sleep_breath_average', 'sleep_hr_average', 'sleep_hr_lowest', 'sleep_restless', 'sleep_midpoint_at_delta', 'activity_cal_total', 'activity_met_min_inactive', 'activity_met_min_high', 'activity_score_meet_daily_targets', 'sleep_rem', 'sleep_light', 'activity_low', 'activity_rest', 'activity_met_min_medium']]\n",
        "\n",
        "test_output = valid_dataset[['DIAG_NM']]\n",
        "test_input = valid_dataset[['sleep_breath_average', 'sleep_hr_average', 'sleep_hr_lowest', 'sleep_restless', 'sleep_midpoint_at_delta', 'activity_cal_total', 'activity_met_min_inactive', 'activity_met_min_high', 'activity_score_meet_daily_targets', 'sleep_rem', 'sleep_light', 'activity_low', 'activity_rest', 'activity_met_min_medium']]"
      ],
      "metadata": {
        "id": "-mDdJLIOivHR"
      },
      "execution_count": null,
      "outputs": []
    },
    {
      "cell_type": "code",
      "source": [
        "data_input = pd.concat([train_input, test_input], ignore_index=True)\n",
        "data_output = pd.concat([train_output, test_output], ignore_index=True)"
      ],
      "metadata": {
        "id": "npfSehiFX3bC"
      },
      "execution_count": null,
      "outputs": []
    },
    {
      "cell_type": "markdown",
      "source": [
        "## 오버샘플링 전\n"
      ],
      "metadata": {
        "id": "KecbWSewhFvd"
      }
    },
    {
      "cell_type": "code",
      "source": [
        "# 오버샘플링 전\n",
        "import matplotlib.pyplot as plt\n",
        "\n",
        "plt.hist(data_output)\n",
        "plt.show()"
      ],
      "metadata": {
        "colab": {
          "base_uri": "https://localhost:8080/",
          "height": 430
        },
        "id": "ToTiChjHs65T",
        "outputId": "113caa8a-7d8e-4e5d-f62b-cbc4e16dd882"
      },
      "execution_count": null,
      "outputs": [
        {
          "output_type": "display_data",
          "data": {
            "text/plain": [
              "<Figure size 640x480 with 1 Axes>"
            ],
            "image/png": "[encoded data removed]"
          },
          "metadata": {}
        }
      ]
    },
    {
      "cell_type": "code",
      "source": [
        "from sklearn.preprocessing import MinMaxScaler\n",
        "\n",
        "scaler = MinMaxScaler(feature_range=(0, 1))\n",
        "scaler.fit_transform(train_input)\n",
        "data_input = scaler.fit_transform(data_input)\n",
        "print(data_input)"
      ],
      "metadata": {
        "colab": {
          "base_uri": "https://localhost:8080/"
        },
        "id": "vNSaQs02azLp",
        "outputId": "27ca14e8-034c-48c7-c0be-5b863217ad01"
      },
      "execution_count": null,
      "outputs": [
        {
          "output_type": "stream",
          "name": "stdout",
          "text": [
            "[[0.5952381  0.26400374 0.27586207 ... 0.23344948 0.36159776 0.01592357]\n",
            " [0.5952381  0.25136527 0.24137931 ... 0.15214866 0.32305536 0.02229299]\n",
            " [0.54761905 0.23669839 0.22413793 ... 0.14518002 0.41906097 0.01512739]\n",
            " ...\n",
            " [0.54761905 0.35481354 0.34482759 ... 0.33587744 0.42813094 0.2024492 ]\n",
            " [0.57142857 0.33655797 0.31034483 ... 0.33587744 0.42813094 0.2024492 ]\n",
            " [0.63095238 0.45997816 0.44827586 ... 0.33587744 0.42813094 0.2024492 ]]\n"
          ]
        }
      ]
    },
    {
      "cell_type": "code",
      "source": [
        "from sklearn.model_selection import train_test_split\n",
        "\n",
        "train_input, test_input, train_output, test_output = train_test_split(data_input, data_output, test_size=0.2, shuffle=True, stratify=data_output, random_state=42)"
      ],
      "metadata": {
        "id": "zzeJ--BOg2-p"
      },
      "execution_count": null,
      "outputs": []
    },
    {
      "cell_type": "code",
      "source": [
        "### 레이블 인코딩 ### \n",
        "\n",
        "# 트리 기반 알고리즘에서는 숫자의 크기에 따른 중요도 차이가 없어 레이블 인코딩 OK\n",
        "# 선형적 특징을 가지는 알고리즘들은 one hot encoding 통해 해결해야 함\n",
        "\n",
        "from sklearn.preprocessing import LabelEncoder\n",
        "\n",
        "# 라벨인코더 선언 및 Fitting\n",
        "# CN : 0, Dem : 1, MCI : 2\n",
        "items = ['CN', 'Dem', 'MCI']\n",
        "encoder = LabelEncoder()\n",
        "encoder.fit(items)\n",
        "\n",
        "# train\n",
        "train_output['DIAG_NM'] = encoder.transform(train_output['DIAG_NM'])\n",
        "# display(encoder.classes_)\n",
        "# display(encoder.inverse_transform(train_output['DIAG_NM']))\n",
        "\n",
        "# test\n",
        "test_output['DIAG_NM'] = encoder.transform(test_output['DIAG_NM'])"
      ],
      "metadata": {
        "id": "SBBC6QHmg3BG"
      },
      "execution_count": null,
      "outputs": []
    },
    {
      "cell_type": "code",
      "source": [
        "### Light GBM ###\n",
        "from lightgbm import LGBMClassifier\n",
        "\n",
        "LGBM = LGBMClassifier()\n",
        "evals = [(test_input, test_output)]\n",
        "LGBM.fit(train_input, train_output, early_stopping_rounds=100, eval_metric='logloss', eval_set=evals, verbose=True)\n",
        "test_pred = LGBM.predict(test_input)\n",
        "train_pred = LGBM.predict(train_input)\n",
        "# pred_proba = LGBM.predict_proba(test_input)[:1]"
      ],
      "metadata": {
        "colab": {
          "base_uri": "https://localhost:8080/"
        },
        "id": "UhGVGxbXg3Dl",
        "outputId": "8c2b307f-0a98-43ad-d6b1-739f82b58343"
      },
      "execution_count": null,
      "outputs": [
        {
          "output_type": "stream",
          "name": "stderr",
          "text": [
            "/usr/local/lib/python3.10/dist-packages/sklearn/preprocessing/_label.py:99: DataConversionWarning: A column-vector y was passed when a 1d array was expected. Please change the shape of y to (n_samples, ), for example using ravel().\n",
            "  y = column_or_1d(y, warn=True)\n",
            "/usr/local/lib/python3.10/dist-packages/sklearn/preprocessing/_label.py:134: DataConversionWarning: A column-vector y was passed when a 1d array was expected. Please change the shape of y to (n_samples, ), for example using ravel().\n",
            "  y = column_or_1d(y, dtype=self.classes_.dtype, warn=True)\n",
            "/usr/local/lib/python3.10/dist-packages/sklearn/preprocessing/_label.py:134: DataConversionWarning: A column-vector y was passed when a 1d array was expected. Please change the shape of y to (n_samples, ), for example using ravel().\n",
            "  y = column_or_1d(y, dtype=self.classes_.dtype, warn=True)\n",
            "/usr/local/lib/python3.10/dist-packages/lightgbm/sklearn.py:726: UserWarning: 'early_stopping_rounds' argument is deprecated and will be removed in a future release of LightGBM. Pass 'early_stopping()' callback via 'callbacks' argument instead.\n",
            "  _log_warning(\"'early_stopping_rounds' argument is deprecated and will be removed in a future release of LightGBM. \"\n",
            "/usr/local/lib/python3.10/dist-packages/lightgbm/sklearn.py:736: UserWarning: 'verbose' argument is deprecated and will be removed in a future release of LightGBM. Pass 'log_evaluation()' callback via 'callbacks' argument instead.\n",
            "  _log_warning(\"'verbose' argument is deprecated and will be removed in a future release of LightGBM. \"\n"
          ]
        },
        {
          "output_type": "stream",
          "name": "stdout",
          "text": [
            "[1]\tvalid_0's multi_logloss: 0.777448\n",
            "[2]\tvalid_0's multi_logloss: 0.744842\n",
            "[3]\tvalid_0's multi_logloss: 0.720335\n",
            "[4]\tvalid_0's multi_logloss: 0.699928\n",
            "[5]\tvalid_0's multi_logloss: 0.680991\n",
            "[6]\tvalid_0's multi_logloss: 0.664904\n",
            "[7]\tvalid_0's multi_logloss: 0.65012\n",
            "[8]\tvalid_0's multi_logloss: 0.636651\n",
            "[9]\tvalid_0's multi_logloss: 0.623992\n",
            "[10]\tvalid_0's multi_logloss: 0.612805\n",
            "[11]\tvalid_0's multi_logloss: 0.603539\n",
            "[12]\tvalid_0's multi_logloss: 0.593902\n",
            "[13]\tvalid_0's multi_logloss: 0.585515\n",
            "[14]\tvalid_0's multi_logloss: 0.578552\n",
            "[15]\tvalid_0's multi_logloss: 0.570998\n",
            "[16]\tvalid_0's multi_logloss: 0.563634\n",
            "[17]\tvalid_0's multi_logloss: 0.557328\n",
            "[18]\tvalid_0's multi_logloss: 0.551625\n",
            "[19]\tvalid_0's multi_logloss: 0.54519\n",
            "[20]\tvalid_0's multi_logloss: 0.539429\n",
            "[21]\tvalid_0's multi_logloss: 0.53389\n",
            "[22]\tvalid_0's multi_logloss: 0.529295\n",
            "[23]\tvalid_0's multi_logloss: 0.524027\n",
            "[24]\tvalid_0's multi_logloss: 0.520381\n",
            "[25]\tvalid_0's multi_logloss: 0.516557\n",
            "[26]\tvalid_0's multi_logloss: 0.51317\n",
            "[27]\tvalid_0's multi_logloss: 0.509461\n",
            "[28]\tvalid_0's multi_logloss: 0.506107\n",
            "[29]\tvalid_0's multi_logloss: 0.502961\n",
            "[30]\tvalid_0's multi_logloss: 0.500618\n",
            "[31]\tvalid_0's multi_logloss: 0.497022\n",
            "[32]\tvalid_0's multi_logloss: 0.494445\n",
            "[33]\tvalid_0's multi_logloss: 0.492468\n",
            "[34]\tvalid_0's multi_logloss: 0.490237\n",
            "[35]\tvalid_0's multi_logloss: 0.487087\n",
            "[36]\tvalid_0's multi_logloss: 0.484307\n",
            "[37]\tvalid_0's multi_logloss: 0.482445\n",
            "[38]\tvalid_0's multi_logloss: 0.48075\n",
            "[39]\tvalid_0's multi_logloss: 0.478831\n",
            "[40]\tvalid_0's multi_logloss: 0.477412\n",
            "[41]\tvalid_0's multi_logloss: 0.474743\n",
            "[42]\tvalid_0's multi_logloss: 0.47323\n",
            "[43]\tvalid_0's multi_logloss: 0.470514\n",
            "[44]\tvalid_0's multi_logloss: 0.467926\n",
            "[45]\tvalid_0's multi_logloss: 0.466403\n",
            "[46]\tvalid_0's multi_logloss: 0.465217\n",
            "[47]\tvalid_0's multi_logloss: 0.463374\n",
            "[48]\tvalid_0's multi_logloss: 0.46161\n",
            "[49]\tvalid_0's multi_logloss: 0.459927\n",
            "[50]\tvalid_0's multi_logloss: 0.4584\n",
            "[51]\tvalid_0's multi_logloss: 0.45691\n",
            "[52]\tvalid_0's multi_logloss: 0.455216\n",
            "[53]\tvalid_0's multi_logloss: 0.454137\n",
            "[54]\tvalid_0's multi_logloss: 0.452809\n",
            "[55]\tvalid_0's multi_logloss: 0.451431\n",
            "[56]\tvalid_0's multi_logloss: 0.450527\n",
            "[57]\tvalid_0's multi_logloss: 0.449309\n",
            "[58]\tvalid_0's multi_logloss: 0.448449\n",
            "[59]\tvalid_0's multi_logloss: 0.447096\n",
            "[60]\tvalid_0's multi_logloss: 0.445629\n",
            "[61]\tvalid_0's multi_logloss: 0.444125\n",
            "[62]\tvalid_0's multi_logloss: 0.442343\n",
            "[63]\tvalid_0's multi_logloss: 0.4405\n",
            "[64]\tvalid_0's multi_logloss: 0.439225\n",
            "[65]\tvalid_0's multi_logloss: 0.437971\n",
            "[66]\tvalid_0's multi_logloss: 0.436866\n",
            "[67]\tvalid_0's multi_logloss: 0.435424\n",
            "[68]\tvalid_0's multi_logloss: 0.434477\n",
            "[69]\tvalid_0's multi_logloss: 0.433386\n",
            "[70]\tvalid_0's multi_logloss: 0.432281\n",
            "[71]\tvalid_0's multi_logloss: 0.431111\n",
            "[72]\tvalid_0's multi_logloss: 0.430405\n",
            "[73]\tvalid_0's multi_logloss: 0.429588\n",
            "[74]\tvalid_0's multi_logloss: 0.428799\n",
            "[75]\tvalid_0's multi_logloss: 0.427598\n",
            "[76]\tvalid_0's multi_logloss: 0.426851\n",
            "[77]\tvalid_0's multi_logloss: 0.425336\n",
            "[78]\tvalid_0's multi_logloss: 0.424547\n",
            "[79]\tvalid_0's multi_logloss: 0.423426\n",
            "[80]\tvalid_0's multi_logloss: 0.422559\n",
            "[81]\tvalid_0's multi_logloss: 0.421749\n",
            "[82]\tvalid_0's multi_logloss: 0.420858\n",
            "[83]\tvalid_0's multi_logloss: 0.420119\n",
            "[84]\tvalid_0's multi_logloss: 0.419519\n",
            "[85]\tvalid_0's multi_logloss: 0.418912\n",
            "[86]\tvalid_0's multi_logloss: 0.418243\n",
            "[87]\tvalid_0's multi_logloss: 0.417632\n",
            "[88]\tvalid_0's multi_logloss: 0.416962\n",
            "[89]\tvalid_0's multi_logloss: 0.415964\n",
            "[90]\tvalid_0's multi_logloss: 0.415733\n",
            "[91]\tvalid_0's multi_logloss: 0.415216\n",
            "[92]\tvalid_0's multi_logloss: 0.414547\n",
            "[93]\tvalid_0's multi_logloss: 0.414099\n",
            "[94]\tvalid_0's multi_logloss: 0.413457\n",
            "[95]\tvalid_0's multi_logloss: 0.412643\n",
            "[96]\tvalid_0's multi_logloss: 0.412039\n",
            "[97]\tvalid_0's multi_logloss: 0.410705\n",
            "[98]\tvalid_0's multi_logloss: 0.410266\n",
            "[99]\tvalid_0's multi_logloss: 0.40962\n",
            "[100]\tvalid_0's multi_logloss: 0.409087\n"
          ]
        }
      ]
    },
    {
      "cell_type": "code",
      "source": [
        "# 오버샘플링 전\n",
        "from sklearn.metrics import accuracy_score\n",
        "\n",
        "print(accuracy_score(train_output, train_pred))\n",
        "print(accuracy_score(test_output, test_pred))"
      ],
      "metadata": {
        "colab": {
          "base_uri": "https://localhost:8080/"
        },
        "id": "9hCR_YiEg3GC",
        "outputId": "6011db9b-0bb9-45af-f919-2b3650826b52"
      },
      "execution_count": null,
      "outputs": [
        {
          "output_type": "stream",
          "name": "stdout",
          "text": [
            "0.9368919274257166\n",
            "0.8307045215562566\n"
          ]
        }
      ]
    },
    {
      "cell_type": "code",
      "source": [
        "plt.hist(test_output)\n",
        "plt.show()"
      ],
      "metadata": {
        "colab": {
          "base_uri": "https://localhost:8080/",
          "height": 430
        },
        "id": "L3n3Sg4RijDY",
        "outputId": "3e627be3-97c8-4430-8817-fe023009fa15"
      },
      "execution_count": null,
      "outputs": [
        {
          "output_type": "display_data",
          "data": {
            "text/plain": [
              "<Figure size 640x480 with 1 Axes>"
            ],
            "image/png": "[encoded data removed]"
          },
          "metadata": {}
        }
      ]
    },
    {
      "cell_type": "code",
      "source": [
        "plt.hist(test_pred)\n",
        "plt.show()"
      ],
      "metadata": {
        "colab": {
          "base_uri": "https://localhost:8080/",
          "height": 430
        },
        "id": "krhkeMVrimkv",
        "outputId": "e9b990a7-f036-456d-bb00-62b27a4b2dd8"
      },
      "execution_count": null,
      "outputs": [
        {
          "output_type": "display_data",
          "data": {
            "text/plain": [
              "<Figure size 640x480 with 1 Axes>"
            ],
            "image/png": "[encoded data removed]"
          },
          "metadata": {}
        }
      ]
    },
    {
      "cell_type": "markdown",
      "source": [
        "데이터를 균등하게 나눈 후에는 모든 데이터를 같은 라벨로 분류하지는 않지만 데이터 자체의 불균형 때문에 여전히 편향되어 있음을 볼 수 있다."
      ],
      "metadata": {
        "id": "8JM4YDR0v6ky"
      }
    },
    {
      "cell_type": "markdown",
      "source": [
        "## 오버샘플링 후"
      ],
      "metadata": {
        "id": "Gfjdf3BihCZf"
      }
    },
    {
      "cell_type": "code",
      "source": [
        "import numpy as np\n",
        "import pandas as pd\n",
        "import matplotlib.pyplot as plt\n",
        "\n",
        "### 데이터 로딩 ### \n",
        "train_dataset = pd.read_csv(path + 'data_processing/dataset_03/training/train_dataset_with_label_fill_user_mean.csv')\n",
        "valid_dataset = pd.read_csv(path + 'data_processing/dataset_03/validation/val_dataset_with_label_fill_user_mean.csv')\n",
        "\n",
        "train_output = train_dataset[['DIAG_NM']]\n",
        "train_input = train_dataset[['sleep_breath_average', 'sleep_hr_average', 'sleep_hr_lowest', 'sleep_restless', 'sleep_midpoint_at_delta', 'activity_cal_total', 'activity_met_min_inactive', 'activity_met_min_high', 'activity_score_meet_daily_targets', 'sleep_rem', 'sleep_light', 'activity_low', 'activity_rest', 'activity_met_min_medium']]\n",
        "\n",
        "test_output = valid_dataset[['DIAG_NM']]\n",
        "test_input = valid_dataset[['sleep_breath_average', 'sleep_hr_average', 'sleep_hr_lowest', 'sleep_restless', 'sleep_midpoint_at_delta', 'activity_cal_total', 'activity_met_min_inactive', 'activity_met_min_high', 'activity_score_meet_daily_targets', 'sleep_rem', 'sleep_light', 'activity_low', 'activity_rest', 'activity_met_min_medium']]"
      ],
      "metadata": {
        "id": "WDkH_8vCi1RB"
      },
      "execution_count": null,
      "outputs": []
    },
    {
      "cell_type": "code",
      "source": [
        "data_input = pd.concat([train_input, test_input], ignore_index=True)\n",
        "data_output = pd.concat([train_output, test_output], ignore_index=True)"
      ],
      "metadata": {
        "id": "OqUfCT5vi7gO"
      },
      "execution_count": null,
      "outputs": []
    },
    {
      "cell_type": "code",
      "source": [
        "from imblearn.over_sampling import SMOTE\n",
        "\n",
        "sm = SMOTE(random_state=42)\n",
        "\n",
        "data_input, data_output = sm.fit_resample(data_input, data_output)"
      ],
      "metadata": {
        "id": "lEsL4PLAbN9j"
      },
      "execution_count": null,
      "outputs": []
    },
    {
      "cell_type": "code",
      "source": [
        "# 오버샘플링 후\n",
        "import matplotlib.pyplot as plt\n",
        "\n",
        "plt.hist(data_output)\n",
        "plt.show()"
      ],
      "metadata": {
        "colab": {
          "base_uri": "https://localhost:8080/",
          "height": 430
        },
        "id": "y71cBzRGtUm-",
        "outputId": "b4347f92-d6b0-4812-e093-6f3783a91c66"
      },
      "execution_count": null,
      "outputs": [
        {
          "output_type": "display_data",
          "data": {
            "text/plain": [
              "<Figure size 640x480 with 1 Axes>"
            ],
            "image/png": "[encoded data removed]"
          },
          "metadata": {}
        }
      ]
    },
    {
      "cell_type": "code",
      "source": [
        "from sklearn.model_selection import train_test_split\n",
        "\n",
        "train_input, test_input, train_output, test_output = train_test_split(data_input, data_output, test_size=0.2, shuffle=True, stratify=data_output, random_state=42)"
      ],
      "metadata": {
        "id": "Gx4pvL26cY0Y"
      },
      "execution_count": null,
      "outputs": []
    },
    {
      "cell_type": "code",
      "source": [
        "### 레이블 인코딩 ### \n",
        "\n",
        "# 트리 기반 알고리즘에서는 숫자의 크기에 따른 중요도 차이가 없어 레이블 인코딩 OK\n",
        "# 선형적 특징을 가지는 알고리즘들은 one hot encoding 통해 해결해야 함\n",
        "\n",
        "from sklearn.preprocessing import LabelEncoder\n",
        "\n",
        "# 라벨인코더 선언 및 Fitting\n",
        "# CN : 0, Dem : 1, MCI : 2\n",
        "items = ['CN', 'Dem', 'MCI']\n",
        "encoder = LabelEncoder()\n",
        "encoder.fit(items)\n",
        "\n",
        "# train\n",
        "train_output['DIAG_NM'] = encoder.transform(train_output['DIAG_NM'])\n",
        "# display(encoder.classes_)\n",
        "# display(encoder.inverse_transform(train_output['DIAG_NM']))\n",
        "\n",
        "# test\n",
        "test_output['DIAG_NM'] = encoder.transform(test_output['DIAG_NM'])"
      ],
      "metadata": {
        "id": "9ijhKvNcomz5"
      },
      "execution_count": null,
      "outputs": []
    },
    {
      "cell_type": "code",
      "source": [
        "### Light GBM ###\n",
        "from lightgbm import LGBMClassifier\n",
        "\n",
        "LGBM = LGBMClassifier()\n",
        "evals = [(test_input, test_output)]\n",
        "LGBM.fit(train_input, train_output, early_stopping_rounds=100, eval_metric='logloss', eval_set=evals, verbose=True)\n",
        "test_pred = LGBM.predict(test_input)\n",
        "train_pred = LGBM.predict(train_input)\n",
        "# pred_proba = LGBM.predict_proba(test_input)[:1]"
      ],
      "metadata": {
        "colab": {
          "base_uri": "https://localhost:8080/"
        },
        "id": "9Fb_agHvqgGF",
        "outputId": "444b7d0f-371c-4565-e067-13bb201574f0"
      },
      "execution_count": null,
      "outputs": [
        {
          "output_type": "stream",
          "name": "stderr",
          "text": [
            "/usr/local/lib/python3.10/dist-packages/sklearn/preprocessing/_label.py:99: DataConversionWarning: A column-vector y was passed when a 1d array was expected. Please change the shape of y to (n_samples, ), for example using ravel().\n",
            "  y = column_or_1d(y, warn=True)\n",
            "/usr/local/lib/python3.10/dist-packages/sklearn/preprocessing/_label.py:134: DataConversionWarning: A column-vector y was passed when a 1d array was expected. Please change the shape of y to (n_samples, ), for example using ravel().\n",
            "  y = column_or_1d(y, dtype=self.classes_.dtype, warn=True)\n",
            "/usr/local/lib/python3.10/dist-packages/sklearn/preprocessing/_label.py:134: DataConversionWarning: A column-vector y was passed when a 1d array was expected. Please change the shape of y to (n_samples, ), for example using ravel().\n",
            "  y = column_or_1d(y, dtype=self.classes_.dtype, warn=True)\n",
            "/usr/local/lib/python3.10/dist-packages/lightgbm/sklearn.py:726: UserWarning: 'early_stopping_rounds' argument is deprecated and will be removed in a future release of LightGBM. Pass 'early_stopping()' callback via 'callbacks' argument instead.\n",
            "  _log_warning(\"'early_stopping_rounds' argument is deprecated and will be removed in a future release of LightGBM. \"\n",
            "/usr/local/lib/python3.10/dist-packages/lightgbm/sklearn.py:736: UserWarning: 'verbose' argument is deprecated and will be removed in a future release of LightGBM. Pass 'log_evaluation()' callback via 'callbacks' argument instead.\n",
            "  _log_warning(\"'verbose' argument is deprecated and will be removed in a future release of LightGBM. \"\n"
          ]
        },
        {
          "output_type": "stream",
          "name": "stdout",
          "text": [
            "[1]\tvalid_0's multi_logloss: 1.02697\n",
            "[2]\tvalid_0's multi_logloss: 0.965507\n",
            "[3]\tvalid_0's multi_logloss: 0.914313\n",
            "[4]\tvalid_0's multi_logloss: 0.869614\n",
            "[5]\tvalid_0's multi_logloss: 0.830668\n",
            "[6]\tvalid_0's multi_logloss: 0.795961\n",
            "[7]\tvalid_0's multi_logloss: 0.765406\n",
            "[8]\tvalid_0's multi_logloss: 0.738414\n",
            "[9]\tvalid_0's multi_logloss: 0.711481\n",
            "[10]\tvalid_0's multi_logloss: 0.689303\n",
            "[11]\tvalid_0's multi_logloss: 0.668811\n",
            "[12]\tvalid_0's multi_logloss: 0.648971\n",
            "[13]\tvalid_0's multi_logloss: 0.629731\n",
            "[14]\tvalid_0's multi_logloss: 0.612624\n",
            "[15]\tvalid_0's multi_logloss: 0.596759\n",
            "[16]\tvalid_0's multi_logloss: 0.582955\n",
            "[17]\tvalid_0's multi_logloss: 0.570208\n",
            "[18]\tvalid_0's multi_logloss: 0.558269\n",
            "[19]\tvalid_0's multi_logloss: 0.546332\n",
            "[20]\tvalid_0's multi_logloss: 0.53612\n",
            "[21]\tvalid_0's multi_logloss: 0.524778\n",
            "[22]\tvalid_0's multi_logloss: 0.515001\n",
            "[23]\tvalid_0's multi_logloss: 0.504882\n",
            "[24]\tvalid_0's multi_logloss: 0.495245\n",
            "[25]\tvalid_0's multi_logloss: 0.486467\n",
            "[26]\tvalid_0's multi_logloss: 0.477921\n",
            "[27]\tvalid_0's multi_logloss: 0.469908\n",
            "[28]\tvalid_0's multi_logloss: 0.462251\n",
            "[29]\tvalid_0's multi_logloss: 0.455026\n",
            "[30]\tvalid_0's multi_logloss: 0.448946\n",
            "[31]\tvalid_0's multi_logloss: 0.442561\n",
            "[32]\tvalid_0's multi_logloss: 0.436635\n",
            "[33]\tvalid_0's multi_logloss: 0.43128\n",
            "[34]\tvalid_0's multi_logloss: 0.425256\n",
            "[35]\tvalid_0's multi_logloss: 0.420282\n",
            "[36]\tvalid_0's multi_logloss: 0.415116\n",
            "[37]\tvalid_0's multi_logloss: 0.410886\n",
            "[38]\tvalid_0's multi_logloss: 0.405803\n",
            "[39]\tvalid_0's multi_logloss: 0.401583\n",
            "[40]\tvalid_0's multi_logloss: 0.397195\n",
            "[41]\tvalid_0's multi_logloss: 0.392981\n",
            "[42]\tvalid_0's multi_logloss: 0.389675\n",
            "[43]\tvalid_0's multi_logloss: 0.38599\n",
            "[44]\tvalid_0's multi_logloss: 0.382698\n",
            "[45]\tvalid_0's multi_logloss: 0.379226\n",
            "[46]\tvalid_0's multi_logloss: 0.376143\n",
            "[47]\tvalid_0's multi_logloss: 0.37261\n",
            "[48]\tvalid_0's multi_logloss: 0.369284\n",
            "[49]\tvalid_0's multi_logloss: 0.365591\n",
            "[50]\tvalid_0's multi_logloss: 0.362443\n",
            "[51]\tvalid_0's multi_logloss: 0.359793\n",
            "[52]\tvalid_0's multi_logloss: 0.357159\n",
            "[53]\tvalid_0's multi_logloss: 0.354657\n",
            "[54]\tvalid_0's multi_logloss: 0.351833\n",
            "[55]\tvalid_0's multi_logloss: 0.349814\n",
            "[56]\tvalid_0's multi_logloss: 0.347224\n",
            "[57]\tvalid_0's multi_logloss: 0.34554\n",
            "[58]\tvalid_0's multi_logloss: 0.343084\n",
            "[59]\tvalid_0's multi_logloss: 0.341423\n",
            "[60]\tvalid_0's multi_logloss: 0.339063\n",
            "[61]\tvalid_0's multi_logloss: 0.33748\n",
            "[62]\tvalid_0's multi_logloss: 0.33544\n",
            "[63]\tvalid_0's multi_logloss: 0.333688\n",
            "[64]\tvalid_0's multi_logloss: 0.331694\n",
            "[65]\tvalid_0's multi_logloss: 0.329812\n",
            "[66]\tvalid_0's multi_logloss: 0.32769\n",
            "[67]\tvalid_0's multi_logloss: 0.32562\n",
            "[68]\tvalid_0's multi_logloss: 0.32363\n",
            "[69]\tvalid_0's multi_logloss: 0.321625\n",
            "[70]\tvalid_0's multi_logloss: 0.320108\n",
            "[71]\tvalid_0's multi_logloss: 0.318503\n",
            "[72]\tvalid_0's multi_logloss: 0.316895\n",
            "[73]\tvalid_0's multi_logloss: 0.314497\n",
            "[74]\tvalid_0's multi_logloss: 0.312638\n",
            "[75]\tvalid_0's multi_logloss: 0.310916\n",
            "[76]\tvalid_0's multi_logloss: 0.308578\n",
            "[77]\tvalid_0's multi_logloss: 0.30683\n",
            "[78]\tvalid_0's multi_logloss: 0.305261\n",
            "[79]\tvalid_0's multi_logloss: 0.303922\n",
            "[80]\tvalid_0's multi_logloss: 0.30292\n",
            "[81]\tvalid_0's multi_logloss: 0.300804\n",
            "[82]\tvalid_0's multi_logloss: 0.299771\n",
            "[83]\tvalid_0's multi_logloss: 0.298583\n",
            "[84]\tvalid_0's multi_logloss: 0.297634\n",
            "[85]\tvalid_0's multi_logloss: 0.296169\n",
            "[86]\tvalid_0's multi_logloss: 0.29526\n",
            "[87]\tvalid_0's multi_logloss: 0.293949\n",
            "[88]\tvalid_0's multi_logloss: 0.292909\n",
            "[89]\tvalid_0's multi_logloss: 0.291977\n",
            "[90]\tvalid_0's multi_logloss: 0.290516\n",
            "[91]\tvalid_0's multi_logloss: 0.289101\n",
            "[92]\tvalid_0's multi_logloss: 0.28807\n",
            "[93]\tvalid_0's multi_logloss: 0.287256\n",
            "[94]\tvalid_0's multi_logloss: 0.286284\n",
            "[95]\tvalid_0's multi_logloss: 0.28515\n",
            "[96]\tvalid_0's multi_logloss: 0.283458\n",
            "[97]\tvalid_0's multi_logloss: 0.282509\n",
            "[98]\tvalid_0's multi_logloss: 0.281622\n",
            "[99]\tvalid_0's multi_logloss: 0.280332\n",
            "[100]\tvalid_0's multi_logloss: 0.279365\n"
          ]
        }
      ]
    },
    {
      "cell_type": "code",
      "source": [
        "# 오버샘플링 후\n",
        "from sklearn.metrics import accuracy_score\n",
        "\n",
        "print(accuracy_score(train_output, train_pred))\n",
        "print(accuracy_score(test_output, test_pred))"
      ],
      "metadata": {
        "colab": {
          "base_uri": "https://localhost:8080/"
        },
        "id": "laq1TasrexV_",
        "outputId": "f8e43666-b97d-4fd8-a562-a6ef9321a3db"
      },
      "execution_count": null,
      "outputs": [
        {
          "output_type": "stream",
          "name": "stdout",
          "text": [
            "0.9462973171628077\n",
            "0.9013230429988974\n"
          ]
        }
      ]
    },
    {
      "cell_type": "code",
      "source": [
        "plt.hist(test_output)\n",
        "plt.show()"
      ],
      "metadata": {
        "colab": {
          "base_uri": "https://localhost:8080/",
          "height": 430
        },
        "id": "53ZPhFbkjd8H",
        "outputId": "05514ff7-da66-4ae8-f871-07b7fbdfd562"
      },
      "execution_count": null,
      "outputs": [
        {
          "output_type": "display_data",
          "data": {
            "text/plain": [
              "<Figure size 640x480 with 1 Axes>"
            ],
            "image/png": "[encoded data removed]"
          },
          "metadata": {}
        }
      ]
    },
    {
      "cell_type": "code",
      "source": [
        "plt.hist(test_pred)\n",
        "plt.show()"
      ],
      "metadata": {
        "colab": {
          "base_uri": "https://localhost:8080/",
          "height": 435
        },
        "id": "zcGYYVw5jiL9",
        "outputId": "c859793a-c054-4f6a-eb62-9e4e6ebdc161"
      },
      "execution_count": null,
      "outputs": [
        {
          "output_type": "display_data",
          "data": {
            "text/plain": [
              "<Figure size 640x480 with 1 Axes>"
            ],
            "image/png": "[encoded data removed]"
          },
          "metadata": {}
        }
      ]
    },
    {
      "cell_type": "markdown",
      "source": [
        "SMOTE를 사용하여 데이터 불균형 문제를 해결하니 모델이 비교적 편향되지 않으며, accuracy가 향상된 것을 볼 수 있다."
      ],
      "metadata": {
        "id": "BOXmWy7ewLvU"
      }
    },
    {
      "cell_type": "code",
      "source": [
        "from lightgbm import plot_importance\n",
        "import matplotlib.pyplot as plt\n",
        "\n",
        "fig, ax = plt.subplots(figsize=(10, 12))\n",
        "plot_importance(LGBM, ax=ax)\n",
        "plt.show"
      ],
      "metadata": {
        "colab": {
          "base_uri": "https://localhost:8080/",
          "height": 1000
        },
        "id": "q2tLesBVqgI2",
        "outputId": "16d4ecb7-47b8-42b7-897b-f35c74ca50fa"
      },
      "execution_count": null,
      "outputs": [
        {
          "output_type": "execute_result",
          "data": {
            "text/plain": [
              "<function matplotlib.pyplot.show(close=None, block=None)>"
            ]
          },
          "metadata": {},
          "execution_count": 143
        },
        {
          "output_type": "display_data",
          "data": {
            "text/plain": [
              "<Figure size 1000x1200 with 1 Axes>"
            ],
            "image/png": "[encoded data removed]"
          },
          "metadata": {}
        }
      ]
    },
    {
      "cell_type": "code",
      "source": [
        "### Light GBM  + GridSearchCV ###\n",
        "from sklearn.model_selection import GridSearchCV\n",
        "from sklearn.metrics import f1_score\n",
        "\n",
        "param_grid = {\n",
        "    'boosting_type': ['gbdt'],\n",
        "    'max_depth' : [1, 2, 3, 4, 5],\n",
        "    'num_leaves' : [3, 4, 5, 6, 7],\n",
        "    'learning_rate' : [0.03, 0.05, 1.0, 0.2, 0.3],\n",
        "    'objective' : ['multiclass'],\n",
        "    'metric' : ['multi_logloss'],\n",
        "    'colsample_bytree': [0.5, 0.6, 0.7, 0.8, 0.9, 1.0],\n",
        "    'subsample' : [0.5, 0.6, 0.7, 0.8, 0.9, 1.0],\n",
        "    'n_estimators' : [5, 10, 15, 20],\n",
        "    'num_class' : [1]\n",
        "}\n",
        "\n",
        "LGBM = LGBMClassifier()\n",
        "grid_cv = GridSearchCV(LGBM, param_grid=param_grid, cv=3, scoring='f1_micro', n_jobs=4)\n",
        "grid_cv.fit(train_input, train_output)\n",
        "\n",
        "print(grid_cv.best_params_) \n",
        "print(grid_cv.best_score_)\n",
        "train_preds = grid_cv.predict(train_input)\n",
        "test_preds = grid_cv.predict(test_input)\n",
        "train_f1 = f1_score(train_output, train_preds, average='micro')\n",
        "test_f1 = f1_score(test_output, test_preds, average='micro')\n",
        "# {'boosting_type': 'gbdt', 'colsample_bytree': 0.9, 'learning_rate': 0.03, 'max_depth': 3, 'metric': 'multi_logloss', 'n_estimators': 10, 'num_class': 1, 'num_leaves': 6, 'objective': 'multiclass', 'subsample': 0.5}\n",
        "print(\"Train F1 Score:\", train_f1) # Train F1 Score: 0.5991665728122536\n",
        "print(\"Test F1 Score:\", test_f1) # Test F1 Score: 0.7924195680916704"
      ],
      "metadata": {
        "id": "lbGxWTTyvFN7"
      },
      "execution_count": null,
      "outputs": []
    },
    {
      "cell_type": "code",
      "source": [
        "print(grid_cv.score(train_input, train_output)) # 0.5991665728122536\n",
        "print(grid_cv.score(test_input, test_output)) # 0.7924195680916704"
      ],
      "metadata": {
        "id": "k8BN_Fm_BEuq"
      },
      "execution_count": null,
      "outputs": []
    },
    {
      "cell_type": "code",
      "source": [],
      "metadata": {
        "id": "h2vf05JaBL8Y"
      },
      "execution_count": null,
      "outputs": []
    }
  ]
}