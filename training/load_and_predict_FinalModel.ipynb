{
  "nbformat": 4,
  "nbformat_minor": 0,
  "metadata": {
    "colab": {
      "provenance": []
    },
    "kernelspec": {
      "name": "python3",
      "display_name": "Python 3"
    },
    "language_info": {
      "name": "python"
    }
  },
  "cells": [
    {
      "cell_type": "code",
      "source": [
        "from google.colab import drive\n",
        "drive.mount('/content/drive')"
      ],
      "metadata": {
        "colab": {
          "base_uri": "https://localhost:8080/"
        },
        "id": "n_u1MIDKVxOT",
        "outputId": "11eedf82-31cf-4c53-ac48-e9b7f7474c2c"
      },
      "execution_count": 1,
      "outputs": [
        {
          "output_type": "stream",
          "name": "stdout",
          "text": [
            "Mounted at /content/drive\n"
          ]
        }
      ]
    },
    {
      "cell_type": "code",
      "execution_count": 2,
      "metadata": {
        "id": "dttYrN1ZVnNZ"
      },
      "outputs": [],
      "source": [
        "import joblib\n",
        "import numpy as np\n",
        "import pandas as pd\n",
        "import matplotlib.pyplot as plt\n",
        "\n",
        "### 데이터 로딩 ###\n",
        "dataset = pd.read_csv('/content/drive/MyDrive/빅데이터 팀플/dementia_analytics/data_processing/dataset_05/dataset_with_label_fill_user_mean.csv')\n",
        "\n",
        "data_output = dataset[['DIAG_NM']]\n",
        "data_input = dataset[['sleep_breath_average', 'sleep_hr_average', 'sleep_hr_lowest', 'sleep_deep', 'sleep_rem', 'activity_cal_total', 'sleep_awake', 'activity_steps', 'activity_total', 'sleep_duration', 'activity_daily_movement']]\n",
        "\n",
        "### train test split ###\n",
        "from sklearn.model_selection import train_test_split\n",
        "\n",
        "train_input, test_input, train_output, test_output = train_test_split(data_input, data_output, test_size=0.2, shuffle=True, stratify=data_output, random_state=42)\n",
        "\n",
        "### test_output 레이블 인코딩 ###\n",
        "from sklearn.preprocessing import LabelEncoder\n",
        "\n",
        "# 라벨인코더 선언 및 Fitting\n",
        "# CN : 0, Dem : 1, MCI : 2\n",
        "items = ['CN', 'Dem', 'MCI']\n",
        "encoder = LabelEncoder()\n",
        "encoder = encoder.fit(items)\n",
        "\n",
        "test_output['DIAG_NM'] = encoder.transform(test_output['DIAG_NM'])"
      ]
    },
    {
      "cell_type": "code",
      "source": [
        "test_output.shape"
      ],
      "metadata": {
        "colab": {
          "base_uri": "https://localhost:8080/"
        },
        "id": "cjV4uvzXYvGW",
        "outputId": "545b3490-8bd7-4874-e7dc-c1846553f472"
      },
      "execution_count": 3,
      "outputs": [
        {
          "output_type": "execute_result",
          "data": {
            "text/plain": [
              "(2278, 1)"
            ]
          },
          "metadata": {},
          "execution_count": 3
        }
      ]
    },
    {
      "cell_type": "code",
      "source": [
        "loaded_scaler = joblib.load('/content/drive/MyDrive/빅데이터 팀플/model/final_lgbm_scaler.pkl')\n",
        "loaded_model = joblib.load('/content/drive/MyDrive/빅데이터 팀플/model/final_lgbm_model.pkl')\n",
        "for k in range(2278):\n",
        "  pred = loaded_model.predict(loaded_scaler.transform(test_input[k:k+1]))\n",
        "  if k % 100 == 0: # 몇 개만 출력해 확인\n",
        "    print(k, \"번째:\")\n",
        "    print(\"예측:\", pred)\n",
        "    print(\"실제:\", list(test_output[k:k+1]['DIAG_NM']))\n",
        "    print()\n",
        "    # print(test_input.head())\n",
        "    # print(test_output.head())"
      ],
      "metadata": {
        "colab": {
          "base_uri": "https://localhost:8080/"
        },
        "id": "BhgBGv99WLpN",
        "outputId": "3ef8c335-b638-4ea8-8a06-db19c764bd24"
      },
      "execution_count": 4,
      "outputs": [
        {
          "output_type": "stream",
          "name": "stdout",
          "text": [
            "0 번째:\n",
            "예측: [0]\n",
            "실제: [0]\n",
            "\n",
            "100 번째:\n",
            "예측: [0]\n",
            "실제: [2]\n",
            "\n",
            "200 번째:\n",
            "예측: [2]\n",
            "실제: [2]\n",
            "\n",
            "300 번째:\n",
            "예측: [0]\n",
            "실제: [0]\n",
            "\n",
            "400 번째:\n",
            "예측: [0]\n",
            "실제: [0]\n",
            "\n",
            "500 번째:\n",
            "예측: [0]\n",
            "실제: [0]\n",
            "\n",
            "600 번째:\n",
            "예측: [2]\n",
            "실제: [2]\n",
            "\n",
            "700 번째:\n",
            "예측: [0]\n",
            "실제: [0]\n",
            "\n",
            "800 번째:\n",
            "예측: [2]\n",
            "실제: [2]\n",
            "\n",
            "900 번째:\n",
            "예측: [0]\n",
            "실제: [0]\n",
            "\n",
            "1000 번째:\n",
            "예측: [0]\n",
            "실제: [0]\n",
            "\n",
            "1100 번째:\n",
            "예측: [2]\n",
            "실제: [0]\n",
            "\n",
            "1200 번째:\n",
            "예측: [0]\n",
            "실제: [2]\n",
            "\n",
            "1300 번째:\n",
            "예측: [1]\n",
            "실제: [1]\n",
            "\n",
            "1400 번째:\n",
            "예측: [0]\n",
            "실제: [0]\n",
            "\n",
            "1500 번째:\n",
            "예측: [2]\n",
            "실제: [2]\n",
            "\n",
            "1600 번째:\n",
            "예측: [2]\n",
            "실제: [2]\n",
            "\n",
            "1700 번째:\n",
            "예측: [0]\n",
            "실제: [0]\n",
            "\n",
            "1800 번째:\n",
            "예측: [0]\n",
            "실제: [0]\n",
            "\n",
            "1900 번째:\n",
            "예측: [2]\n",
            "실제: [2]\n",
            "\n",
            "2000 번째:\n",
            "예측: [2]\n",
            "실제: [2]\n",
            "\n",
            "2100 번째:\n",
            "예측: [2]\n",
            "실제: [0]\n",
            "\n",
            "2200 번째:\n",
            "예측: [0]\n",
            "실제: [0]\n",
            "\n"
          ]
        }
      ]
    },
    {
      "cell_type": "code",
      "source": [],
      "metadata": {
        "id": "IO1AORPSYyHH"
      },
      "execution_count": 4,
      "outputs": []
    }
  ]
}