{
  "nbformat": 4,
  "nbformat_minor": 0,
  "metadata": {
    "colab": {
      "provenance": []
    },
    "kernelspec": {
      "name": "python3",
      "display_name": "Python 3"
    },
    "language_info": {
      "name": "python"
    }
  },
  "cells": [
    {
      "cell_type": "code",
      "source": [
        "from google.colab import drive\n",
        "drive.mount('/content/drive')"
      ],
      "metadata": {
        "colab": {
          "base_uri": "https://localhost:8080/"
        },
        "id": "n_u1MIDKVxOT",
        "outputId": "33e75241-7c55-4412-e92e-5e82513e0fdd"
      },
      "execution_count": null,
      "outputs": [
        {
          "output_type": "stream",
          "name": "stdout",
          "text": [
            "Mounted at /content/drive\n"
          ]
        }
      ]
    },
    {
      "cell_type": "code",
      "execution_count": null,
      "metadata": {
        "id": "dttYrN1ZVnNZ"
      },
      "outputs": [],
      "source": [
        "import joblib\n",
        "import numpy as np\n",
        "import pandas as pd\n",
        "import matplotlib.pyplot as plt\n",
        "\n",
        "### 데이터 로딩 ###\n",
        "dataset = pd.read_csv('/content/drive/MyDrive/빅데이터 팀플/dementia_analytics/data_processing/dataset_05/dataset_with_label_fill_user_mean.csv')\n",
        "\n",
        "data_output = dataset[['DIAG_NM']]\n",
        "data_input = dataset[['sleep_breath_average', 'sleep_hr_average', 'sleep_hr_lowest', 'sleep_deep', 'sleep_rem', 'activity_cal_total', 'sleep_awake', 'activity_steps', 'activity_total', 'sleep_duration', 'activity_daily_movement']]\n",
        "\n",
        "### train test split ###\n",
        "from sklearn.model_selection import train_test_split\n",
        "\n",
        "train_input, test_input, train_output, test_output = train_test_split(data_input, data_output, test_size=0.2, shuffle=True, stratify=data_output, random_state=42)\n",
        "\n",
        "### test_output 레이블 인코딩 ###\n",
        "from sklearn.preprocessing import LabelEncoder\n",
        "\n",
        "# 라벨인코더 선언 및 Fitting\n",
        "# CN : 0, Dem : 1, MCI : 2\n",
        "items = ['CN', 'Dem', 'MCI']\n",
        "encoder = LabelEncoder()\n",
        "encoder = encoder.fit(items)\n",
        "\n",
        "test_output['DIAG_NM'] = encoder.transform(test_output['DIAG_NM'])"
      ]
    },
    {
      "cell_type": "code",
      "source": [
        "test_output.shape"
      ],
      "metadata": {
        "colab": {
          "base_uri": "https://localhost:8080/"
        },
        "id": "cjV4uvzXYvGW",
        "outputId": "6c058ab4-52e3-4b32-dbda-a3a522dbbc0f"
      },
      "execution_count": null,
      "outputs": [
        {
          "output_type": "execute_result",
          "data": {
            "text/plain": [
              "(2278, 1)"
            ]
          },
          "metadata": {},
          "execution_count": 3
        }
      ]
    },
    {
      "cell_type": "code",
      "source": [
        "loaded_scaler = joblib.load('/content/drive/MyDrive/빅데이터 팀플/model/final_lgbm_scaler.pkl')\n",
        "loaded_model = joblib.load('/content/drive/MyDrive/빅데이터 팀플/model/final_lgbm_model.pkl')\n",
        "for k in range(2278):\n",
        "  pred = loaded_model.predict(loaded_scaler.transform(test_input[k:k+1]))\n",
        "  if k % 100 == 0: # 몇 개만 출력해 확인\n",
        "    print(k, \"번째:\")\n",
        "    print(\"예측:\", pred)\n",
        "    print(\"실제:\", list(test_output[k:k+1]['DIAG_NM']))\n",
        "    print()\n",
        "    # print(test_input.head())\n",
        "    # print(test_output.head())"
      ],
      "metadata": {
        "colab": {
          "base_uri": "https://localhost:8080/"
        },
        "id": "BhgBGv99WLpN",
        "outputId": "5c266b90-52c2-4544-c66f-6868ab76e74a"
      },
      "execution_count": null,
      "outputs": [
        {
          "output_type": "stream",
          "name": "stdout",
          "text": [
            "0 번째:\n",
            "예측: [0]\n",
            "실제: [0]\n",
            "\n",
            "100 번째:\n",
            "예측: [0]\n",
            "실제: [2]\n",
            "\n",
            "200 번째:\n",
            "예측: [2]\n",
            "실제: [2]\n",
            "\n",
            "300 번째:\n",
            "예측: [0]\n",
            "실제: [0]\n",
            "\n",
            "400 번째:\n",
            "예측: [0]\n",
            "실제: [0]\n",
            "\n",
            "500 번째:\n",
            "예측: [0]\n",
            "실제: [0]\n",
            "\n",
            "600 번째:\n",
            "예측: [2]\n",
            "실제: [2]\n",
            "\n",
            "700 번째:\n",
            "예측: [0]\n",
            "실제: [0]\n",
            "\n",
            "800 번째:\n",
            "예측: [2]\n",
            "실제: [2]\n",
            "\n",
            "900 번째:\n",
            "예측: [0]\n",
            "실제: [0]\n",
            "\n",
            "1000 번째:\n",
            "예측: [0]\n",
            "실제: [0]\n",
            "\n",
            "1100 번째:\n",
            "예측: [2]\n",
            "실제: [0]\n",
            "\n",
            "1200 번째:\n",
            "예측: [0]\n",
            "실제: [2]\n",
            "\n",
            "1300 번째:\n",
            "예측: [1]\n",
            "실제: [1]\n",
            "\n",
            "1400 번째:\n",
            "예측: [0]\n",
            "실제: [0]\n",
            "\n",
            "1500 번째:\n",
            "예측: [2]\n",
            "실제: [2]\n",
            "\n",
            "1600 번째:\n",
            "예측: [2]\n",
            "실제: [2]\n",
            "\n",
            "1700 번째:\n",
            "예측: [0]\n",
            "실제: [0]\n",
            "\n",
            "1800 번째:\n",
            "예측: [0]\n",
            "실제: [0]\n",
            "\n",
            "1900 번째:\n",
            "예측: [2]\n",
            "실제: [2]\n",
            "\n",
            "2000 번째:\n",
            "예측: [2]\n",
            "실제: [2]\n",
            "\n",
            "2100 번째:\n",
            "예측: [2]\n",
            "실제: [0]\n",
            "\n",
            "2200 번째:\n",
            "예측: [0]\n",
            "실제: [0]\n",
            "\n"
          ]
        }
      ]
    },
    {
      "cell_type": "code",
      "source": [
        "test_output[k:k+1]['DIAG_NM'] == 2"
      ],
      "metadata": {
        "colab": {
          "base_uri": "https://localhost:8080/"
        },
        "id": "uGF7UmAC1qH-",
        "outputId": "ad3ba5b0-d8ae-40f6-c040-3b4932ea6cca"
      },
      "execution_count": null,
      "outputs": [
        {
          "output_type": "execute_result",
          "data": {
            "text/plain": [
              "7592    False\n",
              "Name: DIAG_NM, dtype: bool"
            ]
          },
          "metadata": {},
          "execution_count": 19
        }
      ]
    },
    {
      "cell_type": "code",
      "source": [
        "loaded_scaler = joblib.load('/content/drive/MyDrive/빅데이터 팀플/model/final_lgbm_scaler.pkl')\n",
        "loaded_model = joblib.load('/content/drive/MyDrive/빅데이터 팀플/model/final_lgbm_model.pkl')\n",
        "\n",
        "cnt02 = 0\n",
        "cnt01 = 0\n",
        "cnt12 = 0\n",
        "\n",
        "for k in range(2278):\n",
        "  pred = loaded_model.predict(loaded_scaler.transform(test_input[k:k+1]))\n",
        "  actual = list(test_output[k:k+1]['DIAG_NM'])\n",
        "  if actual != pred: # 몇 개만 출력해 확인\n",
        "    if (pred+actual)==2:\n",
        "      cnt02+=1\n",
        "    elif (pred+actual)==1:\n",
        "      cnt01+=1\n",
        "    else:\n",
        "      cnt12+=1\n",
        "\n",
        "print(\"정상과 경도인지장애 혼동 :\", cnt02)\n",
        "print(\"정상과 치매 혼동 :\", cnt01)\n",
        "print(\"경도인지장애와 치매 혼동 :\", cnt12)"
      ],
      "metadata": {
        "colab": {
          "base_uri": "https://localhost:8080/"
        },
        "id": "ni46IZCR0PqV",
        "outputId": "2a41b28b-9f14-4a6d-a7ce-9f13383e3719"
      },
      "execution_count": null,
      "outputs": [
        {
          "output_type": "stream",
          "name": "stdout",
          "text": [
            "정상과 경도인지장애 혼동 : 436\n",
            "정상과 치매 혼동 : 56\n",
            "경도인지장애와 치매 혼동 : 26\n"
          ]
        }
      ]
    },
    {
      "cell_type": "code",
      "source": [
        "from sklearn.metrics import accuracy_score, precision_score, recall_score, f1_score\n",
        "\n",
        "test_pred = loaded_model.predict(loaded_scaler.transform(test_input))\n",
        "\n",
        "# 정확도 계산\n",
        "accuracy = accuracy_score(test_output, test_pred)\n",
        "print(\"Accuracy:\", accuracy)\n",
        "\n",
        "# 정밀도 계산\n",
        "precision = precision_score(test_output, test_pred, average='macro')\n",
        "print(\"Precision:\", precision)\n",
        "\n",
        "# 재현율 계산\n",
        "recall = recall_score(test_output, test_pred, average='macro')\n",
        "print(\"Recall:\", recall)\n",
        "\n",
        "# F1 스코어 계산\n",
        "f1 = f1_score(test_output, test_pred, average='macro')\n",
        "print(\"F1 Score:\", f1)"
      ],
      "metadata": {
        "id": "5xxB0_LLAkJc",
        "outputId": "15f2da91-d3c4-4aab-97c3-343eb90d5845",
        "colab": {
          "base_uri": "https://localhost:8080/"
        }
      },
      "execution_count": null,
      "outputs": [
        {
          "output_type": "stream",
          "name": "stdout",
          "text": [
            "Accuracy: 0.7726075504828798\n",
            "Precision: 0.7308847434425226\n",
            "Recall: 0.7808662772477639\n",
            "F1 Score: 0.7526889999748554\n"
          ]
        }
      ]
    },
    {
      "cell_type": "code",
      "source": [
        "\n"
      ],
      "metadata": {
        "id": "IO1AORPSYyHH"
      },
      "execution_count": null,
      "outputs": []
    }
  ]
}