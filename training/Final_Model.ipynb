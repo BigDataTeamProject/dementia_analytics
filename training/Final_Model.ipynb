{
  "nbformat": 4,
  "nbformat_minor": 0,
  "metadata": {
    "colab": {
      "provenance": []
    },
    "kernelspec": {
      "name": "python3",
      "display_name": "Python 3"
    },
    "language_info": {
      "name": "python"
    }
  },
  "cells": [
    {
      "cell_type": "code",
      "source": [
        "from google.colab import drive\n",
        "drive.mount('/content/drive')"
      ],
      "metadata": {
        "colab": {
          "base_uri": "https://localhost:8080/"
        },
        "id": "LfRGf5MCYeIN",
        "outputId": "fd4786bc-2b69-4f70-ba24-31e467eec557"
      },
      "execution_count": 1,
      "outputs": [
        {
          "output_type": "stream",
          "name": "stdout",
          "text": [
            "Mounted at /content/drive\n"
          ]
        }
      ]
    },
    {
      "cell_type": "code",
      "source": [
        "import numpy as np\n",
        "import pandas as pd\n",
        "import matplotlib.pyplot as plt\n",
        "\n",
        "### 데이터 로딩 ###\n",
        "dataset = pd.read_csv('/content/drive/MyDrive/빅데이터 팀플/dementia_analytics/data_processing/dataset_05/dataset_with_label_fill_user_mean.csv')\n",
        "data_output = dataset[['DIAG_NM']]\n",
        "# data_input에서 score 가 들어가는 column 등 필요 없는 column 제거\n",
        "data_input = dataset.drop(['DIAG_NM', 'ID', 'date'], axis=1)\n",
        "columns_to_drop = [col for col in data_input.columns if 'score' in col]\n",
        "data_input = data_input[['sleep_breath_average', 'sleep_hr_average', 'sleep_hr_lowest', 'sleep_deep', 'sleep_rem', 'activity_cal_total', 'sleep_awake', 'activity_steps', 'activity_total', 'sleep_duration', 'activity_daily_movement']]\n",
        "# KeyError: \"['sleep_bedtime_end', 'sleep_bedtime_start', 'sleep_hr_5min'] not in index\"\n",
        "#'activity_cal_active', \n",
        "#  'activity_met_min_inactive', 'activity_high', 'sleep_efficiency', 'activity_rest', 'activity_met_min_low', 'activity_inactive', 'activity_medium', 'activity_low', 'activity_met_min_medium', 'activity_met_min_high'"
      ],
      "metadata": {
        "id": "r2q9IjHHYhlW"
      },
      "execution_count": 2,
      "outputs": []
    },
    {
      "cell_type": "code",
      "source": [
        "from sklearn.model_selection import train_test_split\n",
        "\n",
        "train_input, test_input, train_output, test_output = train_test_split(data_input, data_output, test_size=0.2, shuffle=True, stratify=data_output, random_state=42)"
      ],
      "metadata": {
        "id": "5VbvZwZpYeOj"
      },
      "execution_count": 3,
      "outputs": []
    },
    {
      "cell_type": "code",
      "source": [
        "from sklearn.preprocessing import MinMaxScaler\n",
        "\n",
        "scaler = MinMaxScaler(feature_range=(0, 1))\n",
        "scaler_fit = scaler.fit(train_input)\n",
        "train_input = scaler_fit.transform(train_input)\n",
        "test_input = scaler_fit.transform(test_input)"
      ],
      "metadata": {
        "id": "9wNxc7ChYlUZ"
      },
      "execution_count": 4,
      "outputs": []
    },
    {
      "cell_type": "code",
      "source": [
        "### 레이블 인코딩 ### \n",
        "\n",
        "# 트리 기반 알고리즘에서는 숫자의 크기에 따른 중요도 차이가 없어 레이블 인코딩 OK\n",
        "# 선형적 특징을 가지는 알고리즘들은 one hot encoding 통해 해결해야 함\n",
        "\n",
        "from sklearn.preprocessing import LabelEncoder\n",
        "\n",
        "# 라벨인코더 선언 및 Fitting\n",
        "# CN : 0, Dem : 1, MCI : 2\n",
        "items = ['CN', 'Dem', 'MCI']\n",
        "encoder = LabelEncoder()\n",
        "encoder = encoder.fit(items)\n",
        "\n",
        "# train\n",
        "train_output['DIAG_NM'] = encoder.transform(train_output['DIAG_NM'])\n",
        "# display(encoder.classes_)\n",
        "# display(encoder.inverse_transform(train_output['DIAG_NM']))\n",
        "\n",
        "# test\n",
        "test_output['DIAG_NM'] = encoder.transform(test_output['DIAG_NM'])"
      ],
      "metadata": {
        "id": "OcdmVfSQYmtP"
      },
      "execution_count": 5,
      "outputs": []
    },
    {
      "cell_type": "code",
      "execution_count": 6,
      "metadata": {
        "colab": {
          "base_uri": "https://localhost:8080/"
        },
        "id": "BtpISa0AYS65",
        "outputId": "b781cfb0-be0a-4adb-d6c4-b8ddbd52465d"
      },
      "outputs": [
        {
          "output_type": "stream",
          "name": "stdout",
          "text": [
            "1.0\n",
            "0.8208955223880597\n"
          ]
        }
      ],
      "source": [
        "from xgboost import XGBClassifier\n",
        "from sklearn.metrics import accuracy_score\n",
        "\n",
        "XGB = XGBClassifier(colsample_bytree=0.9,\n",
        "                    gamma=0,\n",
        "                    n_estimators=500,\n",
        "                    learning_rate=0.15, \n",
        "                    max_depth=15, \n",
        "                    random_state=42)\n",
        "\n",
        "XGB.fit(train_input, train_output)\n",
        "\n",
        "train_pred = XGB.predict(train_input)\n",
        "test_pred = XGB.predict(test_input)\n",
        "print(accuracy_score(train_pred, train_output))\n",
        "print(accuracy_score(test_pred, test_output))"
      ]
    },
    {
      "cell_type": "code",
      "source": [
        "from sklearn.metrics import accuracy_score, precision_score, recall_score, f1_score\n",
        "\n",
        "# 정확도 계산\n",
        "accuracy = accuracy_score(test_output, test_pred)\n",
        "print(\"Accuracy:\", accuracy)\n",
        "\n",
        "# 정밀도 계산\n",
        "precision = precision_score(test_output, test_pred, average='macro')\n",
        "print(\"Precision:\", precision)\n",
        "\n",
        "# 재현율 계산\n",
        "recall = recall_score(test_output, test_pred, average='macro')\n",
        "print(\"Recall:\", recall)\n",
        "\n",
        "# F1 스코어 계산\n",
        "f1 = f1_score(test_output, test_pred, average='macro')\n",
        "print(\"F1 Score:\", f1)"
      ],
      "metadata": {
        "colab": {
          "base_uri": "https://localhost:8080/"
        },
        "id": "IzrclS5hZLpr",
        "outputId": "5ad0582d-d9d8-45b4-8916-81d2c7f1e971"
      },
      "execution_count": 7,
      "outputs": [
        {
          "output_type": "stream",
          "name": "stdout",
          "text": [
            "Accuracy: 0.8208955223880597\n",
            "Precision: 0.8339416122334137\n",
            "Recall: 0.7613286137269307\n",
            "F1 Score: 0.7917878178903573\n"
          ]
        }
      ]
    },
    {
      "cell_type": "code",
      "source": [
        "import joblib\n",
        "\n",
        "joblib.dump(scaler_fit, '/content/drive/MyDrive/빅데이터 팀플/model/final_xgb_scaler.pkl')"
      ],
      "metadata": {
        "colab": {
          "base_uri": "https://localhost:8080/"
        },
        "id": "jWzOUbZuZC0o",
        "outputId": "8fe88e5d-8c36-4697-db69-1a14117913cf"
      },
      "execution_count": 8,
      "outputs": [
        {
          "output_type": "execute_result",
          "data": {
            "text/plain": [
              "['/content/drive/MyDrive/빅데이터 팀플/model/final_xgb_scaler.pkl']"
            ]
          },
          "metadata": {},
          "execution_count": 8
        }
      ]
    },
    {
      "cell_type": "code",
      "source": [
        "import joblib\n",
        "\n",
        "joblib.dump(XGB, '/content/drive/MyDrive/빅데이터 팀플/model/final_xgb_model.pkl')"
      ],
      "metadata": {
        "colab": {
          "base_uri": "https://localhost:8080/"
        },
        "id": "h5ldK-viZC_X",
        "outputId": "ed5991ba-7459-4f0e-d7e5-7026ed128d0f"
      },
      "execution_count": 9,
      "outputs": [
        {
          "output_type": "execute_result",
          "data": {
            "text/plain": [
              "['/content/drive/MyDrive/빅데이터 팀플/model/final_xgb_model.pkl']"
            ]
          },
          "metadata": {},
          "execution_count": 9
        }
      ]
    },
    {
      "cell_type": "code",
      "source": [],
      "metadata": {
        "id": "jqhIWBbnZNxU"
      },
      "execution_count": 9,
      "outputs": []
    }
  ]
}