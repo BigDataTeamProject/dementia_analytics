{
  "nbformat": 4,
  "nbformat_minor": 0,
  "metadata": {
    "colab": {
      "provenance": []
    },
    "kernelspec": {
      "name": "python3",
      "display_name": "Python 3"
    },
    "language_info": {
      "name": "python"
    }
  },
  "cells": [
    {
      "cell_type": "markdown",
      "source": [
        "# NaiveBayse\n",
        "## 분류"
      ],
      "metadata": {
        "id": "i6QUecY1pvrW"
      }
    },
    {
      "cell_type": "code",
      "execution_count": null,
      "metadata": {
        "colab": {
          "base_uri": "https://localhost:8080/"
        },
        "id": "iNyh7NAipXCy",
        "outputId": "25d47b0d-fe29-4cfe-ddee-d8ff22734e95"
      },
      "outputs": [
        {
          "output_type": "stream",
          "name": "stdout",
          "text": [
            "Mounted at /content/drive\n"
          ]
        }
      ],
      "source": [
        "from google.colab import drive\n",
        "drive.mount('/content/drive')"
      ]
    },
    {
      "cell_type": "code",
      "source": [
        "path=\"/content/drive/MyDrive/빅데이터 팀플/dementia_analytics/\""
      ],
      "metadata": {
        "id": "cP9_cpVN1h7d"
      },
      "execution_count": null,
      "outputs": []
    },
    {
      "cell_type": "code",
      "source": [
        "import numpy as np\n",
        "import pandas as pd\n",
        "import matplotlib.pyplot as plt\n",
        "\n",
        "### 데이터 로딩 ### \n",
        "\n",
        "# train data loading\n",
        "train_dataset_label = pd.read_csv(path + 'data_processing/dataset_01/training/label/train_dataset_label.csv')\n",
        "train_dataset = pd.read_csv(path + 'data_processing/dataset_01/training/source/train_dataset_remove_nan.csv')\n",
        "\n",
        "# train_output 을 DIAG_NM 하나의 col 만 가지는 data frame으로\n",
        "train_output = pd.merge(train_dataset_label, train_dataset, on='ID')[['DIAG_NM']]\n",
        "\n",
        "# train_input에서 'date' 와 'ID' column 제거\n",
        "train_input = train_dataset.drop(train_dataset.columns[0], axis=1)\n",
        "train_input = train_input.drop(train_input.columns[0], axis=1)\n",
        "\n",
        "# test data loading\n",
        "test_dataset_label = pd.read_csv(path +'data_processing/dataset_01/validation/label/val_dataset_label.csv')\n",
        "test_dataset = pd.read_csv(path +'data_processing/dataset_01/validation/source/val_dataset_remove_nan.csv')\n",
        "\n",
        "# test_output 을 DIAG_NM 하나의 col 만 가지는 data frame으로\n",
        "test_output = pd.merge(test_dataset_label, test_dataset, on='ID')[['DIAG_NM']]\n",
        "\n",
        "# test_input에서 'date' 와 'ID' column 제거 \n",
        "test_input = test_dataset.drop(test_dataset.columns[0], axis=1)\n",
        "test_input = test_input.drop(test_input.columns[0], axis=1)\n",
        "\n",
        "### 레이블 인코딩 ### \n",
        "\n",
        "# 트리 기반 알고리즘에서는 숫자의 크기에 따른 중요도 차이가 없어 레이블 인코딩 OK\n",
        "# 선형적 특징을 가지는 알고리즘들은 one hot encoding 통해 해결해야 함\n",
        "\n",
        "from sklearn.preprocessing import LabelEncoder\n",
        "\n",
        "# 라벨인코더 선언 및 Fitting\n",
        "# CN : 0, Dem : 1, MCI : 2\n",
        "items = ['CN', 'Dem', 'MCI']\n",
        "encoder = LabelEncoder()\n",
        "encoder.fit(items)\n",
        "\n",
        "# train\n",
        "train_output['DIAG_NM'] = encoder.transform(train_output['DIAG_NM'])\n",
        "# display(encoder.classes_)\n",
        "# display(encoder.inverse_transform(train_output['DIAG_NM']))\n",
        "\n",
        "# test\n",
        "test_output['DIAG_NM'] = encoder.transform(test_output['DIAG_NM'])"
      ],
      "metadata": {
        "id": "B5isj1bG1i16"
      },
      "execution_count": null,
      "outputs": []
    },
    {
      "cell_type": "code",
      "source": [
        "### Naive Bayes ### \n",
        "from sklearn.naive_bayes import GaussianNB\n",
        "from sklearn.metrics import accuracy_score\n",
        "\n",
        "GNB = GaussianNB()\n",
        "\n",
        "GNB.fit(train_input, train_output)\n",
        "train_pred = GNB.predict(train_input)\n",
        "test_pred = GNB.predict(test_input)\n",
        "print(accuracy_score(train_output, train_pred))\n",
        "print(accuracy_score(test_output, test_pred))"
      ],
      "metadata": {
        "colab": {
          "base_uri": "https://localhost:8080/"
        },
        "id": "EXPJHTVs1kIx",
        "outputId": "5d274d69-3e1b-47c2-e99e-ba516de9d1d5"
      },
      "execution_count": null,
      "outputs": [
        {
          "output_type": "stream",
          "name": "stdout",
          "text": [
            "0.5812591508052709\n",
            "0.5134420449537241\n"
          ]
        },
        {
          "output_type": "stream",
          "name": "stderr",
          "text": [
            "/usr/local/lib/python3.9/dist-packages/sklearn/utils/validation.py:1143: DataConversionWarning: A column-vector y was passed when a 1d array was expected. Please change the shape of y to (n_samples, ), for example using ravel().\n",
            "  y = column_or_1d(y, warn=True)\n"
          ]
        }
      ]
    },
    {
      "cell_type": "code",
      "source": [],
      "metadata": {
        "id": "yF3F0bFW1kNr"
      },
      "execution_count": null,
      "outputs": []
    }
  ]
}